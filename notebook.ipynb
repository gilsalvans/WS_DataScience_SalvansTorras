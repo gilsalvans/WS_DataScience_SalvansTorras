{
 "cells": [
  {
   "cell_type": "markdown",
   "metadata": {},
   "source": [
    "# Final Assignment: Predicting Hurricane speed movements with Machine Learning Methods"
   ]
  },
  {
   "cell_type": "markdown",
   "metadata": {},
   "source": [
    "####  20W856113 -  Introduction to Data Science and Machine Learning for Geospatial Data\n",
    "#### End of term assignment -  Winter Semester 2020 - 2021\n",
    "#### - Student: Gil Salvans Torras"
   ]
  },
  {
   "cell_type": "code",
   "execution_count": 2,
   "metadata": {},
   "outputs": [],
   "source": [
    "#importing all the modules\n",
    "import pandas as pd\n",
    "import geopandas as gpd\n",
    "from geopandas import GeoDataFrame\n",
    "from shapely.geometry import box\n",
    "from shapely.geometry import Point\n",
    "import haversine as hs\n",
    "import numpy as np\n",
    "import matplotlib.pyplot as plt\n",
    "import seaborn as sns\n",
    "import datetime\n",
    "\n",
    "from sklearn import preprocessing\n",
    "from sklearn.preprocessing import StandardScaler\n",
    "from sklearn.model_selection import train_test_split\n",
    "from sklearn.ensemble import GradientBoostingRegressor\n",
    "from sklearn.metrics import mean_absolute_error,mean_squared_error\n",
    "from sklearn.metrics import r2_score\n",
    "from tensorflow.keras import Sequential\n",
    "from tensorflow.keras.layers import Dense\n",
    "from tensorflow.keras.wrappers.scikit_learn import KerasRegressor"
   ]
  },
  {
   "cell_type": "markdown",
   "metadata": {},
   "source": [
    "## 1. Data Cleaning & Exploratory Data Analysis "
   ]
  },
  {
   "cell_type": "markdown",
   "metadata": {},
   "source": [
    "In this first section, the data will be imported, cleaned, formatted and explored in order to start approaching the subsequent prediction problem. It is very important here to get a full understanding of the data structure, quality and content. In this case, a historical dataset regarding hurricanes in the atlantic will be the analysed one (further info about the data in the metadata - src/metadata.pdf). "
   ]
  },
  {
   "cell_type": "code",
   "execution_count": 3,
   "metadata": {},
   "outputs": [],
   "source": [
    "#Read the atlantic dataset\n",
    "data = pd.read_csv('src/atlantic.csv')"
   ]
  },
  {
   "cell_type": "code",
   "execution_count": 4,
   "metadata": {},
   "outputs": [
    {
     "data": {
      "text/html": [
       "<div>\n",
       "<style scoped>\n",
       "    .dataframe tbody tr th:only-of-type {\n",
       "        vertical-align: middle;\n",
       "    }\n",
       "\n",
       "    .dataframe tbody tr th {\n",
       "        vertical-align: top;\n",
       "    }\n",
       "\n",
       "    .dataframe thead th {\n",
       "        text-align: right;\n",
       "    }\n",
       "</style>\n",
       "<table border=\"1\" class=\"dataframe\">\n",
       "  <thead>\n",
       "    <tr style=\"text-align: right;\">\n",
       "      <th></th>\n",
       "      <th>ID</th>\n",
       "      <th>Name</th>\n",
       "      <th>Date</th>\n",
       "      <th>Time</th>\n",
       "      <th>Event</th>\n",
       "      <th>Status</th>\n",
       "      <th>Latitude</th>\n",
       "      <th>Longitude</th>\n",
       "      <th>Maximum Wind</th>\n",
       "      <th>Minimum Pressure</th>\n",
       "      <th>...</th>\n",
       "      <th>Low Wind SW</th>\n",
       "      <th>Low Wind NW</th>\n",
       "      <th>Moderate Wind NE</th>\n",
       "      <th>Moderate Wind SE</th>\n",
       "      <th>Moderate Wind SW</th>\n",
       "      <th>Moderate Wind NW</th>\n",
       "      <th>High Wind NE</th>\n",
       "      <th>High Wind SE</th>\n",
       "      <th>High Wind SW</th>\n",
       "      <th>High Wind NW</th>\n",
       "    </tr>\n",
       "  </thead>\n",
       "  <tbody>\n",
       "    <tr>\n",
       "      <th>0</th>\n",
       "      <td>AL011851</td>\n",
       "      <td>UNNAMED</td>\n",
       "      <td>18510625</td>\n",
       "      <td>0</td>\n",
       "      <td></td>\n",
       "      <td>HU</td>\n",
       "      <td>28.0N</td>\n",
       "      <td>94.8W</td>\n",
       "      <td>80</td>\n",
       "      <td>-999</td>\n",
       "      <td>...</td>\n",
       "      <td>-999</td>\n",
       "      <td>-999</td>\n",
       "      <td>-999</td>\n",
       "      <td>-999</td>\n",
       "      <td>-999</td>\n",
       "      <td>-999</td>\n",
       "      <td>-999</td>\n",
       "      <td>-999</td>\n",
       "      <td>-999</td>\n",
       "      <td>-999</td>\n",
       "    </tr>\n",
       "    <tr>\n",
       "      <th>1</th>\n",
       "      <td>AL011851</td>\n",
       "      <td>UNNAMED</td>\n",
       "      <td>18510625</td>\n",
       "      <td>600</td>\n",
       "      <td></td>\n",
       "      <td>HU</td>\n",
       "      <td>28.0N</td>\n",
       "      <td>95.4W</td>\n",
       "      <td>80</td>\n",
       "      <td>-999</td>\n",
       "      <td>...</td>\n",
       "      <td>-999</td>\n",
       "      <td>-999</td>\n",
       "      <td>-999</td>\n",
       "      <td>-999</td>\n",
       "      <td>-999</td>\n",
       "      <td>-999</td>\n",
       "      <td>-999</td>\n",
       "      <td>-999</td>\n",
       "      <td>-999</td>\n",
       "      <td>-999</td>\n",
       "    </tr>\n",
       "    <tr>\n",
       "      <th>2</th>\n",
       "      <td>AL011851</td>\n",
       "      <td>UNNAMED</td>\n",
       "      <td>18510625</td>\n",
       "      <td>1200</td>\n",
       "      <td></td>\n",
       "      <td>HU</td>\n",
       "      <td>28.0N</td>\n",
       "      <td>96.0W</td>\n",
       "      <td>80</td>\n",
       "      <td>-999</td>\n",
       "      <td>...</td>\n",
       "      <td>-999</td>\n",
       "      <td>-999</td>\n",
       "      <td>-999</td>\n",
       "      <td>-999</td>\n",
       "      <td>-999</td>\n",
       "      <td>-999</td>\n",
       "      <td>-999</td>\n",
       "      <td>-999</td>\n",
       "      <td>-999</td>\n",
       "      <td>-999</td>\n",
       "    </tr>\n",
       "    <tr>\n",
       "      <th>3</th>\n",
       "      <td>AL011851</td>\n",
       "      <td>UNNAMED</td>\n",
       "      <td>18510625</td>\n",
       "      <td>1800</td>\n",
       "      <td></td>\n",
       "      <td>HU</td>\n",
       "      <td>28.1N</td>\n",
       "      <td>96.5W</td>\n",
       "      <td>80</td>\n",
       "      <td>-999</td>\n",
       "      <td>...</td>\n",
       "      <td>-999</td>\n",
       "      <td>-999</td>\n",
       "      <td>-999</td>\n",
       "      <td>-999</td>\n",
       "      <td>-999</td>\n",
       "      <td>-999</td>\n",
       "      <td>-999</td>\n",
       "      <td>-999</td>\n",
       "      <td>-999</td>\n",
       "      <td>-999</td>\n",
       "    </tr>\n",
       "    <tr>\n",
       "      <th>4</th>\n",
       "      <td>AL011851</td>\n",
       "      <td>UNNAMED</td>\n",
       "      <td>18510625</td>\n",
       "      <td>2100</td>\n",
       "      <td>L</td>\n",
       "      <td>HU</td>\n",
       "      <td>28.2N</td>\n",
       "      <td>96.8W</td>\n",
       "      <td>80</td>\n",
       "      <td>-999</td>\n",
       "      <td>...</td>\n",
       "      <td>-999</td>\n",
       "      <td>-999</td>\n",
       "      <td>-999</td>\n",
       "      <td>-999</td>\n",
       "      <td>-999</td>\n",
       "      <td>-999</td>\n",
       "      <td>-999</td>\n",
       "      <td>-999</td>\n",
       "      <td>-999</td>\n",
       "      <td>-999</td>\n",
       "    </tr>\n",
       "    <tr>\n",
       "      <th>...</th>\n",
       "      <td>...</td>\n",
       "      <td>...</td>\n",
       "      <td>...</td>\n",
       "      <td>...</td>\n",
       "      <td>...</td>\n",
       "      <td>...</td>\n",
       "      <td>...</td>\n",
       "      <td>...</td>\n",
       "      <td>...</td>\n",
       "      <td>...</td>\n",
       "      <td>...</td>\n",
       "      <td>...</td>\n",
       "      <td>...</td>\n",
       "      <td>...</td>\n",
       "      <td>...</td>\n",
       "      <td>...</td>\n",
       "      <td>...</td>\n",
       "      <td>...</td>\n",
       "      <td>...</td>\n",
       "      <td>...</td>\n",
       "      <td>...</td>\n",
       "    </tr>\n",
       "    <tr>\n",
       "      <th>49100</th>\n",
       "      <td>AL122015</td>\n",
       "      <td>KATE</td>\n",
       "      <td>20151112</td>\n",
       "      <td>1200</td>\n",
       "      <td></td>\n",
       "      <td>EX</td>\n",
       "      <td>41.3N</td>\n",
       "      <td>50.4W</td>\n",
       "      <td>55</td>\n",
       "      <td>981</td>\n",
       "      <td>...</td>\n",
       "      <td>180</td>\n",
       "      <td>120</td>\n",
       "      <td>120</td>\n",
       "      <td>120</td>\n",
       "      <td>60</td>\n",
       "      <td>0</td>\n",
       "      <td>0</td>\n",
       "      <td>0</td>\n",
       "      <td>0</td>\n",
       "      <td>0</td>\n",
       "    </tr>\n",
       "    <tr>\n",
       "      <th>49101</th>\n",
       "      <td>AL122015</td>\n",
       "      <td>KATE</td>\n",
       "      <td>20151112</td>\n",
       "      <td>1800</td>\n",
       "      <td></td>\n",
       "      <td>EX</td>\n",
       "      <td>41.9N</td>\n",
       "      <td>49.9W</td>\n",
       "      <td>55</td>\n",
       "      <td>983</td>\n",
       "      <td>...</td>\n",
       "      <td>180</td>\n",
       "      <td>120</td>\n",
       "      <td>120</td>\n",
       "      <td>120</td>\n",
       "      <td>60</td>\n",
       "      <td>0</td>\n",
       "      <td>0</td>\n",
       "      <td>0</td>\n",
       "      <td>0</td>\n",
       "      <td>0</td>\n",
       "    </tr>\n",
       "    <tr>\n",
       "      <th>49102</th>\n",
       "      <td>AL122015</td>\n",
       "      <td>KATE</td>\n",
       "      <td>20151113</td>\n",
       "      <td>0</td>\n",
       "      <td></td>\n",
       "      <td>EX</td>\n",
       "      <td>41.5N</td>\n",
       "      <td>49.2W</td>\n",
       "      <td>50</td>\n",
       "      <td>985</td>\n",
       "      <td>...</td>\n",
       "      <td>200</td>\n",
       "      <td>220</td>\n",
       "      <td>120</td>\n",
       "      <td>120</td>\n",
       "      <td>60</td>\n",
       "      <td>0</td>\n",
       "      <td>0</td>\n",
       "      <td>0</td>\n",
       "      <td>0</td>\n",
       "      <td>0</td>\n",
       "    </tr>\n",
       "    <tr>\n",
       "      <th>49103</th>\n",
       "      <td>AL122015</td>\n",
       "      <td>KATE</td>\n",
       "      <td>20151113</td>\n",
       "      <td>600</td>\n",
       "      <td></td>\n",
       "      <td>EX</td>\n",
       "      <td>40.8N</td>\n",
       "      <td>47.5W</td>\n",
       "      <td>45</td>\n",
       "      <td>985</td>\n",
       "      <td>...</td>\n",
       "      <td>180</td>\n",
       "      <td>220</td>\n",
       "      <td>0</td>\n",
       "      <td>0</td>\n",
       "      <td>0</td>\n",
       "      <td>0</td>\n",
       "      <td>0</td>\n",
       "      <td>0</td>\n",
       "      <td>0</td>\n",
       "      <td>0</td>\n",
       "    </tr>\n",
       "    <tr>\n",
       "      <th>49104</th>\n",
       "      <td>AL122015</td>\n",
       "      <td>KATE</td>\n",
       "      <td>20151113</td>\n",
       "      <td>1200</td>\n",
       "      <td></td>\n",
       "      <td>EX</td>\n",
       "      <td>40.7N</td>\n",
       "      <td>45.4W</td>\n",
       "      <td>45</td>\n",
       "      <td>987</td>\n",
       "      <td>...</td>\n",
       "      <td>150</td>\n",
       "      <td>220</td>\n",
       "      <td>0</td>\n",
       "      <td>0</td>\n",
       "      <td>0</td>\n",
       "      <td>0</td>\n",
       "      <td>0</td>\n",
       "      <td>0</td>\n",
       "      <td>0</td>\n",
       "      <td>0</td>\n",
       "    </tr>\n",
       "  </tbody>\n",
       "</table>\n",
       "<p>49105 rows × 22 columns</p>\n",
       "</div>"
      ],
      "text/plain": [
       "             ID                 Name      Date  Time Event Status Latitude  \\\n",
       "0      AL011851              UNNAMED  18510625     0           HU    28.0N   \n",
       "1      AL011851              UNNAMED  18510625   600           HU    28.0N   \n",
       "2      AL011851              UNNAMED  18510625  1200           HU    28.0N   \n",
       "3      AL011851              UNNAMED  18510625  1800           HU    28.1N   \n",
       "4      AL011851              UNNAMED  18510625  2100     L     HU    28.2N   \n",
       "...         ...                  ...       ...   ...   ...    ...      ...   \n",
       "49100  AL122015                 KATE  20151112  1200           EX    41.3N   \n",
       "49101  AL122015                 KATE  20151112  1800           EX    41.9N   \n",
       "49102  AL122015                 KATE  20151113     0           EX    41.5N   \n",
       "49103  AL122015                 KATE  20151113   600           EX    40.8N   \n",
       "49104  AL122015                 KATE  20151113  1200           EX    40.7N   \n",
       "\n",
       "      Longitude  Maximum Wind  Minimum Pressure  ...  Low Wind SW  \\\n",
       "0         94.8W            80              -999  ...         -999   \n",
       "1         95.4W            80              -999  ...         -999   \n",
       "2         96.0W            80              -999  ...         -999   \n",
       "3         96.5W            80              -999  ...         -999   \n",
       "4         96.8W            80              -999  ...         -999   \n",
       "...         ...           ...               ...  ...          ...   \n",
       "49100     50.4W            55               981  ...          180   \n",
       "49101     49.9W            55               983  ...          180   \n",
       "49102     49.2W            50               985  ...          200   \n",
       "49103     47.5W            45               985  ...          180   \n",
       "49104     45.4W            45               987  ...          150   \n",
       "\n",
       "       Low Wind NW  Moderate Wind NE  Moderate Wind SE  Moderate Wind SW  \\\n",
       "0             -999              -999              -999              -999   \n",
       "1             -999              -999              -999              -999   \n",
       "2             -999              -999              -999              -999   \n",
       "3             -999              -999              -999              -999   \n",
       "4             -999              -999              -999              -999   \n",
       "...            ...               ...               ...               ...   \n",
       "49100          120               120               120                60   \n",
       "49101          120               120               120                60   \n",
       "49102          220               120               120                60   \n",
       "49103          220                 0                 0                 0   \n",
       "49104          220                 0                 0                 0   \n",
       "\n",
       "       Moderate Wind NW  High Wind NE  High Wind SE  High Wind SW  \\\n",
       "0                  -999          -999          -999          -999   \n",
       "1                  -999          -999          -999          -999   \n",
       "2                  -999          -999          -999          -999   \n",
       "3                  -999          -999          -999          -999   \n",
       "4                  -999          -999          -999          -999   \n",
       "...                 ...           ...           ...           ...   \n",
       "49100                 0             0             0             0   \n",
       "49101                 0             0             0             0   \n",
       "49102                 0             0             0             0   \n",
       "49103                 0             0             0             0   \n",
       "49104                 0             0             0             0   \n",
       "\n",
       "       High Wind NW  \n",
       "0              -999  \n",
       "1              -999  \n",
       "2              -999  \n",
       "3              -999  \n",
       "4              -999  \n",
       "...             ...  \n",
       "49100             0  \n",
       "49101             0  \n",
       "49102             0  \n",
       "49103             0  \n",
       "49104             0  \n",
       "\n",
       "[49105 rows x 22 columns]"
      ]
     },
     "execution_count": 4,
     "metadata": {},
     "output_type": "execute_result"
    }
   ],
   "source": [
    "#display first 5 rows and last 5 rows of the dataset\n",
    "data"
   ]
  },
  {
   "cell_type": "code",
   "execution_count": 5,
   "metadata": {},
   "outputs": [
    {
     "data": {
      "text/plain": [
       "(49105, 22)"
      ]
     },
     "execution_count": 5,
     "metadata": {},
     "output_type": "execute_result"
    }
   ],
   "source": [
    "#check the data shape \n",
    "data.shape"
   ]
  },
  {
   "cell_type": "markdown",
   "metadata": {},
   "source": [
    "The dataset is composed by 49105 rows (records) and 22 columns (attributes)."
   ]
  },
  {
   "cell_type": "code",
   "execution_count": 6,
   "metadata": {},
   "outputs": [
    {
     "name": "stdout",
     "output_type": "stream",
     "text": [
      "<class 'pandas.core.frame.DataFrame'>\n",
      "RangeIndex: 49105 entries, 0 to 49104\n",
      "Data columns (total 22 columns):\n",
      " #   Column            Non-Null Count  Dtype \n",
      "---  ------            --------------  ----- \n",
      " 0   ID                49105 non-null  object\n",
      " 1   Name              49105 non-null  object\n",
      " 2   Date              49105 non-null  int64 \n",
      " 3   Time              49105 non-null  int64 \n",
      " 4   Event             49105 non-null  object\n",
      " 5   Status            49105 non-null  object\n",
      " 6   Latitude          49105 non-null  object\n",
      " 7   Longitude         49105 non-null  object\n",
      " 8   Maximum Wind      49105 non-null  int64 \n",
      " 9   Minimum Pressure  49105 non-null  int64 \n",
      " 10  Low Wind NE       49105 non-null  int64 \n",
      " 11  Low Wind SE       49105 non-null  int64 \n",
      " 12  Low Wind SW       49105 non-null  int64 \n",
      " 13  Low Wind NW       49105 non-null  int64 \n",
      " 14  Moderate Wind NE  49105 non-null  int64 \n",
      " 15  Moderate Wind SE  49105 non-null  int64 \n",
      " 16  Moderate Wind SW  49105 non-null  int64 \n",
      " 17  Moderate Wind NW  49105 non-null  int64 \n",
      " 18  High Wind NE      49105 non-null  int64 \n",
      " 19  High Wind SE      49105 non-null  int64 \n",
      " 20  High Wind SW      49105 non-null  int64 \n",
      " 21  High Wind NW      49105 non-null  int64 \n",
      "dtypes: int64(16), object(6)\n",
      "memory usage: 8.2+ MB\n"
     ]
    }
   ],
   "source": [
    "#check all data types of the dataset & its info\n",
    "data.info()"
   ]
  },
  {
   "cell_type": "markdown",
   "metadata": {},
   "source": [
    "With a very general notion of the data structure and types, it is time to start with the cleaning in order to be able to carry out the EDA and the subsequent predictive analysis. At first, duplicate and null values must be erased. Secondly, a reestructuration of the fields will be carred out (formatting, data types & structure). "
   ]
  },
  {
   "cell_type": "code",
   "execution_count": 7,
   "metadata": {},
   "outputs": [
    {
     "name": "stdout",
     "output_type": "stream",
     "text": [
      "Duplicate rows :  (0, 22)\n"
     ]
    }
   ],
   "source": [
    "# Checking and eliminating duplicate values\n",
    "duplicate_rows = data[data.duplicated()]\n",
    "print(\"Duplicate rows : \", duplicate_rows.shape)"
   ]
  },
  {
   "cell_type": "markdown",
   "metadata": {},
   "source": [
    "As shown in this previous output, there are no duplicate rows in our dataset (0 refers to rows and 22 refers to the number of attributes int the dataset). Subsequently, missing values will be checked and dropped."
   ]
  },
  {
   "cell_type": "code",
   "execution_count": 8,
   "metadata": {},
   "outputs": [
    {
     "name": "stdout",
     "output_type": "stream",
     "text": [
      "ID                  0\n",
      "Name                0\n",
      "Date                0\n",
      "Time                0\n",
      "Event               0\n",
      "Status              0\n",
      "Latitude            0\n",
      "Longitude           0\n",
      "Maximum Wind        0\n",
      "Minimum Pressure    0\n",
      "Low Wind NE         0\n",
      "Low Wind SE         0\n",
      "Low Wind SW         0\n",
      "Low Wind NW         0\n",
      "Moderate Wind NE    0\n",
      "Moderate Wind SE    0\n",
      "Moderate Wind SW    0\n",
      "Moderate Wind NW    0\n",
      "High Wind NE        0\n",
      "High Wind SE        0\n",
      "High Wind SW        0\n",
      "High Wind NW        0\n",
      "dtype: int64\n"
     ]
    }
   ],
   "source": [
    "#Checking and dropping missing values\n",
    "print(data.isnull().sum())"
   ]
  },
  {
   "cell_type": "markdown",
   "metadata": {},
   "source": [
    "As also shown in this previous output, there are no null values on any of the dataset columns and records.\n"
   ]
  },
  {
   "cell_type": "markdown",
   "metadata": {},
   "source": [
    "\n",
    "To continue with the data initial analysis, it is time to detect outliers in the data and delete its anomalies. Obviously, the outliers are only present in the continuous variables of the dataset. For this case, the main outliers to be detected will be in Longitude, Latitude, Max.Wind and Min.Pressure. Additionally, these must be reformatted: time and date (creating a timestamp column), lat and long will be normalized (only numerical and without the letter), and the rest of the wind values (low, moderate and high) will also be accordingly formatted."
   ]
  },
  {
   "cell_type": "markdown",
   "metadata": {},
   "source": [
    "#### Latitude and Longitude \n",
    "For these two attributes, first we must format the data as fully numerical, by taking out the N/S/E/W and adding a plus or a minus instead depending on its geographical location. Once this is done (new fields as normalized lat and normalized long), the outliers analysis can be carried out."
   ]
  },
  {
   "cell_type": "code",
   "execution_count": 9,
   "metadata": {},
   "outputs": [],
   "source": [
    "#Fixing latitude and longitude in order to be mapped\n",
    "\n",
    "#arrays to store the mapping lat and long values which will be added to the dataset\n",
    "map_long = []\n",
    "map_lat = []\n",
    "\n",
    "for i in data['Latitude']:\n",
    "    if i.endswith('N'):\n",
    "        new_lat_n = i.replace('N', '')\n",
    "        lat_float_n = float(new_lat_n)\n",
    "        map_lat.append(lat_float_n)\n",
    "    else:\n",
    "        #for the Southern hemisphere (which must be negative)\n",
    "        new_lat_s = i.replace('S', '')\n",
    "        lat_float_s = float(new_lat)\n",
    "        lat_south = lat_float_s * -1 \n",
    "        map_lat.append(lat_south)\n",
    "        \n",
    "\n",
    "#same procedure but for longitude\n",
    "for i in data['Longitude']:\n",
    "    if i.endswith('E'): #East is positive\n",
    "        new_lon_e = i.replace('E', '')\n",
    "        lon_float_e = float(new_lon_e)\n",
    "        map_long.append(lon_float_e)\n",
    "    else:\n",
    "        #for the Western hemisphere (which must be negative)\n",
    "        new_lon_w = i.replace('W', '')\n",
    "        lon_float_w = float(new_lon_w)\n",
    "        lat_west = lon_float_w * -1 \n",
    "        map_long.append(lat_west)"
   ]
  },
  {
   "cell_type": "code",
   "execution_count": 10,
   "metadata": {},
   "outputs": [],
   "source": [
    "#at the same time, the previous lat long attributes can be deleted\n",
    "del data['Latitude']\n",
    "del data['Longitude']\n",
    "\n",
    "#We must append the two processed arrays to the Atlantic dataset\n",
    "data['Lat'] = map_lat\n",
    "data['Lon'] = map_long"
   ]
  },
  {
   "cell_type": "code",
   "execution_count": 11,
   "metadata": {},
   "outputs": [
    {
     "data": {
      "text/html": [
       "<div>\n",
       "<style scoped>\n",
       "    .dataframe tbody tr th:only-of-type {\n",
       "        vertical-align: middle;\n",
       "    }\n",
       "\n",
       "    .dataframe tbody tr th {\n",
       "        vertical-align: top;\n",
       "    }\n",
       "\n",
       "    .dataframe thead th {\n",
       "        text-align: right;\n",
       "    }\n",
       "</style>\n",
       "<table border=\"1\" class=\"dataframe\">\n",
       "  <thead>\n",
       "    <tr style=\"text-align: right;\">\n",
       "      <th></th>\n",
       "      <th>ID</th>\n",
       "      <th>Name</th>\n",
       "      <th>Date</th>\n",
       "      <th>Time</th>\n",
       "      <th>Event</th>\n",
       "      <th>Status</th>\n",
       "      <th>Maximum Wind</th>\n",
       "      <th>Minimum Pressure</th>\n",
       "      <th>Low Wind NE</th>\n",
       "      <th>Low Wind SE</th>\n",
       "      <th>...</th>\n",
       "      <th>Moderate Wind NE</th>\n",
       "      <th>Moderate Wind SE</th>\n",
       "      <th>Moderate Wind SW</th>\n",
       "      <th>Moderate Wind NW</th>\n",
       "      <th>High Wind NE</th>\n",
       "      <th>High Wind SE</th>\n",
       "      <th>High Wind SW</th>\n",
       "      <th>High Wind NW</th>\n",
       "      <th>Lat</th>\n",
       "      <th>Lon</th>\n",
       "    </tr>\n",
       "  </thead>\n",
       "  <tbody>\n",
       "    <tr>\n",
       "      <th>0</th>\n",
       "      <td>AL011851</td>\n",
       "      <td>UNNAMED</td>\n",
       "      <td>18510625</td>\n",
       "      <td>0</td>\n",
       "      <td></td>\n",
       "      <td>HU</td>\n",
       "      <td>80</td>\n",
       "      <td>-999</td>\n",
       "      <td>-999</td>\n",
       "      <td>-999</td>\n",
       "      <td>...</td>\n",
       "      <td>-999</td>\n",
       "      <td>-999</td>\n",
       "      <td>-999</td>\n",
       "      <td>-999</td>\n",
       "      <td>-999</td>\n",
       "      <td>-999</td>\n",
       "      <td>-999</td>\n",
       "      <td>-999</td>\n",
       "      <td>28.0</td>\n",
       "      <td>-94.8</td>\n",
       "    </tr>\n",
       "    <tr>\n",
       "      <th>1</th>\n",
       "      <td>AL011851</td>\n",
       "      <td>UNNAMED</td>\n",
       "      <td>18510625</td>\n",
       "      <td>600</td>\n",
       "      <td></td>\n",
       "      <td>HU</td>\n",
       "      <td>80</td>\n",
       "      <td>-999</td>\n",
       "      <td>-999</td>\n",
       "      <td>-999</td>\n",
       "      <td>...</td>\n",
       "      <td>-999</td>\n",
       "      <td>-999</td>\n",
       "      <td>-999</td>\n",
       "      <td>-999</td>\n",
       "      <td>-999</td>\n",
       "      <td>-999</td>\n",
       "      <td>-999</td>\n",
       "      <td>-999</td>\n",
       "      <td>28.0</td>\n",
       "      <td>-95.4</td>\n",
       "    </tr>\n",
       "    <tr>\n",
       "      <th>2</th>\n",
       "      <td>AL011851</td>\n",
       "      <td>UNNAMED</td>\n",
       "      <td>18510625</td>\n",
       "      <td>1200</td>\n",
       "      <td></td>\n",
       "      <td>HU</td>\n",
       "      <td>80</td>\n",
       "      <td>-999</td>\n",
       "      <td>-999</td>\n",
       "      <td>-999</td>\n",
       "      <td>...</td>\n",
       "      <td>-999</td>\n",
       "      <td>-999</td>\n",
       "      <td>-999</td>\n",
       "      <td>-999</td>\n",
       "      <td>-999</td>\n",
       "      <td>-999</td>\n",
       "      <td>-999</td>\n",
       "      <td>-999</td>\n",
       "      <td>28.0</td>\n",
       "      <td>-96.0</td>\n",
       "    </tr>\n",
       "    <tr>\n",
       "      <th>3</th>\n",
       "      <td>AL011851</td>\n",
       "      <td>UNNAMED</td>\n",
       "      <td>18510625</td>\n",
       "      <td>1800</td>\n",
       "      <td></td>\n",
       "      <td>HU</td>\n",
       "      <td>80</td>\n",
       "      <td>-999</td>\n",
       "      <td>-999</td>\n",
       "      <td>-999</td>\n",
       "      <td>...</td>\n",
       "      <td>-999</td>\n",
       "      <td>-999</td>\n",
       "      <td>-999</td>\n",
       "      <td>-999</td>\n",
       "      <td>-999</td>\n",
       "      <td>-999</td>\n",
       "      <td>-999</td>\n",
       "      <td>-999</td>\n",
       "      <td>28.1</td>\n",
       "      <td>-96.5</td>\n",
       "    </tr>\n",
       "    <tr>\n",
       "      <th>4</th>\n",
       "      <td>AL011851</td>\n",
       "      <td>UNNAMED</td>\n",
       "      <td>18510625</td>\n",
       "      <td>2100</td>\n",
       "      <td>L</td>\n",
       "      <td>HU</td>\n",
       "      <td>80</td>\n",
       "      <td>-999</td>\n",
       "      <td>-999</td>\n",
       "      <td>-999</td>\n",
       "      <td>...</td>\n",
       "      <td>-999</td>\n",
       "      <td>-999</td>\n",
       "      <td>-999</td>\n",
       "      <td>-999</td>\n",
       "      <td>-999</td>\n",
       "      <td>-999</td>\n",
       "      <td>-999</td>\n",
       "      <td>-999</td>\n",
       "      <td>28.2</td>\n",
       "      <td>-96.8</td>\n",
       "    </tr>\n",
       "  </tbody>\n",
       "</table>\n",
       "<p>5 rows × 22 columns</p>\n",
       "</div>"
      ],
      "text/plain": [
       "         ID                 Name      Date  Time Event Status  Maximum Wind  \\\n",
       "0  AL011851              UNNAMED  18510625     0           HU            80   \n",
       "1  AL011851              UNNAMED  18510625   600           HU            80   \n",
       "2  AL011851              UNNAMED  18510625  1200           HU            80   \n",
       "3  AL011851              UNNAMED  18510625  1800           HU            80   \n",
       "4  AL011851              UNNAMED  18510625  2100     L     HU            80   \n",
       "\n",
       "   Minimum Pressure  Low Wind NE  Low Wind SE  ...  Moderate Wind NE  \\\n",
       "0              -999         -999         -999  ...              -999   \n",
       "1              -999         -999         -999  ...              -999   \n",
       "2              -999         -999         -999  ...              -999   \n",
       "3              -999         -999         -999  ...              -999   \n",
       "4              -999         -999         -999  ...              -999   \n",
       "\n",
       "   Moderate Wind SE  Moderate Wind SW  Moderate Wind NW  High Wind NE  \\\n",
       "0              -999              -999              -999          -999   \n",
       "1              -999              -999              -999          -999   \n",
       "2              -999              -999              -999          -999   \n",
       "3              -999              -999              -999          -999   \n",
       "4              -999              -999              -999          -999   \n",
       "\n",
       "   High Wind SE  High Wind SW  High Wind NW   Lat   Lon  \n",
       "0          -999          -999          -999  28.0 -94.8  \n",
       "1          -999          -999          -999  28.0 -95.4  \n",
       "2          -999          -999          -999  28.0 -96.0  \n",
       "3          -999          -999          -999  28.1 -96.5  \n",
       "4          -999          -999          -999  28.2 -96.8  \n",
       "\n",
       "[5 rows x 22 columns]"
      ]
     },
     "execution_count": 11,
     "metadata": {},
     "output_type": "execute_result"
    }
   ],
   "source": [
    "data.head(5)"
   ]
  },
  {
   "cell_type": "code",
   "execution_count": 12,
   "metadata": {},
   "outputs": [
    {
     "name": "stdout",
     "output_type": "stream",
     "text": [
      "Latitude max. value:  81.0\n",
      "Latitude min. value:  7.2\n"
     ]
    },
    {
     "data": {
      "image/png": "[encoded data removed]",
      "text/plain": [
       "<Figure size 432x288 with 1 Axes>"
      ]
     },
     "metadata": {
      "needs_background": "light"
     },
     "output_type": "display_data"
    }
   ],
   "source": [
    "#Latitude outliers\n",
    "lat_column = data['Lat']\n",
    "sns.boxplot(x=lat_column)\n",
    "print('Latitude max. value: ', lat_column.max())\n",
    "print('Latitude min. value: ', lat_column.min())"
   ]
  },
  {
   "cell_type": "markdown",
   "metadata": {},
   "source": [
    "As the latitude results show above, there are no anomal outliers on this attribute."
   ]
  },
  {
   "cell_type": "code",
   "execution_count": 13,
   "metadata": {},
   "outputs": [
    {
     "name": "stdout",
     "output_type": "stream",
     "text": [
      "Longitude max. value:  63.0\n",
      "Longitude min. value:  -359.1\n"
     ]
    },
    {
     "data": {
      "image/png": "[encoded data removed]",
      "text/plain": [
       "<Figure size 432x288 with 1 Axes>"
      ]
     },
     "metadata": {
      "needs_background": "light"
     },
     "output_type": "display_data"
    }
   ],
   "source": [
    "#Longitude outliers\n",
    "long_column = data['Lon']\n",
    "sns.boxplot(x= long_column)\n",
    "print('Longitude max. value: ', long_column.max())\n",
    "print('Longitude min. value: ', long_column.min())"
   ]
  },
  {
   "cell_type": "markdown",
   "metadata": {},
   "source": [
    "As the longitude boxplot shows, there are a few points that are over -300. These are indeed anomal longitude values which have to be deleted from the dataset."
   ]
  },
  {
   "cell_type": "code",
   "execution_count": 14,
   "metadata": {},
   "outputs": [
    {
     "data": {
      "text/html": [
       "<div>\n",
       "<style scoped>\n",
       "    .dataframe tbody tr th:only-of-type {\n",
       "        vertical-align: middle;\n",
       "    }\n",
       "\n",
       "    .dataframe tbody tr th {\n",
       "        vertical-align: top;\n",
       "    }\n",
       "\n",
       "    .dataframe thead th {\n",
       "        text-align: right;\n",
       "    }\n",
       "</style>\n",
       "<table border=\"1\" class=\"dataframe\">\n",
       "  <thead>\n",
       "    <tr style=\"text-align: right;\">\n",
       "      <th></th>\n",
       "      <th>ID</th>\n",
       "      <th>Name</th>\n",
       "      <th>Date</th>\n",
       "      <th>Time</th>\n",
       "      <th>Event</th>\n",
       "      <th>Status</th>\n",
       "      <th>Maximum Wind</th>\n",
       "      <th>Minimum Pressure</th>\n",
       "      <th>Low Wind NE</th>\n",
       "      <th>Low Wind SE</th>\n",
       "      <th>...</th>\n",
       "      <th>Moderate Wind NE</th>\n",
       "      <th>Moderate Wind SE</th>\n",
       "      <th>Moderate Wind SW</th>\n",
       "      <th>Moderate Wind NW</th>\n",
       "      <th>High Wind NE</th>\n",
       "      <th>High Wind SE</th>\n",
       "      <th>High Wind SW</th>\n",
       "      <th>High Wind NW</th>\n",
       "      <th>Lat</th>\n",
       "      <th>Lon</th>\n",
       "    </tr>\n",
       "  </thead>\n",
       "  <tbody>\n",
       "    <tr>\n",
       "      <th>22984</th>\n",
       "      <td>AL051952</td>\n",
       "      <td>UNNAMED</td>\n",
       "      <td>19520914</td>\n",
       "      <td>600</td>\n",
       "      <td></td>\n",
       "      <td>EX</td>\n",
       "      <td>35</td>\n",
       "      <td>-999</td>\n",
       "      <td>-999</td>\n",
       "      <td>-999</td>\n",
       "      <td>...</td>\n",
       "      <td>-999</td>\n",
       "      <td>-999</td>\n",
       "      <td>-999</td>\n",
       "      <td>-999</td>\n",
       "      <td>-999</td>\n",
       "      <td>-999</td>\n",
       "      <td>-999</td>\n",
       "      <td>-999</td>\n",
       "      <td>43.2</td>\n",
       "      <td>-359.1</td>\n",
       "    </tr>\n",
       "    <tr>\n",
       "      <th>22985</th>\n",
       "      <td>AL051952</td>\n",
       "      <td>UNNAMED</td>\n",
       "      <td>19520914</td>\n",
       "      <td>1200</td>\n",
       "      <td></td>\n",
       "      <td>EX</td>\n",
       "      <td>35</td>\n",
       "      <td>-999</td>\n",
       "      <td>-999</td>\n",
       "      <td>-999</td>\n",
       "      <td>...</td>\n",
       "      <td>-999</td>\n",
       "      <td>-999</td>\n",
       "      <td>-999</td>\n",
       "      <td>-999</td>\n",
       "      <td>-999</td>\n",
       "      <td>-999</td>\n",
       "      <td>-999</td>\n",
       "      <td>-999</td>\n",
       "      <td>44.0</td>\n",
       "      <td>-358.4</td>\n",
       "    </tr>\n",
       "  </tbody>\n",
       "</table>\n",
       "<p>2 rows × 22 columns</p>\n",
       "</div>"
      ],
      "text/plain": [
       "             ID                 Name      Date  Time Event Status  \\\n",
       "22984  AL051952              UNNAMED  19520914   600           EX   \n",
       "22985  AL051952              UNNAMED  19520914  1200           EX   \n",
       "\n",
       "       Maximum Wind  Minimum Pressure  Low Wind NE  Low Wind SE  ...  \\\n",
       "22984            35              -999         -999         -999  ...   \n",
       "22985            35              -999         -999         -999  ...   \n",
       "\n",
       "       Moderate Wind NE  Moderate Wind SE  Moderate Wind SW  Moderate Wind NW  \\\n",
       "22984              -999              -999              -999              -999   \n",
       "22985              -999              -999              -999              -999   \n",
       "\n",
       "       High Wind NE  High Wind SE  High Wind SW  High Wind NW   Lat    Lon  \n",
       "22984          -999          -999          -999          -999  43.2 -359.1  \n",
       "22985          -999          -999          -999          -999  44.0 -358.4  \n",
       "\n",
       "[2 rows x 22 columns]"
      ]
     },
     "execution_count": 14,
     "metadata": {},
     "output_type": "execute_result"
    }
   ],
   "source": [
    "#Longitude anomal outliers\n",
    "#Longitude values which are smaller than -300 as shown in the boxplot, are clear error values\n",
    "anomal_long = data[(data['Lon'] < - 300)]\n",
    "anomal_long"
   ]
  },
  {
   "cell_type": "code",
   "execution_count": 15,
   "metadata": {},
   "outputs": [
    {
     "data": {
      "text/plain": [
       "(49103, 22)"
      ]
     },
     "execution_count": 15,
     "metadata": {},
     "output_type": "execute_result"
    }
   ],
   "source": [
    "#removal of the two anomal records\n",
    "data = data[(data['Lon'] > - 300)]\n",
    "data.shape"
   ]
  },
  {
   "cell_type": "markdown",
   "metadata": {},
   "source": [
    "Finally, to conclude with the analysis and formatting of Latitude and Longitude, we must check the data on a map using the Geopandas library. For this, the KATE hurricane (as an example) will be selected (it would not make sense to display the whole dataset -> there would be too much data noise in the map)."
   ]
  },
  {
   "cell_type": "code",
   "execution_count": 16,
   "metadata": {},
   "outputs": [
    {
     "data": {
      "image/png": "[encoded data removed]",
      "text/plain": [
       "<Figure size 432x288 with 1 Axes>"
      ]
     },
     "metadata": {
      "needs_background": "light"
     },
     "output_type": "display_data"
    }
   ],
   "source": [
    "#creating geodataframe so data can be accordingly mapped\n",
    "#selecting a random hurricane -> Hurricane Kate for example (the one that happened in 1985 in Florida)\n",
    "kate = data[(data['Name'].str.contains(\"KATE\")) & (data['Date'] < 19860000) ]\n",
    "kate_gdf = gpd.GeoDataFrame(kate, geometry=gpd.points_from_xy(kate.Lon, kate.Lat))\n",
    "#setting a projection \n",
    "proj_data = kate_gdf.set_crs(epsg=4326)\n",
    "#adding a world basic basemap in the bounding box of the KATE hurricane\n",
    "world = gpd.read_file(gpd.datasets.get_path('naturalearth_lowres'))\n",
    "base = world.plot(color='brown', edgecolor='black')\n",
    "minx, miny, maxx, maxy = proj_data.total_bounds\n",
    "base.set_xlim(minx, maxx)\n",
    "base.set_ylim(miny, maxy)\n",
    "proj_data.plot(ax=base, marker='x', color='blue', markersize=25);"
   ]
  },
  {
   "cell_type": "markdown",
   "metadata": {},
   "source": [
    "This map does not have any purpose but verifying that the latitude and longitude fields have been accordingly cleaned, formatted and now are mappable. Therefore, as the map shows, the hurricane data is now well georeferrenced (hurricane Kate took place around Florida)."
   ]
  },
  {
   "cell_type": "markdown",
   "metadata": {},
   "source": [
    "#### Max.Wind and Min.Pressure "
   ]
  },
  {
   "cell_type": "markdown",
   "metadata": {},
   "source": [
    "According to the metadata of this dataset (the dataset description), the missing values for Minimum Pressure are marked with -999 and the missing values for Maximum wind as -99. Therefore, we first identify these rows. "
   ]
  },
  {
   "cell_type": "code",
   "execution_count": 17,
   "metadata": {},
   "outputs": [
    {
     "name": "stdout",
     "output_type": "stream",
     "text": [
      "Anomal Maximum Wind records:  (338, 22)\n",
      "Anomal Minimum Pressure records:  (30667, 22)\n"
     ]
    }
   ],
   "source": [
    "anomal_maxwind = data[(data['Maximum Wind'] == -99)]\n",
    "anomal_min_pressure = data[(data['Minimum Pressure'] == -999)]\n",
    "print('Anomal Maximum Wind records: ', anomal_maxwind.shape)\n",
    "print('Anomal Minimum Pressure records: ', anomal_min_pressure.shape)"
   ]
  },
  {
   "cell_type": "markdown",
   "metadata": {},
   "source": [
    "According to these results, the Minimum Pressure column has so many missing records. However, it is a very important parameter for the subsequent prediction. According to this, the missing values (-999) will be marked as NaN and therefore no records are deleted.\n",
    "Regarding the Maximum Wind, since there much less values missing, these will be replaced by the median values of the entire column. The median will be used since the wind is a countinuous phenomenon and its value should not be altered by any outlier."
   ]
  },
  {
   "cell_type": "code",
   "execution_count": 18,
   "metadata": {},
   "outputs": [
    {
     "data": {
      "text/html": [
       "<div>\n",
       "<style scoped>\n",
       "    .dataframe tbody tr th:only-of-type {\n",
       "        vertical-align: middle;\n",
       "    }\n",
       "\n",
       "    .dataframe tbody tr th {\n",
       "        vertical-align: top;\n",
       "    }\n",
       "\n",
       "    .dataframe thead th {\n",
       "        text-align: right;\n",
       "    }\n",
       "</style>\n",
       "<table border=\"1\" class=\"dataframe\">\n",
       "  <thead>\n",
       "    <tr style=\"text-align: right;\">\n",
       "      <th></th>\n",
       "      <th>ID</th>\n",
       "      <th>Name</th>\n",
       "      <th>Date</th>\n",
       "      <th>Time</th>\n",
       "      <th>Event</th>\n",
       "      <th>Status</th>\n",
       "      <th>Maximum Wind</th>\n",
       "      <th>Low Wind NE</th>\n",
       "      <th>Low Wind SE</th>\n",
       "      <th>Low Wind SW</th>\n",
       "      <th>...</th>\n",
       "      <th>Moderate Wind SE</th>\n",
       "      <th>Moderate Wind SW</th>\n",
       "      <th>Moderate Wind NW</th>\n",
       "      <th>High Wind NE</th>\n",
       "      <th>High Wind SE</th>\n",
       "      <th>High Wind SW</th>\n",
       "      <th>High Wind NW</th>\n",
       "      <th>Lat</th>\n",
       "      <th>Lon</th>\n",
       "      <th>Minimum Pressure</th>\n",
       "    </tr>\n",
       "  </thead>\n",
       "  <tbody>\n",
       "    <tr>\n",
       "      <th>0</th>\n",
       "      <td>AL011851</td>\n",
       "      <td>UNNAMED</td>\n",
       "      <td>18510625</td>\n",
       "      <td>0</td>\n",
       "      <td></td>\n",
       "      <td>HU</td>\n",
       "      <td>80</td>\n",
       "      <td>-999</td>\n",
       "      <td>-999</td>\n",
       "      <td>-999</td>\n",
       "      <td>...</td>\n",
       "      <td>-999</td>\n",
       "      <td>-999</td>\n",
       "      <td>-999</td>\n",
       "      <td>-999</td>\n",
       "      <td>-999</td>\n",
       "      <td>-999</td>\n",
       "      <td>-999</td>\n",
       "      <td>28.0</td>\n",
       "      <td>-94.8</td>\n",
       "      <td>NaN</td>\n",
       "    </tr>\n",
       "    <tr>\n",
       "      <th>1</th>\n",
       "      <td>AL011851</td>\n",
       "      <td>UNNAMED</td>\n",
       "      <td>18510625</td>\n",
       "      <td>600</td>\n",
       "      <td></td>\n",
       "      <td>HU</td>\n",
       "      <td>80</td>\n",
       "      <td>-999</td>\n",
       "      <td>-999</td>\n",
       "      <td>-999</td>\n",
       "      <td>...</td>\n",
       "      <td>-999</td>\n",
       "      <td>-999</td>\n",
       "      <td>-999</td>\n",
       "      <td>-999</td>\n",
       "      <td>-999</td>\n",
       "      <td>-999</td>\n",
       "      <td>-999</td>\n",
       "      <td>28.0</td>\n",
       "      <td>-95.4</td>\n",
       "      <td>NaN</td>\n",
       "    </tr>\n",
       "    <tr>\n",
       "      <th>2</th>\n",
       "      <td>AL011851</td>\n",
       "      <td>UNNAMED</td>\n",
       "      <td>18510625</td>\n",
       "      <td>1200</td>\n",
       "      <td></td>\n",
       "      <td>HU</td>\n",
       "      <td>80</td>\n",
       "      <td>-999</td>\n",
       "      <td>-999</td>\n",
       "      <td>-999</td>\n",
       "      <td>...</td>\n",
       "      <td>-999</td>\n",
       "      <td>-999</td>\n",
       "      <td>-999</td>\n",
       "      <td>-999</td>\n",
       "      <td>-999</td>\n",
       "      <td>-999</td>\n",
       "      <td>-999</td>\n",
       "      <td>28.0</td>\n",
       "      <td>-96.0</td>\n",
       "      <td>NaN</td>\n",
       "    </tr>\n",
       "    <tr>\n",
       "      <th>3</th>\n",
       "      <td>AL011851</td>\n",
       "      <td>UNNAMED</td>\n",
       "      <td>18510625</td>\n",
       "      <td>1800</td>\n",
       "      <td></td>\n",
       "      <td>HU</td>\n",
       "      <td>80</td>\n",
       "      <td>-999</td>\n",
       "      <td>-999</td>\n",
       "      <td>-999</td>\n",
       "      <td>...</td>\n",
       "      <td>-999</td>\n",
       "      <td>-999</td>\n",
       "      <td>-999</td>\n",
       "      <td>-999</td>\n",
       "      <td>-999</td>\n",
       "      <td>-999</td>\n",
       "      <td>-999</td>\n",
       "      <td>28.1</td>\n",
       "      <td>-96.5</td>\n",
       "      <td>NaN</td>\n",
       "    </tr>\n",
       "    <tr>\n",
       "      <th>4</th>\n",
       "      <td>AL011851</td>\n",
       "      <td>UNNAMED</td>\n",
       "      <td>18510625</td>\n",
       "      <td>2100</td>\n",
       "      <td>L</td>\n",
       "      <td>HU</td>\n",
       "      <td>80</td>\n",
       "      <td>-999</td>\n",
       "      <td>-999</td>\n",
       "      <td>-999</td>\n",
       "      <td>...</td>\n",
       "      <td>-999</td>\n",
       "      <td>-999</td>\n",
       "      <td>-999</td>\n",
       "      <td>-999</td>\n",
       "      <td>-999</td>\n",
       "      <td>-999</td>\n",
       "      <td>-999</td>\n",
       "      <td>28.2</td>\n",
       "      <td>-96.8</td>\n",
       "      <td>NaN</td>\n",
       "    </tr>\n",
       "  </tbody>\n",
       "</table>\n",
       "<p>5 rows × 22 columns</p>\n",
       "</div>"
      ],
      "text/plain": [
       "         ID                 Name      Date  Time Event Status  Maximum Wind  \\\n",
       "0  AL011851              UNNAMED  18510625     0           HU            80   \n",
       "1  AL011851              UNNAMED  18510625   600           HU            80   \n",
       "2  AL011851              UNNAMED  18510625  1200           HU            80   \n",
       "3  AL011851              UNNAMED  18510625  1800           HU            80   \n",
       "4  AL011851              UNNAMED  18510625  2100     L     HU            80   \n",
       "\n",
       "   Low Wind NE  Low Wind SE  Low Wind SW  ...  Moderate Wind SE  \\\n",
       "0         -999         -999         -999  ...              -999   \n",
       "1         -999         -999         -999  ...              -999   \n",
       "2         -999         -999         -999  ...              -999   \n",
       "3         -999         -999         -999  ...              -999   \n",
       "4         -999         -999         -999  ...              -999   \n",
       "\n",
       "   Moderate Wind SW  Moderate Wind NW  High Wind NE  High Wind SE  \\\n",
       "0              -999              -999          -999          -999   \n",
       "1              -999              -999          -999          -999   \n",
       "2              -999              -999          -999          -999   \n",
       "3              -999              -999          -999          -999   \n",
       "4              -999              -999          -999          -999   \n",
       "\n",
       "   High Wind SW  High Wind NW   Lat   Lon  Minimum Pressure  \n",
       "0          -999          -999  28.0 -94.8               NaN  \n",
       "1          -999          -999  28.0 -95.4               NaN  \n",
       "2          -999          -999  28.0 -96.0               NaN  \n",
       "3          -999          -999  28.1 -96.5               NaN  \n",
       "4          -999          -999  28.2 -96.8               NaN  \n",
       "\n",
       "[5 rows x 22 columns]"
      ]
     },
     "execution_count": 18,
     "metadata": {},
     "output_type": "execute_result"
    }
   ],
   "source": [
    "#min pressure values formatting (-999 to NaN)\n",
    "min_pressure = data['Minimum Pressure'].replace(-999, np.nan, regex=True)\n",
    "#replace raw column by formatted column\n",
    "del data['Minimum Pressure']\n",
    "data = data.copy() #to handle SettingwithCopy warning\n",
    "data['Minimum Pressure'] = min_pressure\n",
    "data.head()"
   ]
  },
  {
   "cell_type": "markdown",
   "metadata": {},
   "source": [
    "The new formatted Min.Pressure column has been added to the dataset, by deleting the raw one. It is placed at the end, like all the new columns. However, at the end of the data formatting the columns will be well reordered."
   ]
  },
  {
   "cell_type": "code",
   "execution_count": 19,
   "metadata": {},
   "outputs": [
    {
     "name": "stdout",
     "output_type": "stream",
     "text": [
      "Maximum Wind max. value:  165.0\n",
      "Maximum Wind min. value:  10.0\n"
     ]
    },
    {
     "data": {
      "image/png": "[encoded data removed]",
      "text/plain": [
       "<Figure size 432x288 with 1 Axes>"
      ]
     },
     "metadata": {
      "needs_background": "light"
     },
     "output_type": "display_data"
    }
   ],
   "source": [
    "#max wind formatting -> calculating median and doing the replacement of missing values\n",
    "max_wind_column = data['Maximum Wind']\n",
    "median_max_wind = data['Maximum Wind'].median()\n",
    "max_wind_column = max_wind_column.replace(to_replace=-99,value=median_max_wind)\n",
    "del data['Maximum Wind']\n",
    "data = data.copy() #to handle SettingwithCopy warning\n",
    "data['Maximum Wind'] = max_wind_column\n",
    "\n",
    "#Max wind outliers detection after replacing missing values with median\n",
    "max_wind = data['Maximum Wind']\n",
    "sns.boxplot(x= max_wind)\n",
    "print('Maximum Wind max. value: ', max_wind.max())\n",
    "print('Maximum Wind min. value: ', max_wind.min())"
   ]
  },
  {
   "cell_type": "markdown",
   "metadata": {},
   "source": [
    "As shown right above, the smallest and the biggest records of this column make now sense. Therefore, the data formatting for this column has been successful. "
   ]
  },
  {
   "cell_type": "markdown",
   "metadata": {},
   "source": [
    "#### Date and time formatting"
   ]
  },
  {
   "cell_type": "markdown",
   "metadata": {},
   "source": [
    "This attribute will be formatted and aggregatted in one single attribute which will be called \"timestamp\". \n",
    "To start with the formatting, the Time column must be homogenized. In this case, all the time records must have the same length. Therefore, a zero will be added in front of the shortest records in order to have a length of 4 characters in each row. Basically, for 12am and 6am. "
   ]
  },
  {
   "cell_type": "code",
   "execution_count": 20,
   "metadata": {},
   "outputs": [],
   "source": [
    "#the time column is converted to string in order to be able to add 0 on the front\n",
    "time_str = data['Time'].astype(str)\n",
    "#lambda function to add zeros on the front until the number has 4 figures\n",
    "time_str = data['Time'].apply(lambda x: '{0:0>4}'.format(x))\n",
    "\n",
    "#replace time column\n",
    "del data['Time']\n",
    "data = data.copy() #to handle SettingwithCopy warning\n",
    "data['Time'] = time_str"
   ]
  },
  {
   "cell_type": "markdown",
   "metadata": {},
   "source": [
    "Once the time column is homogenized with 4 figure values in each row, it is time to concatenate these rows and subsequently proceed with the timestamp standard format. In this case, this new column will be formatted according the ISO-8601 for date and time. "
   ]
  },
  {
   "cell_type": "code",
   "execution_count": 21,
   "metadata": {},
   "outputs": [],
   "source": [
    "#time and date must be conncatenated\n",
    "date_str = data['Time']\n",
    "timestamp = data['Date'].astype(str) + data['Time'].astype(str)\n",
    "timestamp_column = []\n",
    "\n",
    "#timestamp formatting according to ISO-8601\n",
    "for x in timestamp:\n",
    "    x_datetime = datetime.datetime.strptime(x, '%Y%m%d%H%M%S')\n",
    "    timestamp_column.append(x_datetime)\n",
    "    \n",
    "#creation of new timestamp column\n",
    "data = data.copy() #to handle SettingwithCopy warning\n",
    "data['Timestamp'] = timestamp_column"
   ]
  },
  {
   "cell_type": "markdown",
   "metadata": {},
   "source": [
    "Once this is done, it is time to reorder the columns of the data "
   ]
  },
  {
   "cell_type": "code",
   "execution_count": 22,
   "metadata": {},
   "outputs": [],
   "source": [
    "data=data[['ID', 'Name','Timestamp', 'Lat', 'Lon', 'Event', 'Status', 'Maximum Wind', 'Minimum Pressure', 'Low Wind NE', 'Low Wind SE', 'Low Wind SW', 'Low Wind NW', 'Moderate Wind NE', 'Moderate Wind SE', 'Moderate Wind SW', 'Moderate Wind NW', 'High Wind NE', 'High Wind SE', 'High Wind SW', 'High Wind NW']]"
   ]
  },
  {
   "cell_type": "markdown",
   "metadata": {},
   "source": [
    "#### Low-Moderate-High wind values"
   ]
  },
  {
   "cell_type": "markdown",
   "metadata": {},
   "source": [
    "As a last step of this section, the wind values attributes must be explored and formatted. According to the metadata, these values are accurately tracked since 2004. Due to this fact, the missing values (marked as -999), will be transformed to NULL values. With that, these attributes will not bother the EDA."
   ]
  },
  {
   "cell_type": "code",
   "execution_count": 23,
   "metadata": {},
   "outputs": [
    {
     "data": {
      "text/html": [
       "<div>\n",
       "<style scoped>\n",
       "    .dataframe tbody tr th:only-of-type {\n",
       "        vertical-align: middle;\n",
       "    }\n",
       "\n",
       "    .dataframe tbody tr th {\n",
       "        vertical-align: top;\n",
       "    }\n",
       "\n",
       "    .dataframe thead th {\n",
       "        text-align: right;\n",
       "    }\n",
       "</style>\n",
       "<table border=\"1\" class=\"dataframe\">\n",
       "  <thead>\n",
       "    <tr style=\"text-align: right;\">\n",
       "      <th></th>\n",
       "      <th>ID</th>\n",
       "      <th>Name</th>\n",
       "      <th>Timestamp</th>\n",
       "      <th>Lat</th>\n",
       "      <th>Lon</th>\n",
       "      <th>Event</th>\n",
       "      <th>Status</th>\n",
       "      <th>Maximum Wind</th>\n",
       "      <th>Minimum Pressure</th>\n",
       "      <th>Low Wind NE</th>\n",
       "      <th>...</th>\n",
       "      <th>Low Wind SW</th>\n",
       "      <th>Low Wind NW</th>\n",
       "      <th>Moderate Wind NE</th>\n",
       "      <th>Moderate Wind SE</th>\n",
       "      <th>Moderate Wind SW</th>\n",
       "      <th>Moderate Wind NW</th>\n",
       "      <th>High Wind NE</th>\n",
       "      <th>High Wind SE</th>\n",
       "      <th>High Wind SW</th>\n",
       "      <th>High Wind NW</th>\n",
       "    </tr>\n",
       "  </thead>\n",
       "  <tbody>\n",
       "    <tr>\n",
       "      <th>0</th>\n",
       "      <td>AL011851</td>\n",
       "      <td>UNNAMED</td>\n",
       "      <td>1851-06-25 00:00:00</td>\n",
       "      <td>28.0</td>\n",
       "      <td>-94.8</td>\n",
       "      <td></td>\n",
       "      <td>HU</td>\n",
       "      <td>80.0</td>\n",
       "      <td>NaN</td>\n",
       "      <td>NaN</td>\n",
       "      <td>...</td>\n",
       "      <td>NaN</td>\n",
       "      <td>NaN</td>\n",
       "      <td>NaN</td>\n",
       "      <td>NaN</td>\n",
       "      <td>NaN</td>\n",
       "      <td>NaN</td>\n",
       "      <td>NaN</td>\n",
       "      <td>NaN</td>\n",
       "      <td>NaN</td>\n",
       "      <td>NaN</td>\n",
       "    </tr>\n",
       "    <tr>\n",
       "      <th>1</th>\n",
       "      <td>AL011851</td>\n",
       "      <td>UNNAMED</td>\n",
       "      <td>1851-06-25 06:00:00</td>\n",
       "      <td>28.0</td>\n",
       "      <td>-95.4</td>\n",
       "      <td></td>\n",
       "      <td>HU</td>\n",
       "      <td>80.0</td>\n",
       "      <td>NaN</td>\n",
       "      <td>NaN</td>\n",
       "      <td>...</td>\n",
       "      <td>NaN</td>\n",
       "      <td>NaN</td>\n",
       "      <td>NaN</td>\n",
       "      <td>NaN</td>\n",
       "      <td>NaN</td>\n",
       "      <td>NaN</td>\n",
       "      <td>NaN</td>\n",
       "      <td>NaN</td>\n",
       "      <td>NaN</td>\n",
       "      <td>NaN</td>\n",
       "    </tr>\n",
       "    <tr>\n",
       "      <th>2</th>\n",
       "      <td>AL011851</td>\n",
       "      <td>UNNAMED</td>\n",
       "      <td>1851-06-25 12:00:00</td>\n",
       "      <td>28.0</td>\n",
       "      <td>-96.0</td>\n",
       "      <td></td>\n",
       "      <td>HU</td>\n",
       "      <td>80.0</td>\n",
       "      <td>NaN</td>\n",
       "      <td>NaN</td>\n",
       "      <td>...</td>\n",
       "      <td>NaN</td>\n",
       "      <td>NaN</td>\n",
       "      <td>NaN</td>\n",
       "      <td>NaN</td>\n",
       "      <td>NaN</td>\n",
       "      <td>NaN</td>\n",
       "      <td>NaN</td>\n",
       "      <td>NaN</td>\n",
       "      <td>NaN</td>\n",
       "      <td>NaN</td>\n",
       "    </tr>\n",
       "    <tr>\n",
       "      <th>3</th>\n",
       "      <td>AL011851</td>\n",
       "      <td>UNNAMED</td>\n",
       "      <td>1851-06-25 18:00:00</td>\n",
       "      <td>28.1</td>\n",
       "      <td>-96.5</td>\n",
       "      <td></td>\n",
       "      <td>HU</td>\n",
       "      <td>80.0</td>\n",
       "      <td>NaN</td>\n",
       "      <td>NaN</td>\n",
       "      <td>...</td>\n",
       "      <td>NaN</td>\n",
       "      <td>NaN</td>\n",
       "      <td>NaN</td>\n",
       "      <td>NaN</td>\n",
       "      <td>NaN</td>\n",
       "      <td>NaN</td>\n",
       "      <td>NaN</td>\n",
       "      <td>NaN</td>\n",
       "      <td>NaN</td>\n",
       "      <td>NaN</td>\n",
       "    </tr>\n",
       "    <tr>\n",
       "      <th>4</th>\n",
       "      <td>AL011851</td>\n",
       "      <td>UNNAMED</td>\n",
       "      <td>1851-06-25 21:00:00</td>\n",
       "      <td>28.2</td>\n",
       "      <td>-96.8</td>\n",
       "      <td>L</td>\n",
       "      <td>HU</td>\n",
       "      <td>80.0</td>\n",
       "      <td>NaN</td>\n",
       "      <td>NaN</td>\n",
       "      <td>...</td>\n",
       "      <td>NaN</td>\n",
       "      <td>NaN</td>\n",
       "      <td>NaN</td>\n",
       "      <td>NaN</td>\n",
       "      <td>NaN</td>\n",
       "      <td>NaN</td>\n",
       "      <td>NaN</td>\n",
       "      <td>NaN</td>\n",
       "      <td>NaN</td>\n",
       "      <td>NaN</td>\n",
       "    </tr>\n",
       "  </tbody>\n",
       "</table>\n",
       "<p>5 rows × 21 columns</p>\n",
       "</div>"
      ],
      "text/plain": [
       "         ID                 Name           Timestamp   Lat   Lon Event Status  \\\n",
       "0  AL011851              UNNAMED 1851-06-25 00:00:00  28.0 -94.8           HU   \n",
       "1  AL011851              UNNAMED 1851-06-25 06:00:00  28.0 -95.4           HU   \n",
       "2  AL011851              UNNAMED 1851-06-25 12:00:00  28.0 -96.0           HU   \n",
       "3  AL011851              UNNAMED 1851-06-25 18:00:00  28.1 -96.5           HU   \n",
       "4  AL011851              UNNAMED 1851-06-25 21:00:00  28.2 -96.8     L     HU   \n",
       "\n",
       "   Maximum Wind  Minimum Pressure  Low Wind NE  ...  Low Wind SW  Low Wind NW  \\\n",
       "0          80.0               NaN          NaN  ...          NaN          NaN   \n",
       "1          80.0               NaN          NaN  ...          NaN          NaN   \n",
       "2          80.0               NaN          NaN  ...          NaN          NaN   \n",
       "3          80.0               NaN          NaN  ...          NaN          NaN   \n",
       "4          80.0               NaN          NaN  ...          NaN          NaN   \n",
       "\n",
       "   Moderate Wind NE  Moderate Wind SE  Moderate Wind SW  Moderate Wind NW  \\\n",
       "0               NaN               NaN               NaN               NaN   \n",
       "1               NaN               NaN               NaN               NaN   \n",
       "2               NaN               NaN               NaN               NaN   \n",
       "3               NaN               NaN               NaN               NaN   \n",
       "4               NaN               NaN               NaN               NaN   \n",
       "\n",
       "   High Wind NE  High Wind SE  High Wind SW  High Wind NW  \n",
       "0           NaN           NaN           NaN           NaN  \n",
       "1           NaN           NaN           NaN           NaN  \n",
       "2           NaN           NaN           NaN           NaN  \n",
       "3           NaN           NaN           NaN           NaN  \n",
       "4           NaN           NaN           NaN           NaN  \n",
       "\n",
       "[5 rows x 21 columns]"
      ]
     },
     "execution_count": 23,
     "metadata": {},
     "output_type": "execute_result"
    }
   ],
   "source": [
    "#all the dataset is taken into account to optimize code\n",
    "data = data.replace(-999, np.nan, regex=True)\n",
    "data.head()"
   ]
  },
  {
   "cell_type": "markdown",
   "metadata": {},
   "source": [
    "To finish with this first section, since the data has already been cleaned and formatted, some additional plotting and data insights exploration will be carried out. "
   ]
  },
  {
   "cell_type": "code",
   "execution_count": 24,
   "metadata": {},
   "outputs": [
    {
     "data": {
      "text/plain": [
       "Text(0, 0.5, 'Count of movements')"
      ]
     },
     "execution_count": 24,
     "metadata": {},
     "output_type": "execute_result"
    },
    {
     "data": {
      "image/png": "[encoded data removed]",
      "text/plain": [
       "<Figure size 432x288 with 1 Axes>"
      ]
     },
     "metadata": {
      "needs_background": "light"
     },
     "output_type": "display_data"
    }
   ],
   "source": [
    "plt.hist(data['Timestamp'], color = 'blue', edgecolor = 'black')\n",
    "# Labels\n",
    "plt.title('Histogram of Hurricane counted registered movements')\n",
    "plt.xlabel('Time(Years)')\n",
    "plt.ylabel('Count of movements')"
   ]
  },
  {
   "cell_type": "markdown",
   "metadata": {},
   "source": [
    "The increase of counted hurricane movements after throughout the decades is probably consequence of better and more reliable measurements, rather than the potential increase of hurricanes. Below, the number of registered movements in the dataset and total of hurricanes is shown."
   ]
  },
  {
   "cell_type": "code",
   "execution_count": 25,
   "metadata": {},
   "outputs": [
    {
     "name": "stdout",
     "output_type": "stream",
     "text": [
      "Total number of hurricane movements:  49103\n",
      "Total number of hurricanes:  1814\n"
     ]
    }
   ],
   "source": [
    "#total number of movements and hurricanes registered in the dataset\n",
    "ids = data.ID.values.tolist()\n",
    "ids_dist = np.unique(ids)\n",
    "print('Total number of hurricane movements: ', len(data.index))\n",
    "print('Total number of hurricanes: ', len(np.unique(ids)))"
   ]
  },
  {
   "cell_type": "code",
   "execution_count": 26,
   "metadata": {},
   "outputs": [
    {
     "data": {
      "text/html": [
       "<div>\n",
       "<style scoped>\n",
       "    .dataframe tbody tr th:only-of-type {\n",
       "        vertical-align: middle;\n",
       "    }\n",
       "\n",
       "    .dataframe tbody tr th {\n",
       "        vertical-align: top;\n",
       "    }\n",
       "\n",
       "    .dataframe thead th {\n",
       "        text-align: right;\n",
       "    }\n",
       "</style>\n",
       "<table border=\"1\" class=\"dataframe\">\n",
       "  <thead>\n",
       "    <tr style=\"text-align: right;\">\n",
       "      <th></th>\n",
       "      <th>Lat</th>\n",
       "      <th>Lon</th>\n",
       "      <th>Maximum Wind</th>\n",
       "      <th>Minimum Pressure</th>\n",
       "      <th>Low Wind NE</th>\n",
       "      <th>Low Wind SE</th>\n",
       "      <th>Low Wind SW</th>\n",
       "      <th>Low Wind NW</th>\n",
       "      <th>Moderate Wind NE</th>\n",
       "      <th>Moderate Wind SE</th>\n",
       "      <th>Moderate Wind SW</th>\n",
       "      <th>Moderate Wind NW</th>\n",
       "      <th>High Wind NE</th>\n",
       "      <th>High Wind SE</th>\n",
       "      <th>High Wind SW</th>\n",
       "      <th>High Wind NW</th>\n",
       "    </tr>\n",
       "  </thead>\n",
       "  <tbody>\n",
       "    <tr>\n",
       "      <th>count</th>\n",
       "      <td>49103.000000</td>\n",
       "      <td>49103.000000</td>\n",
       "      <td>49103.000000</td>\n",
       "      <td>18436.000000</td>\n",
       "      <td>5921.000000</td>\n",
       "      <td>5921.000000</td>\n",
       "      <td>5921.000000</td>\n",
       "      <td>5921.000000</td>\n",
       "      <td>5921.000000</td>\n",
       "      <td>5921.000000</td>\n",
       "      <td>5921.000000</td>\n",
       "      <td>5921.000000</td>\n",
       "      <td>5921.000000</td>\n",
       "      <td>5921.000000</td>\n",
       "      <td>5921.000000</td>\n",
       "      <td>5921.000000</td>\n",
       "    </tr>\n",
       "    <tr>\n",
       "      <th>mean</th>\n",
       "      <td>27.044229</td>\n",
       "      <td>-65.670597</td>\n",
       "      <td>52.997006</td>\n",
       "      <td>992.244250</td>\n",
       "      <td>81.865394</td>\n",
       "      <td>76.518325</td>\n",
       "      <td>48.647188</td>\n",
       "      <td>59.156393</td>\n",
       "      <td>24.641952</td>\n",
       "      <td>23.029894</td>\n",
       "      <td>15.427293</td>\n",
       "      <td>18.403141</td>\n",
       "      <td>8.110117</td>\n",
       "      <td>7.357710</td>\n",
       "      <td>5.130890</td>\n",
       "      <td>6.269211</td>\n",
       "    </tr>\n",
       "    <tr>\n",
       "      <th>std</th>\n",
       "      <td>10.077531</td>\n",
       "      <td>19.598589</td>\n",
       "      <td>24.671781</td>\n",
       "      <td>19.113748</td>\n",
       "      <td>88.097930</td>\n",
       "      <td>87.563153</td>\n",
       "      <td>75.209183</td>\n",
       "      <td>77.568911</td>\n",
       "      <td>41.592337</td>\n",
       "      <td>42.017821</td>\n",
       "      <td>32.105372</td>\n",
       "      <td>35.411258</td>\n",
       "      <td>19.792002</td>\n",
       "      <td>18.730334</td>\n",
       "      <td>14.033464</td>\n",
       "      <td>16.876623</td>\n",
       "    </tr>\n",
       "    <tr>\n",
       "      <th>min</th>\n",
       "      <td>7.200000</td>\n",
       "      <td>-109.500000</td>\n",
       "      <td>10.000000</td>\n",
       "      <td>882.000000</td>\n",
       "      <td>0.000000</td>\n",
       "      <td>0.000000</td>\n",
       "      <td>0.000000</td>\n",
       "      <td>0.000000</td>\n",
       "      <td>0.000000</td>\n",
       "      <td>0.000000</td>\n",
       "      <td>0.000000</td>\n",
       "      <td>0.000000</td>\n",
       "      <td>0.000000</td>\n",
       "      <td>0.000000</td>\n",
       "      <td>0.000000</td>\n",
       "      <td>0.000000</td>\n",
       "    </tr>\n",
       "    <tr>\n",
       "      <th>25%</th>\n",
       "      <td>19.100000</td>\n",
       "      <td>-81.000000</td>\n",
       "      <td>35.000000</td>\n",
       "      <td>984.000000</td>\n",
       "      <td>0.000000</td>\n",
       "      <td>0.000000</td>\n",
       "      <td>0.000000</td>\n",
       "      <td>0.000000</td>\n",
       "      <td>0.000000</td>\n",
       "      <td>0.000000</td>\n",
       "      <td>0.000000</td>\n",
       "      <td>0.000000</td>\n",
       "      <td>0.000000</td>\n",
       "      <td>0.000000</td>\n",
       "      <td>0.000000</td>\n",
       "      <td>0.000000</td>\n",
       "    </tr>\n",
       "    <tr>\n",
       "      <th>50%</th>\n",
       "      <td>26.400000</td>\n",
       "      <td>-68.000000</td>\n",
       "      <td>45.000000</td>\n",
       "      <td>999.000000</td>\n",
       "      <td>60.000000</td>\n",
       "      <td>60.000000</td>\n",
       "      <td>0.000000</td>\n",
       "      <td>40.000000</td>\n",
       "      <td>0.000000</td>\n",
       "      <td>0.000000</td>\n",
       "      <td>0.000000</td>\n",
       "      <td>0.000000</td>\n",
       "      <td>0.000000</td>\n",
       "      <td>0.000000</td>\n",
       "      <td>0.000000</td>\n",
       "      <td>0.000000</td>\n",
       "    </tr>\n",
       "    <tr>\n",
       "      <th>75%</th>\n",
       "      <td>33.100000</td>\n",
       "      <td>-52.500000</td>\n",
       "      <td>70.000000</td>\n",
       "      <td>1006.000000</td>\n",
       "      <td>130.000000</td>\n",
       "      <td>120.000000</td>\n",
       "      <td>75.000000</td>\n",
       "      <td>90.000000</td>\n",
       "      <td>40.000000</td>\n",
       "      <td>35.000000</td>\n",
       "      <td>20.000000</td>\n",
       "      <td>30.000000</td>\n",
       "      <td>0.000000</td>\n",
       "      <td>0.000000</td>\n",
       "      <td>0.000000</td>\n",
       "      <td>0.000000</td>\n",
       "    </tr>\n",
       "    <tr>\n",
       "      <th>max</th>\n",
       "      <td>81.000000</td>\n",
       "      <td>63.000000</td>\n",
       "      <td>165.000000</td>\n",
       "      <td>1024.000000</td>\n",
       "      <td>710.000000</td>\n",
       "      <td>600.000000</td>\n",
       "      <td>640.000000</td>\n",
       "      <td>530.000000</td>\n",
       "      <td>360.000000</td>\n",
       "      <td>300.000000</td>\n",
       "      <td>330.000000</td>\n",
       "      <td>360.000000</td>\n",
       "      <td>180.000000</td>\n",
       "      <td>250.000000</td>\n",
       "      <td>150.000000</td>\n",
       "      <td>180.000000</td>\n",
       "    </tr>\n",
       "  </tbody>\n",
       "</table>\n",
       "</div>"
      ],
      "text/plain": [
       "                Lat           Lon  Maximum Wind  Minimum Pressure  \\\n",
       "count  49103.000000  49103.000000  49103.000000      18436.000000   \n",
       "mean      27.044229    -65.670597     52.997006        992.244250   \n",
       "std       10.077531     19.598589     24.671781         19.113748   \n",
       "min        7.200000   -109.500000     10.000000        882.000000   \n",
       "25%       19.100000    -81.000000     35.000000        984.000000   \n",
       "50%       26.400000    -68.000000     45.000000        999.000000   \n",
       "75%       33.100000    -52.500000     70.000000       1006.000000   \n",
       "max       81.000000     63.000000    165.000000       1024.000000   \n",
       "\n",
       "       Low Wind NE  Low Wind SE  Low Wind SW  Low Wind NW  Moderate Wind NE  \\\n",
       "count  5921.000000  5921.000000  5921.000000  5921.000000       5921.000000   \n",
       "mean     81.865394    76.518325    48.647188    59.156393         24.641952   \n",
       "std      88.097930    87.563153    75.209183    77.568911         41.592337   \n",
       "min       0.000000     0.000000     0.000000     0.000000          0.000000   \n",
       "25%       0.000000     0.000000     0.000000     0.000000          0.000000   \n",
       "50%      60.000000    60.000000     0.000000    40.000000          0.000000   \n",
       "75%     130.000000   120.000000    75.000000    90.000000         40.000000   \n",
       "max     710.000000   600.000000   640.000000   530.000000        360.000000   \n",
       "\n",
       "       Moderate Wind SE  Moderate Wind SW  Moderate Wind NW  High Wind NE  \\\n",
       "count       5921.000000       5921.000000       5921.000000   5921.000000   \n",
       "mean          23.029894         15.427293         18.403141      8.110117   \n",
       "std           42.017821         32.105372         35.411258     19.792002   \n",
       "min            0.000000          0.000000          0.000000      0.000000   \n",
       "25%            0.000000          0.000000          0.000000      0.000000   \n",
       "50%            0.000000          0.000000          0.000000      0.000000   \n",
       "75%           35.000000         20.000000         30.000000      0.000000   \n",
       "max          300.000000        330.000000        360.000000    180.000000   \n",
       "\n",
       "       High Wind SE  High Wind SW  High Wind NW  \n",
       "count   5921.000000   5921.000000   5921.000000  \n",
       "mean       7.357710      5.130890      6.269211  \n",
       "std       18.730334     14.033464     16.876623  \n",
       "min        0.000000      0.000000      0.000000  \n",
       "25%        0.000000      0.000000      0.000000  \n",
       "50%        0.000000      0.000000      0.000000  \n",
       "75%        0.000000      0.000000      0.000000  \n",
       "max      250.000000    150.000000    180.000000  "
      ]
     },
     "execution_count": 26,
     "metadata": {},
     "output_type": "execute_result"
    }
   ],
   "source": [
    "#summary statistics of the whole dataset\n",
    "data.describe()"
   ]
  },
  {
   "cell_type": "markdown",
   "metadata": {},
   "source": [
    "As observable in this summary statistics of the quantitative variables of the dataset, the -999 values are not taken into account due to the NaN handling. "
   ]
  },
  {
   "cell_type": "markdown",
   "metadata": {},
   "source": [
    "Regarding categorical variables, Status and Event can be the only ones identified (Name and ID are instance indentifiers)."
   ]
  },
  {
   "cell_type": "code",
   "execution_count": 27,
   "metadata": {},
   "outputs": [
    {
     "name": "stdout",
     "output_type": "stream",
     "text": [
      "Event categories:  ['  ' ' L' ' R' ' I' ' P' ' W' ' C' ' S' ' G' ' T']\n",
      "Status categories:  [' HU' ' TS' ' EX' ' TD' ' LO' ' DB' ' SD' ' SS' ' WV']\n"
     ]
    }
   ],
   "source": [
    "#explore its categories\n",
    "print('Event categories: ', data['Event'].unique())\n",
    "print('Status categories: ', data['Status'].unique())"
   ]
  },
  {
   "cell_type": "markdown",
   "metadata": {},
   "source": [
    "For description of each specific category, see the attached metadata document in this repository. "
   ]
  },
  {
   "cell_type": "code",
   "execution_count": 28,
   "metadata": {},
   "outputs": [
    {
     "name": "stdout",
     "output_type": "stream",
     "text": [
      "Bounding box:  [-109.5    7.2   63.    81. ]\n"
     ]
    },
    {
     "data": {
      "image/png": "[encoded data removed]",
      "text/plain": [
       "<Figure size 432x288 with 1 Axes>"
      ]
     },
     "metadata": {
      "needs_background": "light"
     },
     "output_type": "display_data"
    }
   ],
   "source": [
    "#Geographical bbox of the entire dataset\n",
    "data_gdf = gpd.GeoDataFrame(data, geometry=gpd.points_from_xy(data.Lon, data.Lat))\n",
    "bbox = data_gdf.total_bounds\n",
    "print('Bounding box: ', bbox)\n",
    "#create bbox polygon & plot it using shapely\n",
    "box_pol = box(*bbox)\n",
    "gpd_box = gpd.GeoSeries(box_pol)\n",
    "proj_bbox = gpd_box.set_crs(epsg=4326)\n",
    "base = world.plot(color='brown', edgecolor='black')\n",
    "proj_bbox.boundary.plot(ax=base, marker='x', color='blue', markersize=25);"
   ]
  },
  {
   "cell_type": "markdown",
   "metadata": {},
   "source": [
    "As shown in this map, the dataset covers the atlantic ocean accordingly."
   ]
  },
  {
   "cell_type": "code",
   "execution_count": 29,
   "metadata": {},
   "outputs": [
    {
     "name": "stdout",
     "output_type": "stream",
     "text": [
      "Starting date of the dataset:  1851-06-25 00:00:00\n",
      "Last record of the dataset;  2015-11-13 12:00:00\n"
     ]
    }
   ],
   "source": [
    "#check specific temporal timeline of the dataset\n",
    "print('Starting date of the dataset: ', min(data['Timestamp']))\n",
    "print('Last record of the dataset; ', max(data['Timestamp']))"
   ]
  },
  {
   "cell_type": "code",
   "execution_count": 30,
   "metadata": {},
   "outputs": [
    {
     "data": {
      "text/plain": [
       "<seaborn.axisgrid.PairGrid at 0x1fc70cf73d0>"
      ]
     },
     "execution_count": 30,
     "metadata": {},
     "output_type": "execute_result"
    },
    {
     "data": {
      "image/png": "[encoded data removed]",
      "text/plain": [
       "<Figure size 360x360 with 6 Axes>"
      ]
     },
     "metadata": {
      "needs_background": "light"
     },
     "output_type": "display_data"
    }
   ],
   "source": [
    "#correlation between Wind and Pressure\n",
    "sns.pairplot(data,\n",
    "    x_vars=[\"Maximum Wind\", \"Minimum Pressure\"],\n",
    "    y_vars=[\"Maximum Wind\", \"Minimum Pressure\"],\n",
    ")"
   ]
  },
  {
   "cell_type": "markdown",
   "metadata": {},
   "source": [
    "To simplify the correlation plotting of variables and start approaching the prediction problem, wind and pressure have been selected since they will be relevant predictor variables. According to the plot and some basic metheorological principles, pressure and wind are always negatively correlated (lower the pressure the higher the wind). "
   ]
  },
  {
   "cell_type": "markdown",
   "metadata": {},
   "source": [
    "## 2. Feature Engineering"
   ]
  },
  {
   "cell_type": "markdown",
   "metadata": {},
   "source": [
    "In this second section, the preparation of the data for feeding the subsequent prediction algorithms will be carried out. Therefore, predictor features will be defined and irrelevant columns will be ignored. The selected variables from the data are Maximum Wind and Minimum Pressure, since the low, moderate and high wind values are not as relevant for this prediction problem (they would be more relevant to predict position since they give orientation information) and there are only 5000 available records (from 2004 onwards). According to this, these variables wil be ignored and only ID, Timestamp, Lat & Lon, Max Wind and Min Pressure will be kept. From here, the feature to predict will be calculated: speed. Once the speed is calculated, the main predictor feature will be created out of it: speed value of each previous movement. Finally, some correlation techniques will be applied to detect correlation between the different input columns and the output feature (speed). "
   ]
  },
  {
   "cell_type": "code",
   "execution_count": 31,
   "metadata": {},
   "outputs": [
    {
     "data": {
      "text/html": [
       "<div>\n",
       "<style scoped>\n",
       "    .dataframe tbody tr th:only-of-type {\n",
       "        vertical-align: middle;\n",
       "    }\n",
       "\n",
       "    .dataframe tbody tr th {\n",
       "        vertical-align: top;\n",
       "    }\n",
       "\n",
       "    .dataframe thead th {\n",
       "        text-align: right;\n",
       "    }\n",
       "</style>\n",
       "<table border=\"1\" class=\"dataframe\">\n",
       "  <thead>\n",
       "    <tr style=\"text-align: right;\">\n",
       "      <th></th>\n",
       "      <th>ID</th>\n",
       "      <th>Timestamp</th>\n",
       "      <th>Lat</th>\n",
       "      <th>Lon</th>\n",
       "      <th>Maximum Wind</th>\n",
       "      <th>Minimum Pressure</th>\n",
       "    </tr>\n",
       "  </thead>\n",
       "  <tbody>\n",
       "    <tr>\n",
       "      <th>0</th>\n",
       "      <td>AL011851</td>\n",
       "      <td>1851-06-25 00:00:00</td>\n",
       "      <td>28.0</td>\n",
       "      <td>-94.8</td>\n",
       "      <td>80.0</td>\n",
       "      <td>NaN</td>\n",
       "    </tr>\n",
       "    <tr>\n",
       "      <th>1</th>\n",
       "      <td>AL011851</td>\n",
       "      <td>1851-06-25 06:00:00</td>\n",
       "      <td>28.0</td>\n",
       "      <td>-95.4</td>\n",
       "      <td>80.0</td>\n",
       "      <td>NaN</td>\n",
       "    </tr>\n",
       "    <tr>\n",
       "      <th>2</th>\n",
       "      <td>AL011851</td>\n",
       "      <td>1851-06-25 12:00:00</td>\n",
       "      <td>28.0</td>\n",
       "      <td>-96.0</td>\n",
       "      <td>80.0</td>\n",
       "      <td>NaN</td>\n",
       "    </tr>\n",
       "    <tr>\n",
       "      <th>3</th>\n",
       "      <td>AL011851</td>\n",
       "      <td>1851-06-25 18:00:00</td>\n",
       "      <td>28.1</td>\n",
       "      <td>-96.5</td>\n",
       "      <td>80.0</td>\n",
       "      <td>NaN</td>\n",
       "    </tr>\n",
       "    <tr>\n",
       "      <th>4</th>\n",
       "      <td>AL011851</td>\n",
       "      <td>1851-06-25 21:00:00</td>\n",
       "      <td>28.2</td>\n",
       "      <td>-96.8</td>\n",
       "      <td>80.0</td>\n",
       "      <td>NaN</td>\n",
       "    </tr>\n",
       "  </tbody>\n",
       "</table>\n",
       "</div>"
      ],
      "text/plain": [
       "         ID           Timestamp   Lat   Lon  Maximum Wind  Minimum Pressure\n",
       "0  AL011851 1851-06-25 00:00:00  28.0 -94.8          80.0               NaN\n",
       "1  AL011851 1851-06-25 06:00:00  28.0 -95.4          80.0               NaN\n",
       "2  AL011851 1851-06-25 12:00:00  28.0 -96.0          80.0               NaN\n",
       "3  AL011851 1851-06-25 18:00:00  28.1 -96.5          80.0               NaN\n",
       "4  AL011851 1851-06-25 21:00:00  28.2 -96.8          80.0               NaN"
      ]
     },
     "execution_count": 31,
     "metadata": {},
     "output_type": "execute_result"
    }
   ],
   "source": [
    "#creating data frame for used for prediction\n",
    "data_pred = data[['ID', 'Timestamp', 'Lat', 'Lon', 'Maximum Wind', 'Minimum Pressure']]\n",
    "data_pred.head()"
   ]
  },
  {
   "cell_type": "markdown",
   "metadata": {},
   "source": [
    "With the prediction dateset looking like this, the main feature to predict (speed) will be added and accordingly calculated. However, it is not as straightforward as it looks. First of all, a new feature regarding location (lat & lon merged) must be added in the dataframe. From here, the distance moved (within each measurement - 6h) will be calculated and therefore, a distance feature will be also added. Finally, speed will be able to be calculated by using the distance and time. "
   ]
  },
  {
   "cell_type": "code",
   "execution_count": 32,
   "metadata": {},
   "outputs": [],
   "source": [
    "x= data.Lon.values.tolist() #longitudes\n",
    "y= data.Lat.values.tolist() #latitudes\n",
    "location = []\n",
    "\n",
    "for i in range(len(data)):\n",
    "    loc1=(y[i], x[i])\n",
    "    location.append(loc1)\n",
    "    \n",
    "data_pred = data_pred.copy() #to handle SettingwithCopy warning\n",
    "data_pred['Location'] = location"
   ]
  },
  {
   "cell_type": "code",
   "execution_count": 33,
   "metadata": {},
   "outputs": [
    {
     "data": {
      "text/html": [
       "<div>\n",
       "<style scoped>\n",
       "    .dataframe tbody tr th:only-of-type {\n",
       "        vertical-align: middle;\n",
       "    }\n",
       "\n",
       "    .dataframe tbody tr th {\n",
       "        vertical-align: top;\n",
       "    }\n",
       "\n",
       "    .dataframe thead th {\n",
       "        text-align: right;\n",
       "    }\n",
       "</style>\n",
       "<table border=\"1\" class=\"dataframe\">\n",
       "  <thead>\n",
       "    <tr style=\"text-align: right;\">\n",
       "      <th></th>\n",
       "      <th>ID</th>\n",
       "      <th>Timestamp</th>\n",
       "      <th>Lat</th>\n",
       "      <th>Lon</th>\n",
       "      <th>Maximum Wind</th>\n",
       "      <th>Minimum Pressure</th>\n",
       "      <th>Location</th>\n",
       "    </tr>\n",
       "  </thead>\n",
       "  <tbody>\n",
       "    <tr>\n",
       "      <th>0</th>\n",
       "      <td>AL011851</td>\n",
       "      <td>1851-06-25 00:00:00</td>\n",
       "      <td>28.0</td>\n",
       "      <td>-94.8</td>\n",
       "      <td>80.0</td>\n",
       "      <td>NaN</td>\n",
       "      <td>(28.0, -94.8)</td>\n",
       "    </tr>\n",
       "    <tr>\n",
       "      <th>1</th>\n",
       "      <td>AL011851</td>\n",
       "      <td>1851-06-25 06:00:00</td>\n",
       "      <td>28.0</td>\n",
       "      <td>-95.4</td>\n",
       "      <td>80.0</td>\n",
       "      <td>NaN</td>\n",
       "      <td>(28.0, -95.4)</td>\n",
       "    </tr>\n",
       "    <tr>\n",
       "      <th>2</th>\n",
       "      <td>AL011851</td>\n",
       "      <td>1851-06-25 12:00:00</td>\n",
       "      <td>28.0</td>\n",
       "      <td>-96.0</td>\n",
       "      <td>80.0</td>\n",
       "      <td>NaN</td>\n",
       "      <td>(28.0, -96.0)</td>\n",
       "    </tr>\n",
       "    <tr>\n",
       "      <th>3</th>\n",
       "      <td>AL011851</td>\n",
       "      <td>1851-06-25 18:00:00</td>\n",
       "      <td>28.1</td>\n",
       "      <td>-96.5</td>\n",
       "      <td>80.0</td>\n",
       "      <td>NaN</td>\n",
       "      <td>(28.1, -96.5)</td>\n",
       "    </tr>\n",
       "    <tr>\n",
       "      <th>4</th>\n",
       "      <td>AL011851</td>\n",
       "      <td>1851-06-25 21:00:00</td>\n",
       "      <td>28.2</td>\n",
       "      <td>-96.8</td>\n",
       "      <td>80.0</td>\n",
       "      <td>NaN</td>\n",
       "      <td>(28.2, -96.8)</td>\n",
       "    </tr>\n",
       "  </tbody>\n",
       "</table>\n",
       "</div>"
      ],
      "text/plain": [
       "         ID           Timestamp   Lat   Lon  Maximum Wind  Minimum Pressure  \\\n",
       "0  AL011851 1851-06-25 00:00:00  28.0 -94.8          80.0               NaN   \n",
       "1  AL011851 1851-06-25 06:00:00  28.0 -95.4          80.0               NaN   \n",
       "2  AL011851 1851-06-25 12:00:00  28.0 -96.0          80.0               NaN   \n",
       "3  AL011851 1851-06-25 18:00:00  28.1 -96.5          80.0               NaN   \n",
       "4  AL011851 1851-06-25 21:00:00  28.2 -96.8          80.0               NaN   \n",
       "\n",
       "        Location  \n",
       "0  (28.0, -94.8)  \n",
       "1  (28.0, -95.4)  \n",
       "2  (28.0, -96.0)  \n",
       "3  (28.1, -96.5)  \n",
       "4  (28.2, -96.8)  "
      ]
     },
     "execution_count": 33,
     "metadata": {},
     "output_type": "execute_result"
    }
   ],
   "source": [
    "data_pred.head()"
   ]
  },
  {
   "cell_type": "markdown",
   "metadata": {},
   "source": [
    "Locations field has been calculated, now the two fields lat and lon can be removed from this prediction dataframe and proceed through the distance field calculation. In this calculation, the different hurricane ID's must be taken into account, so values are not mixed. "
   ]
  },
  {
   "cell_type": "code",
   "execution_count": 34,
   "metadata": {},
   "outputs": [
    {
     "data": {
      "text/html": [
       "<div>\n",
       "<style scoped>\n",
       "    .dataframe tbody tr th:only-of-type {\n",
       "        vertical-align: middle;\n",
       "    }\n",
       "\n",
       "    .dataframe tbody tr th {\n",
       "        vertical-align: top;\n",
       "    }\n",
       "\n",
       "    .dataframe thead th {\n",
       "        text-align: right;\n",
       "    }\n",
       "</style>\n",
       "<table border=\"1\" class=\"dataframe\">\n",
       "  <thead>\n",
       "    <tr style=\"text-align: right;\">\n",
       "      <th></th>\n",
       "      <th>ID</th>\n",
       "      <th>Timestamp</th>\n",
       "      <th>Maximum Wind</th>\n",
       "      <th>Minimum Pressure</th>\n",
       "      <th>Location</th>\n",
       "      <th>Distance_km</th>\n",
       "    </tr>\n",
       "  </thead>\n",
       "  <tbody>\n",
       "    <tr>\n",
       "      <th>0</th>\n",
       "      <td>AL011851</td>\n",
       "      <td>1851-06-25 00:00:00</td>\n",
       "      <td>80.0</td>\n",
       "      <td>NaN</td>\n",
       "      <td>(28.0, -94.8)</td>\n",
       "      <td>NaN</td>\n",
       "    </tr>\n",
       "    <tr>\n",
       "      <th>1</th>\n",
       "      <td>AL011851</td>\n",
       "      <td>1851-06-25 06:00:00</td>\n",
       "      <td>80.0</td>\n",
       "      <td>NaN</td>\n",
       "      <td>(28.0, -95.4)</td>\n",
       "      <td>58.907598</td>\n",
       "    </tr>\n",
       "    <tr>\n",
       "      <th>2</th>\n",
       "      <td>AL011851</td>\n",
       "      <td>1851-06-25 12:00:00</td>\n",
       "      <td>80.0</td>\n",
       "      <td>NaN</td>\n",
       "      <td>(28.0, -96.0)</td>\n",
       "      <td>58.907598</td>\n",
       "    </tr>\n",
       "    <tr>\n",
       "      <th>3</th>\n",
       "      <td>AL011851</td>\n",
       "      <td>1851-06-25 18:00:00</td>\n",
       "      <td>80.0</td>\n",
       "      <td>NaN</td>\n",
       "      <td>(28.1, -96.5)</td>\n",
       "      <td>50.311046</td>\n",
       "    </tr>\n",
       "    <tr>\n",
       "      <th>4</th>\n",
       "      <td>AL011851</td>\n",
       "      <td>1851-06-25 21:00:00</td>\n",
       "      <td>80.0</td>\n",
       "      <td>NaN</td>\n",
       "      <td>(28.2, -96.8)</td>\n",
       "      <td>31.444414</td>\n",
       "    </tr>\n",
       "  </tbody>\n",
       "</table>\n",
       "</div>"
      ],
      "text/plain": [
       "         ID           Timestamp  Maximum Wind  Minimum Pressure  \\\n",
       "0  AL011851 1851-06-25 00:00:00          80.0               NaN   \n",
       "1  AL011851 1851-06-25 06:00:00          80.0               NaN   \n",
       "2  AL011851 1851-06-25 12:00:00          80.0               NaN   \n",
       "3  AL011851 1851-06-25 18:00:00          80.0               NaN   \n",
       "4  AL011851 1851-06-25 21:00:00          80.0               NaN   \n",
       "\n",
       "        Location  Distance_km  \n",
       "0  (28.0, -94.8)          NaN  \n",
       "1  (28.0, -95.4)    58.907598  \n",
       "2  (28.0, -96.0)    58.907598  \n",
       "3  (28.1, -96.5)    50.311046  \n",
       "4  (28.2, -96.8)    31.444414  "
      ]
     },
     "execution_count": 34,
     "metadata": {},
     "output_type": "execute_result"
    }
   ],
   "source": [
    "#remove lat lon separate fields\n",
    "del data_pred['Lat']\n",
    "del data_pred['Lon']\n",
    "\n",
    "#distance field calculation (km)\n",
    "loc_lst = data_pred.Location.values.tolist()\n",
    "id_lst = data_pred.ID.values.tolist()\n",
    "distance = []\n",
    "\n",
    "for i in range(len(data_pred)):\n",
    "    if id_lst[i] == id_lst[i-1]: #if current id is the same as previous(same hurricane)\n",
    "        try:\n",
    "            loc1 = loc_lst[i-1]\n",
    "            loc2 = loc_lst[i]\n",
    "            dist = hs.haversine(loc1,loc2) #distance calculation in Km\n",
    "            distance.append(dist)\n",
    "        except:\n",
    "            distance.append(np.nan)  \n",
    "    else: \n",
    "        distance.append(np.nan)\n",
    "\n",
    "data_pred['Distance_km'] = distance\n",
    "data_pred.head()"
   ]
  },
  {
   "cell_type": "markdown",
   "metadata": {},
   "source": [
    "Distance has been calculated using the haversine module (package to calculate distances between coordinates). Therefore, the speed feature (in km/h) can now be accordingly calculated."
   ]
  },
  {
   "cell_type": "code",
   "execution_count": 35,
   "metadata": {},
   "outputs": [
    {
     "data": {
      "text/html": [
       "<div>\n",
       "<style scoped>\n",
       "    .dataframe tbody tr th:only-of-type {\n",
       "        vertical-align: middle;\n",
       "    }\n",
       "\n",
       "    .dataframe tbody tr th {\n",
       "        vertical-align: top;\n",
       "    }\n",
       "\n",
       "    .dataframe thead th {\n",
       "        text-align: right;\n",
       "    }\n",
       "</style>\n",
       "<table border=\"1\" class=\"dataframe\">\n",
       "  <thead>\n",
       "    <tr style=\"text-align: right;\">\n",
       "      <th></th>\n",
       "      <th>ID</th>\n",
       "      <th>Timestamp</th>\n",
       "      <th>Maximum Wind</th>\n",
       "      <th>Minimum Pressure</th>\n",
       "      <th>Location</th>\n",
       "      <th>Distance_km</th>\n",
       "      <th>Avg_Speed</th>\n",
       "    </tr>\n",
       "  </thead>\n",
       "  <tbody>\n",
       "    <tr>\n",
       "      <th>0</th>\n",
       "      <td>AL011851</td>\n",
       "      <td>1851-06-25 00:00:00</td>\n",
       "      <td>80.0</td>\n",
       "      <td>NaN</td>\n",
       "      <td>(28.0, -94.8)</td>\n",
       "      <td>NaN</td>\n",
       "      <td>NaN</td>\n",
       "    </tr>\n",
       "    <tr>\n",
       "      <th>1</th>\n",
       "      <td>AL011851</td>\n",
       "      <td>1851-06-25 06:00:00</td>\n",
       "      <td>80.0</td>\n",
       "      <td>NaN</td>\n",
       "      <td>(28.0, -95.4)</td>\n",
       "      <td>58.907598</td>\n",
       "      <td>9.817933</td>\n",
       "    </tr>\n",
       "    <tr>\n",
       "      <th>2</th>\n",
       "      <td>AL011851</td>\n",
       "      <td>1851-06-25 12:00:00</td>\n",
       "      <td>80.0</td>\n",
       "      <td>NaN</td>\n",
       "      <td>(28.0, -96.0)</td>\n",
       "      <td>58.907598</td>\n",
       "      <td>9.817933</td>\n",
       "    </tr>\n",
       "    <tr>\n",
       "      <th>3</th>\n",
       "      <td>AL011851</td>\n",
       "      <td>1851-06-25 18:00:00</td>\n",
       "      <td>80.0</td>\n",
       "      <td>NaN</td>\n",
       "      <td>(28.1, -96.5)</td>\n",
       "      <td>50.311046</td>\n",
       "      <td>8.385174</td>\n",
       "    </tr>\n",
       "    <tr>\n",
       "      <th>4</th>\n",
       "      <td>AL011851</td>\n",
       "      <td>1851-06-25 21:00:00</td>\n",
       "      <td>80.0</td>\n",
       "      <td>NaN</td>\n",
       "      <td>(28.2, -96.8)</td>\n",
       "      <td>31.444414</td>\n",
       "      <td>5.240736</td>\n",
       "    </tr>\n",
       "  </tbody>\n",
       "</table>\n",
       "</div>"
      ],
      "text/plain": [
       "         ID           Timestamp  Maximum Wind  Minimum Pressure  \\\n",
       "0  AL011851 1851-06-25 00:00:00          80.0               NaN   \n",
       "1  AL011851 1851-06-25 06:00:00          80.0               NaN   \n",
       "2  AL011851 1851-06-25 12:00:00          80.0               NaN   \n",
       "3  AL011851 1851-06-25 18:00:00          80.0               NaN   \n",
       "4  AL011851 1851-06-25 21:00:00          80.0               NaN   \n",
       "\n",
       "        Location  Distance_km  Avg_Speed  \n",
       "0  (28.0, -94.8)          NaN        NaN  \n",
       "1  (28.0, -95.4)    58.907598   9.817933  \n",
       "2  (28.0, -96.0)    58.907598   9.817933  \n",
       "3  (28.1, -96.5)    50.311046   8.385174  \n",
       "4  (28.2, -96.8)    31.444414   5.240736  "
      ]
     },
     "execution_count": 35,
     "metadata": {},
     "output_type": "execute_result"
    }
   ],
   "source": [
    "#speed calculation\n",
    "dists = data_pred.Distance_km.values.tolist()\n",
    "speed = []\n",
    "\n",
    "for i in range(len(data_pred)):\n",
    "    if id_lst[i] == id_lst[i-1]: #if current id is the same as previous(same hurricane)\n",
    "        try:\n",
    "            speed_value = dists[i] / 6 #distance value divided by 6h -> speed in km/h\n",
    "            speed.append(speed_value)\n",
    "        except:\n",
    "            speed.append(np.nan)  \n",
    "    else: \n",
    "        speed.append(np.nan)\n",
    "\n",
    "data_pred['Avg_Speed'] = speed\n",
    "data_pred.head()"
   ]
  },
  {
   "cell_type": "markdown",
   "metadata": {},
   "source": [
    "Location are distance are not relevant attributes anymore for the prediction dataframe, since they were created with the only aim of being able to calculate the speed of each registered movement."
   ]
  },
  {
   "cell_type": "code",
   "execution_count": 36,
   "metadata": {},
   "outputs": [],
   "source": [
    "#delete location & distance columns from prediction dataframe\n",
    "del data_pred['Location']\n",
    "del data_pred['Distance_km']"
   ]
  },
  {
   "cell_type": "markdown",
   "metadata": {},
   "source": [
    "At this point, the calculation of the previous movement speed will be carried out."
   ]
  },
  {
   "cell_type": "code",
   "execution_count": 37,
   "metadata": {},
   "outputs": [
    {
     "data": {
      "text/html": [
       "<div>\n",
       "<style scoped>\n",
       "    .dataframe tbody tr th:only-of-type {\n",
       "        vertical-align: middle;\n",
       "    }\n",
       "\n",
       "    .dataframe tbody tr th {\n",
       "        vertical-align: top;\n",
       "    }\n",
       "\n",
       "    .dataframe thead th {\n",
       "        text-align: right;\n",
       "    }\n",
       "</style>\n",
       "<table border=\"1\" class=\"dataframe\">\n",
       "  <thead>\n",
       "    <tr style=\"text-align: right;\">\n",
       "      <th></th>\n",
       "      <th>ID</th>\n",
       "      <th>Timestamp</th>\n",
       "      <th>Maximum Wind</th>\n",
       "      <th>Minimum Pressure</th>\n",
       "      <th>Avg_Speed</th>\n",
       "      <th>Previous_Speed</th>\n",
       "    </tr>\n",
       "  </thead>\n",
       "  <tbody>\n",
       "    <tr>\n",
       "      <th>0</th>\n",
       "      <td>AL011851</td>\n",
       "      <td>1851-06-25 00:00:00</td>\n",
       "      <td>80.0</td>\n",
       "      <td>NaN</td>\n",
       "      <td>NaN</td>\n",
       "      <td>NaN</td>\n",
       "    </tr>\n",
       "    <tr>\n",
       "      <th>1</th>\n",
       "      <td>AL011851</td>\n",
       "      <td>1851-06-25 06:00:00</td>\n",
       "      <td>80.0</td>\n",
       "      <td>NaN</td>\n",
       "      <td>9.817933</td>\n",
       "      <td>NaN</td>\n",
       "    </tr>\n",
       "    <tr>\n",
       "      <th>2</th>\n",
       "      <td>AL011851</td>\n",
       "      <td>1851-06-25 12:00:00</td>\n",
       "      <td>80.0</td>\n",
       "      <td>NaN</td>\n",
       "      <td>9.817933</td>\n",
       "      <td>9.817933</td>\n",
       "    </tr>\n",
       "    <tr>\n",
       "      <th>3</th>\n",
       "      <td>AL011851</td>\n",
       "      <td>1851-06-25 18:00:00</td>\n",
       "      <td>80.0</td>\n",
       "      <td>NaN</td>\n",
       "      <td>8.385174</td>\n",
       "      <td>9.817933</td>\n",
       "    </tr>\n",
       "    <tr>\n",
       "      <th>4</th>\n",
       "      <td>AL011851</td>\n",
       "      <td>1851-06-25 21:00:00</td>\n",
       "      <td>80.0</td>\n",
       "      <td>NaN</td>\n",
       "      <td>5.240736</td>\n",
       "      <td>8.385174</td>\n",
       "    </tr>\n",
       "  </tbody>\n",
       "</table>\n",
       "</div>"
      ],
      "text/plain": [
       "         ID           Timestamp  Maximum Wind  Minimum Pressure  Avg_Speed  \\\n",
       "0  AL011851 1851-06-25 00:00:00          80.0               NaN        NaN   \n",
       "1  AL011851 1851-06-25 06:00:00          80.0               NaN   9.817933   \n",
       "2  AL011851 1851-06-25 12:00:00          80.0               NaN   9.817933   \n",
       "3  AL011851 1851-06-25 18:00:00          80.0               NaN   8.385174   \n",
       "4  AL011851 1851-06-25 21:00:00          80.0               NaN   5.240736   \n",
       "\n",
       "   Previous_Speed  \n",
       "0             NaN  \n",
       "1             NaN  \n",
       "2        9.817933  \n",
       "3        9.817933  \n",
       "4        8.385174  "
      ]
     },
     "execution_count": 37,
     "metadata": {},
     "output_type": "execute_result"
    }
   ],
   "source": [
    "#calculation of previous speed (km/h)\n",
    "speeds = data_pred.Avg_Speed.values.tolist()\n",
    "prev_speed = []\n",
    "\n",
    "for i in range(len(data_pred)):\n",
    "    if id_lst[i] == id_lst[i-1]: #if current id is the same as previous(same hurricane)\n",
    "        try:\n",
    "            prev_speed_value = speeds[i-1]\n",
    "            prev_speed.append(prev_speed_value)\n",
    "        except:\n",
    "            prev_speed.append(np.nan)  \n",
    "    else: \n",
    "        prev_speed.append(np.nan)\n",
    "\n",
    "data_pred['Previous_Speed'] = prev_speed\n",
    "data_pred.head()"
   ]
  },
  {
   "cell_type": "markdown",
   "metadata": {},
   "source": [
    "Having created and selected the main features for this prediction problem, it is time to check the correlation between features, in order to chose the appropiate subsequent machine learning techniques. For this, three different correlation methods will be used in order to truly check this property. "
   ]
  },
  {
   "cell_type": "code",
   "execution_count": 38,
   "metadata": {},
   "outputs": [
    {
     "data": {
      "text/html": [
       "<div>\n",
       "<style scoped>\n",
       "    .dataframe tbody tr th:only-of-type {\n",
       "        vertical-align: middle;\n",
       "    }\n",
       "\n",
       "    .dataframe tbody tr th {\n",
       "        vertical-align: top;\n",
       "    }\n",
       "\n",
       "    .dataframe thead th {\n",
       "        text-align: right;\n",
       "    }\n",
       "</style>\n",
       "<table border=\"1\" class=\"dataframe\">\n",
       "  <thead>\n",
       "    <tr style=\"text-align: right;\">\n",
       "      <th></th>\n",
       "      <th>Maximum Wind</th>\n",
       "      <th>Minimum Pressure</th>\n",
       "      <th>Avg_Speed</th>\n",
       "      <th>Previous_Speed</th>\n",
       "    </tr>\n",
       "  </thead>\n",
       "  <tbody>\n",
       "    <tr>\n",
       "      <th>Maximum Wind</th>\n",
       "      <td>1.000000</td>\n",
       "      <td>-0.925678</td>\n",
       "      <td>0.028818</td>\n",
       "      <td>0.028719</td>\n",
       "    </tr>\n",
       "    <tr>\n",
       "      <th>Minimum Pressure</th>\n",
       "      <td>-0.925678</td>\n",
       "      <td>1.000000</td>\n",
       "      <td>-0.051641</td>\n",
       "      <td>-0.063945</td>\n",
       "    </tr>\n",
       "    <tr>\n",
       "      <th>Avg_Speed</th>\n",
       "      <td>0.028818</td>\n",
       "      <td>-0.051641</td>\n",
       "      <td>1.000000</td>\n",
       "      <td>0.893736</td>\n",
       "    </tr>\n",
       "    <tr>\n",
       "      <th>Previous_Speed</th>\n",
       "      <td>0.028719</td>\n",
       "      <td>-0.063945</td>\n",
       "      <td>0.893736</td>\n",
       "      <td>1.000000</td>\n",
       "    </tr>\n",
       "  </tbody>\n",
       "</table>\n",
       "</div>"
      ],
      "text/plain": [
       "                  Maximum Wind  Minimum Pressure  Avg_Speed  Previous_Speed\n",
       "Maximum Wind          1.000000         -0.925678   0.028818        0.028719\n",
       "Minimum Pressure     -0.925678          1.000000  -0.051641       -0.063945\n",
       "Avg_Speed             0.028818         -0.051641   1.000000        0.893736\n",
       "Previous_Speed        0.028719         -0.063945   0.893736        1.000000"
      ]
     },
     "execution_count": 38,
     "metadata": {},
     "output_type": "execute_result"
    }
   ],
   "source": [
    "#checking data correlation\n",
    "data_pred.corr(method='pearson')"
   ]
  },
  {
   "cell_type": "code",
   "execution_count": 39,
   "metadata": {},
   "outputs": [
    {
     "data": {
      "text/html": [
       "<div>\n",
       "<style scoped>\n",
       "    .dataframe tbody tr th:only-of-type {\n",
       "        vertical-align: middle;\n",
       "    }\n",
       "\n",
       "    .dataframe tbody tr th {\n",
       "        vertical-align: top;\n",
       "    }\n",
       "\n",
       "    .dataframe thead th {\n",
       "        text-align: right;\n",
       "    }\n",
       "</style>\n",
       "<table border=\"1\" class=\"dataframe\">\n",
       "  <thead>\n",
       "    <tr style=\"text-align: right;\">\n",
       "      <th></th>\n",
       "      <th>Maximum Wind</th>\n",
       "      <th>Minimum Pressure</th>\n",
       "      <th>Avg_Speed</th>\n",
       "      <th>Previous_Speed</th>\n",
       "    </tr>\n",
       "  </thead>\n",
       "  <tbody>\n",
       "    <tr>\n",
       "      <th>Maximum Wind</th>\n",
       "      <td>1.000000</td>\n",
       "      <td>-0.767965</td>\n",
       "      <td>0.038085</td>\n",
       "      <td>0.040189</td>\n",
       "    </tr>\n",
       "    <tr>\n",
       "      <th>Minimum Pressure</th>\n",
       "      <td>-0.767965</td>\n",
       "      <td>1.000000</td>\n",
       "      <td>-0.040170</td>\n",
       "      <td>-0.046493</td>\n",
       "    </tr>\n",
       "    <tr>\n",
       "      <th>Avg_Speed</th>\n",
       "      <td>0.038085</td>\n",
       "      <td>-0.040170</td>\n",
       "      <td>1.000000</td>\n",
       "      <td>0.729565</td>\n",
       "    </tr>\n",
       "    <tr>\n",
       "      <th>Previous_Speed</th>\n",
       "      <td>0.040189</td>\n",
       "      <td>-0.046493</td>\n",
       "      <td>0.729565</td>\n",
       "      <td>1.000000</td>\n",
       "    </tr>\n",
       "  </tbody>\n",
       "</table>\n",
       "</div>"
      ],
      "text/plain": [
       "                  Maximum Wind  Minimum Pressure  Avg_Speed  Previous_Speed\n",
       "Maximum Wind          1.000000         -0.767965   0.038085        0.040189\n",
       "Minimum Pressure     -0.767965          1.000000  -0.040170       -0.046493\n",
       "Avg_Speed             0.038085         -0.040170   1.000000        0.729565\n",
       "Previous_Speed        0.040189         -0.046493   0.729565        1.000000"
      ]
     },
     "execution_count": 39,
     "metadata": {},
     "output_type": "execute_result"
    }
   ],
   "source": [
    "data_pred.corr(method='kendall')"
   ]
  },
  {
   "cell_type": "code",
   "execution_count": 40,
   "metadata": {},
   "outputs": [
    {
     "data": {
      "text/html": [
       "<div>\n",
       "<style scoped>\n",
       "    .dataframe tbody tr th:only-of-type {\n",
       "        vertical-align: middle;\n",
       "    }\n",
       "\n",
       "    .dataframe tbody tr th {\n",
       "        vertical-align: top;\n",
       "    }\n",
       "\n",
       "    .dataframe thead th {\n",
       "        text-align: right;\n",
       "    }\n",
       "</style>\n",
       "<table border=\"1\" class=\"dataframe\">\n",
       "  <thead>\n",
       "    <tr style=\"text-align: right;\">\n",
       "      <th></th>\n",
       "      <th>Maximum Wind</th>\n",
       "      <th>Minimum Pressure</th>\n",
       "      <th>Avg_Speed</th>\n",
       "      <th>Previous_Speed</th>\n",
       "    </tr>\n",
       "  </thead>\n",
       "  <tbody>\n",
       "    <tr>\n",
       "      <th>Maximum Wind</th>\n",
       "      <td>1.000000</td>\n",
       "      <td>-0.903831</td>\n",
       "      <td>0.055782</td>\n",
       "      <td>0.059190</td>\n",
       "    </tr>\n",
       "    <tr>\n",
       "      <th>Minimum Pressure</th>\n",
       "      <td>-0.903831</td>\n",
       "      <td>1.000000</td>\n",
       "      <td>-0.060497</td>\n",
       "      <td>-0.069887</td>\n",
       "    </tr>\n",
       "    <tr>\n",
       "      <th>Avg_Speed</th>\n",
       "      <td>0.055782</td>\n",
       "      <td>-0.060497</td>\n",
       "      <td>1.000000</td>\n",
       "      <td>0.880893</td>\n",
       "    </tr>\n",
       "    <tr>\n",
       "      <th>Previous_Speed</th>\n",
       "      <td>0.059190</td>\n",
       "      <td>-0.069887</td>\n",
       "      <td>0.880893</td>\n",
       "      <td>1.000000</td>\n",
       "    </tr>\n",
       "  </tbody>\n",
       "</table>\n",
       "</div>"
      ],
      "text/plain": [
       "                  Maximum Wind  Minimum Pressure  Avg_Speed  Previous_Speed\n",
       "Maximum Wind          1.000000         -0.903831   0.055782        0.059190\n",
       "Minimum Pressure     -0.903831          1.000000  -0.060497       -0.069887\n",
       "Avg_Speed             0.055782         -0.060497   1.000000        0.880893\n",
       "Previous_Speed        0.059190         -0.069887   0.880893        1.000000"
      ]
     },
     "execution_count": 40,
     "metadata": {},
     "output_type": "execute_result"
    }
   ],
   "source": [
    "data_pred.corr(method='spearman')"
   ]
  },
  {
   "cell_type": "markdown",
   "metadata": {},
   "source": [
    "According to the different correlation values, there is only one feature (already expected) that has strong relation with the speed: the previous speed of each movement. Therefore, this will be the main input for the subsequent prediction algorithms. <br>\n",
    "In relevance terms, Minimum Pressure and Maximum Wind do not have any relationship with the speed values. Therefore, these will not be used as inputs for the prediction (as expected). The main feature for the prediction will be the previous speed movement."
   ]
  },
  {
   "cell_type": "code",
   "execution_count": 41,
   "metadata": {},
   "outputs": [],
   "source": [
    "#delete Min Pressure\n",
    "del data_pred['Minimum Pressure']\n",
    "del data_pred['Maximum Wind']"
   ]
  },
  {
   "cell_type": "markdown",
   "metadata": {},
   "source": [
    "The NaN values are usually not a good idea to have when using some ML algorithms or neural networks. Therefore, the rows that contain them must be erased for a better performance of the algorithms. Additionally, the speed values that equal 0 must also be checked and if they exist, deleted, since they are anomalies and would produce innacuracies throughout the predictions."
   ]
  },
  {
   "cell_type": "code",
   "execution_count": 42,
   "metadata": {},
   "outputs": [
    {
     "data": {
      "text/html": [
       "<div>\n",
       "<style scoped>\n",
       "    .dataframe tbody tr th:only-of-type {\n",
       "        vertical-align: middle;\n",
       "    }\n",
       "\n",
       "    .dataframe tbody tr th {\n",
       "        vertical-align: top;\n",
       "    }\n",
       "\n",
       "    .dataframe thead th {\n",
       "        text-align: right;\n",
       "    }\n",
       "</style>\n",
       "<table border=\"1\" class=\"dataframe\">\n",
       "  <thead>\n",
       "    <tr style=\"text-align: right;\">\n",
       "      <th></th>\n",
       "      <th>ID</th>\n",
       "      <th>Timestamp</th>\n",
       "      <th>Avg_Speed</th>\n",
       "      <th>Previous_Speed</th>\n",
       "    </tr>\n",
       "  </thead>\n",
       "  <tbody>\n",
       "    <tr>\n",
       "      <th>2</th>\n",
       "      <td>AL011851</td>\n",
       "      <td>1851-06-25 12:00:00</td>\n",
       "      <td>9.817933</td>\n",
       "      <td>9.817933</td>\n",
       "    </tr>\n",
       "    <tr>\n",
       "      <th>3</th>\n",
       "      <td>AL011851</td>\n",
       "      <td>1851-06-25 18:00:00</td>\n",
       "      <td>8.385174</td>\n",
       "      <td>9.817933</td>\n",
       "    </tr>\n",
       "    <tr>\n",
       "      <th>4</th>\n",
       "      <td>AL011851</td>\n",
       "      <td>1851-06-25 21:00:00</td>\n",
       "      <td>5.240736</td>\n",
       "      <td>8.385174</td>\n",
       "    </tr>\n",
       "    <tr>\n",
       "      <th>5</th>\n",
       "      <td>AL011851</td>\n",
       "      <td>1851-06-26 00:00:00</td>\n",
       "      <td>3.266553</td>\n",
       "      <td>5.240736</td>\n",
       "    </tr>\n",
       "    <tr>\n",
       "      <th>6</th>\n",
       "      <td>AL011851</td>\n",
       "      <td>1851-06-26 06:00:00</td>\n",
       "      <td>9.968838</td>\n",
       "      <td>3.266553</td>\n",
       "    </tr>\n",
       "  </tbody>\n",
       "</table>\n",
       "</div>"
      ],
      "text/plain": [
       "         ID           Timestamp  Avg_Speed  Previous_Speed\n",
       "2  AL011851 1851-06-25 12:00:00   9.817933        9.817933\n",
       "3  AL011851 1851-06-25 18:00:00   8.385174        9.817933\n",
       "4  AL011851 1851-06-25 21:00:00   5.240736        8.385174\n",
       "5  AL011851 1851-06-26 00:00:00   3.266553        5.240736\n",
       "6  AL011851 1851-06-26 06:00:00   9.968838        3.266553"
      ]
     },
     "execution_count": 42,
     "metadata": {},
     "output_type": "execute_result"
    }
   ],
   "source": [
    "#delete NaN values\n",
    "data_pred = data_pred.dropna()\n",
    "data_pred.head()"
   ]
  },
  {
   "cell_type": "markdown",
   "metadata": {},
   "source": [
    "As a final remark for this section, since the features have been created in a way of handling each new hurricane by adding null values (and afterwards deleting them), the prediction dataset now does not have to handle any groupping by ID for the prediction, since the speed values and previous movements follow already a continuous dynamic. "
   ]
  },
  {
   "cell_type": "markdown",
   "metadata": {},
   "source": [
    "## 3. Prediction: Average Speed of the next hurricane movement. "
   ]
  },
  {
   "cell_type": "markdown",
   "metadata": {},
   "source": [
    "Continuing with the workflow, this is the point in which the already prepared data must be feed into two Machine Learning techniques in order to solve the aforementioned prediction problem and assess and evaluate the performance between these models. According to this, a more traditional algorithm will be first used (Gradient Boosting Regressor) and a neural network approach (FCNN's) will be afterwards implemented. <br>\n",
    "First of all, the data must be normalized in order to standarize the data and minimize differences between values. Once this is done, the data will be split into training and testing. After that, the Machine Learning techniques can be accordingly implemented."
   ]
  },
  {
   "cell_type": "markdown",
   "metadata": {},
   "source": [
    "#### Normalize and Split data"
   ]
  },
  {
   "cell_type": "code",
   "execution_count": 43,
   "metadata": {},
   "outputs": [],
   "source": [
    "#feature scaling (using a min max scaler) - data normalization\n",
    "scalerx = preprocessing.MinMaxScaler()\n",
    "scalery = preprocessing.MinMaxScaler()\n",
    "X = scalerx.fit_transform(data_pred.Previous_Speed.values.reshape(-1,1))\n",
    "y = scalery.fit_transform(data_pred.Avg_Speed.values.reshape(-1,1))"
   ]
  },
  {
   "cell_type": "markdown",
   "metadata": {},
   "source": [
    "Split data between training and testing data. In this case, 90% of the data will be used for training and 10% for testing. "
   ]
  },
  {
   "cell_type": "code",
   "execution_count": 44,
   "metadata": {},
   "outputs": [],
   "source": [
    "#split between train and test data\n",
    "X_train, X_test, y_train, y_test = train_test_split(X, y, test_size = 0.1, random_state=90)"
   ]
  },
  {
   "cell_type": "markdown",
   "metadata": {},
   "source": [
    "### 3.1. Technique: Gradient Boosting Regressor "
   ]
  },
  {
   "cell_type": "markdown",
   "metadata": {},
   "source": [
    "Gradient Boosting is a ML technique which can be used for both, regression and classification. In this case, it will be used for regression (GBR). This technique fits exactly the purpose of this study case since it calculates the difference (called residual) between the predicted values (current prediction) with the known target value. Therefore, it minimizes the general prediction error in order to get the best model; closest to the output values. "
   ]
  },
  {
   "cell_type": "markdown",
   "metadata": {},
   "source": [
    "First, the model must be called and fit to the training data in order to be trained. "
   ]
  },
  {
   "cell_type": "code",
   "execution_count": 45,
   "metadata": {},
   "outputs": [
    {
     "data": {
      "text/plain": [
       "GradientBoostingRegressor()"
      ]
     },
     "execution_count": 45,
     "metadata": {},
     "output_type": "execute_result"
    }
   ],
   "source": [
    "GBR_model = GradientBoostingRegressor()\n",
    "GBR_model.fit(X_train, y_train.ravel())"
   ]
  },
  {
   "cell_type": "markdown",
   "metadata": {},
   "source": [
    "Once the model has been accordingly trained, it is time to run the prediction using the testing input data. "
   ]
  },
  {
   "cell_type": "code",
   "execution_count": 46,
   "metadata": {},
   "outputs": [
    {
     "data": {
      "text/plain": [
       "array([0.08334852, 0.13248131, 0.01834664, ..., 0.1449537 , 0.13248131,\n",
       "       0.17545875])"
      ]
     },
     "execution_count": 46,
     "metadata": {},
     "output_type": "execute_result"
    }
   ],
   "source": [
    "y_GBR_pred = GBR_model.predict(X_test)\n",
    "y_GBR_pred"
   ]
  },
  {
   "cell_type": "markdown",
   "metadata": {},
   "source": [
    "Having done the perdiction, some evaluation indicators must be checked in order to check the model performance. Now this is just for checking performance, but in the last section 5 (results assessment) these values will be analyzed."
   ]
  },
  {
   "cell_type": "code",
   "execution_count": 47,
   "metadata": {},
   "outputs": [
    {
     "name": "stdout",
     "output_type": "stream",
     "text": [
      "Root mean squared error: 0.031633322953596534\n",
      "Mean absolute error: 0.020194269515892\n",
      "R2 score:  0.8276542171923976\n"
     ]
    }
   ],
   "source": [
    "#using different evaluation indicators\n",
    "mae = mean_absolute_error(y_test, y_GBR_pred)\n",
    "mse = mean_squared_error(y_test, y_GBR_pred)\n",
    "rmse = np.sqrt(mse)\n",
    "r2 = r2_score(y_test, y_GBR_pred)\n",
    "print('Root mean squared error:',  rmse)\n",
    "print('Mean absolute error:',  mae)\n",
    "print('R2 score: ',  r2)"
   ]
  },
  {
   "cell_type": "markdown",
   "metadata": {},
   "source": [
    "Plotting predicted speed outcome and real speed."
   ]
  },
  {
   "cell_type": "code",
   "execution_count": 48,
   "metadata": {
    "scrolled": true
   },
   "outputs": [
    {
     "data": {
      "image/png": "[encoded data removed]",
      "text/plain": [
       "<Figure size 980x350 with 1 Axes>"
      ]
     },
     "metadata": {
      "needs_background": "light"
     },
     "output_type": "display_data"
    }
   ],
   "source": [
    "gbr_y_test = scalery.inverse_transform(y_test.reshape(-1,1))\n",
    "gbr_y_pred = scalery.inverse_transform(y_GBR_pred.reshape(-1,1))\n",
    "data_col = {'Speed_real' : gbr_y_test.flatten(), 'Speed_Predicted' : gbr_y_pred.flatten()}\n",
    "\n",
    "df_GBR_pred = pd.DataFrame(data_col)\n",
    "plt.figure(figsize=(14,5), dpi=70)\n",
    "plt.plot(df_GBR_pred.Speed_real[:200], label='Real Speed')\n",
    "plt.plot(df_GBR_pred.Speed_Predicted[:200], label='Predicted Speed') #print last 200 values (cleaner plot)\n",
    "plt.title('Predicted Speed vs Real Speed (km/h) with Gradient Boost')\n",
    "plt.legend(loc='upper left', fontsize=12)\n",
    "plt.show()"
   ]
  },
  {
   "cell_type": "markdown",
   "metadata": {},
   "source": [
    "### 3.2. Neural Network Approach: Fully Connected Neural Network"
   ]
  },
  {
   "cell_type": "markdown",
   "metadata": {},
   "source": [
    "Fully connected neural networks (FCNNs) refer to a type of ANN (Artifical Neural Networks) which follow a classic architecture, in which all its neurons connect to all the neurons in the subsequent layer. In this case, this technique will be also implemented to see the differences in performance between these Machine and Deep Learning approaches for the study case."
   ]
  },
  {
   "cell_type": "markdown",
   "metadata": {},
   "source": [
    "First of all, the neural network must be composed and therefore, its architecture will be defined. In this case, the input dimension is only 1 since there is only one input feature (pervious speed movement). After trying different parameters out, the neuron architecture which seems to fit the best for the case is composed by 4 layers (1 input layer with 1 neuron -since there is only one input feature-, 2 hidden layers with 4 and 2 neurons respectively and finally the output layer with 1 neuron since it outputs one value per prediction. The different layer and model parameters are specified in the code.<br>\n",
    "Note: Fully connected networks are defined by using the Dense class. "
   ]
  },
  {
   "cell_type": "code",
   "execution_count": 81,
   "metadata": {},
   "outputs": [],
   "source": [
    "#model definition \n",
    "NNmodel = Sequential()\n",
    "NNmodel.add(Dense(1, input_dim=1, activation='relu')) #first hidden layer (1 input neuron)\n",
    "NNmodel.add(Dense(4, activation='relu')) #second hidden layer (7 neurons)\n",
    "NNmodel.add(Dense(2, activation='relu')) #second hidden layer (5 neurons)\n",
    "NNmodel.add(Dense(1, activation='linear')) #output layer (1 output neuron)"
   ]
  },
  {
   "cell_type": "markdown",
   "metadata": {},
   "source": [
    "Optimizer, loss function and metrics must be specified in the model compilation. After trying several parameters, these are the best fitting for the hurricane speed prediction."
   ]
  },
  {
   "cell_type": "code",
   "execution_count": 82,
   "metadata": {},
   "outputs": [],
   "source": [
    "# compile the keras model\n",
    "NNmodel.compile(loss='mse', optimizer='adam', metrics=['mse','mae'])"
   ]
  },
  {
   "cell_type": "markdown",
   "metadata": {},
   "source": [
    "Now, it is time to train the neural network model."
   ]
  },
  {
   "cell_type": "code",
   "execution_count": 83,
   "metadata": {},
   "outputs": [
    {
     "name": "stdout",
     "output_type": "stream",
     "text": [
      "Epoch 1/30\n",
      "576/576 [==============================] - 2s 4ms/step - loss: 0.0021 - mse: 0.0021 - mae: 0.0300 - val_loss: 0.0011 - val_mse: 0.0011 - val_mae: 0.0214\n",
      "Epoch 2/30\n",
      "576/576 [==============================] - 2s 3ms/step - loss: 0.0012 - mse: 0.0012 - mae: 0.0210 - val_loss: 0.0011 - val_mse: 0.0011 - val_mae: 0.0212\n",
      "Epoch 3/30\n",
      "576/576 [==============================] - 2s 3ms/step - loss: 0.0012 - mse: 0.0012 - mae: 0.0210 - val_loss: 0.0011 - val_mse: 0.0011 - val_mae: 0.0210\n",
      "Epoch 4/30\n",
      "576/576 [==============================] - 2s 3ms/step - loss: 0.0012 - mse: 0.0012 - mae: 0.0211 - val_loss: 0.0011 - val_mse: 0.0011 - val_mae: 0.0217\n",
      "Epoch 5/30\n",
      "576/576 [==============================] - 2s 3ms/step - loss: 0.0012 - mse: 0.0012 - mae: 0.0211 - val_loss: 0.0012 - val_mse: 0.0012 - val_mae: 0.0212\n",
      "Epoch 6/30\n",
      "576/576 [==============================] - 2s 3ms/step - loss: 0.0012 - mse: 0.0012 - mae: 0.0210 - val_loss: 0.0011 - val_mse: 0.0011 - val_mae: 0.0211\n",
      "Epoch 7/30\n",
      "576/576 [==============================] - 2s 3ms/step - loss: 0.0012 - mse: 0.0012 - mae: 0.0211 - val_loss: 0.0011 - val_mse: 0.0011 - val_mae: 0.0210\n",
      "Epoch 8/30\n",
      "576/576 [==============================] - 2s 3ms/step - loss: 0.0012 - mse: 0.0012 - mae: 0.0211 - val_loss: 0.0011 - val_mse: 0.0011 - val_mae: 0.0209\n",
      "Epoch 9/30\n",
      "576/576 [==============================] - 2s 3ms/step - loss: 0.0012 - mse: 0.0012 - mae: 0.0211 - val_loss: 0.0011 - val_mse: 0.0011 - val_mae: 0.0214\n",
      "Epoch 10/30\n",
      "576/576 [==============================] - 2s 3ms/step - loss: 0.0012 - mse: 0.0012 - mae: 0.0210 - val_loss: 0.0011 - val_mse: 0.0011 - val_mae: 0.0210\n",
      "Epoch 11/30\n",
      "576/576 [==============================] - 2s 3ms/step - loss: 0.0012 - mse: 0.0012 - mae: 0.0211 - val_loss: 0.0011 - val_mse: 0.0011 - val_mae: 0.0211\n",
      "Epoch 12/30\n",
      "576/576 [==============================] - 2s 3ms/step - loss: 0.0012 - mse: 0.0012 - mae: 0.0210 - val_loss: 0.0011 - val_mse: 0.0011 - val_mae: 0.0209\n",
      "Epoch 13/30\n",
      "576/576 [==============================] - 2s 3ms/step - loss: 0.0012 - mse: 0.0012 - mae: 0.0211 - val_loss: 0.0011 - val_mse: 0.0011 - val_mae: 0.0213\n",
      "Epoch 14/30\n",
      "576/576 [==============================] - 2s 3ms/step - loss: 0.0012 - mse: 0.0012 - mae: 0.0211 - val_loss: 0.0011 - val_mse: 0.0011 - val_mae: 0.0211\n",
      "Epoch 15/30\n",
      "576/576 [==============================] - 2s 3ms/step - loss: 0.0012 - mse: 0.0012 - mae: 0.0211 - val_loss: 0.0012 - val_mse: 0.0012 - val_mae: 0.0211\n",
      "Epoch 16/30\n",
      "576/576 [==============================] - 2s 3ms/step - loss: 0.0012 - mse: 0.0012 - mae: 0.0211 - val_loss: 0.0011 - val_mse: 0.0011 - val_mae: 0.0210\n",
      "Epoch 17/30\n",
      "576/576 [==============================] - 2s 3ms/step - loss: 0.0012 - mse: 0.0012 - mae: 0.0211 - val_loss: 0.0011 - val_mse: 0.0011 - val_mae: 0.0212\n",
      "Epoch 18/30\n",
      "576/576 [==============================] - 2s 3ms/step - loss: 0.0012 - mse: 0.0012 - mae: 0.0211 - val_loss: 0.0011 - val_mse: 0.0011 - val_mae: 0.0209\n",
      "Epoch 19/30\n",
      "576/576 [==============================] - 2s 3ms/step - loss: 0.0012 - mse: 0.0012 - mae: 0.0211 - val_loss: 0.0011 - val_mse: 0.0011 - val_mae: 0.0211\n",
      "Epoch 20/30\n",
      "576/576 [==============================] - 2s 3ms/step - loss: 0.0012 - mse: 0.0012 - mae: 0.0211 - val_loss: 0.0011 - val_mse: 0.0011 - val_mae: 0.0211\n",
      "Epoch 21/30\n",
      "576/576 [==============================] - 2s 3ms/step - loss: 0.0012 - mse: 0.0012 - mae: 0.0211 - val_loss: 0.0011 - val_mse: 0.0011 - val_mae: 0.0212\n",
      "Epoch 22/30\n",
      "576/576 [==============================] - 2s 3ms/step - loss: 0.0012 - mse: 0.0012 - mae: 0.0211 - val_loss: 0.0012 - val_mse: 0.0012 - val_mae: 0.0212\n",
      "Epoch 23/30\n",
      "576/576 [==============================] - 2s 3ms/step - loss: 0.0012 - mse: 0.0012 - mae: 0.0211 - val_loss: 0.0011 - val_mse: 0.0011 - val_mae: 0.0213\n",
      "Epoch 24/30\n",
      "576/576 [==============================] - 2s 3ms/step - loss: 0.0012 - mse: 0.0012 - mae: 0.0211 - val_loss: 0.0011 - val_mse: 0.0011 - val_mae: 0.02112 - mse: 0.0012 - mae\n",
      "Epoch 25/30\n",
      "576/576 [==============================] - 2s 3ms/step - loss: 0.0012 - mse: 0.0012 - mae: 0.0210 - val_loss: 0.0011 - val_mse: 0.0011 - val_mae: 0.02140012 - mse: 0.0012 - mae: 0.02\n",
      "Epoch 26/30\n",
      "576/576 [==============================] - 2s 3ms/step - loss: 0.0012 - mse: 0.0012 - mae: 0.0210 - val_loss: 0.0011 - val_mse: 0.0011 - val_mae: 0.0212\n",
      "Epoch 27/30\n",
      "576/576 [==============================] - 2s 3ms/step - loss: 0.0012 - mse: 0.0012 - mae: 0.0211 - val_loss: 0.0011 - val_mse: 0.0011 - val_mae: 0.0214\n",
      "Epoch 28/30\n",
      "576/576 [==============================] - 2s 3ms/step - loss: 0.0012 - mse: 0.0012 - mae: 0.0211 - val_loss: 0.0011 - val_mse: 0.0011 - val_mae: 0.0209\n",
      "Epoch 29/30\n",
      "576/576 [==============================] - 2s 3ms/step - loss: 0.0012 - mse: 0.0012 - mae: 0.0211 - val_loss: 0.0011 - val_mse: 0.0011 - val_mae: 0.0213\n",
      "Epoch 30/30\n",
      "576/576 [==============================] - 2s 3ms/step - loss: 0.0012 - mse: 0.0012 - mae: 0.0211 - val_loss: 0.0011 - val_mse: 0.0011 - val_mae: 0.0211\n"
     ]
    }
   ],
   "source": [
    "# fit the keras model on the dataset\n",
    "fitting = NNmodel.fit(X_train, y_train, epochs=30, batch_size=64, verbose=1, validation_split=0.1)"
   ]
  },
  {
   "cell_type": "markdown",
   "metadata": {},
   "source": [
    "Having the neural network trained, the prediction can be subsequently calculated (with the testing data). "
   ]
  },
  {
   "cell_type": "code",
   "execution_count": 84,
   "metadata": {},
   "outputs": [
    {
     "data": {
      "text/plain": [
       "array([[0.08128195],\n",
       "       [0.13159768],\n",
       "       [0.02115169],\n",
       "       ...,\n",
       "       [0.14548542],\n",
       "       [0.13170603],\n",
       "       [0.17270255]], dtype=float32)"
      ]
     },
     "execution_count": 84,
     "metadata": {},
     "output_type": "execute_result"
    }
   ],
   "source": [
    "#prediction\n",
    "y_NN_pred = NNmodel.predict(X_test)\n",
    "y_NN_pred"
   ]
  },
  {
   "cell_type": "code",
   "execution_count": 85,
   "metadata": {
    "scrolled": true
   },
   "outputs": [
    {
     "data": {
      "image/png": "[encoded data removed]",
      "text/plain": [
       "<Figure size 432x288 with 1 Axes>"
      ]
     },
     "metadata": {
      "needs_background": "light"
     },
     "output_type": "display_data"
    }
   ],
   "source": [
    "#plotting model loss\n",
    "plt.plot(fitting.history['loss'])\n",
    "plt.plot(fitting.history['val_loss'])\n",
    "plt.title('model loss')\n",
    "plt.ylabel('loss')\n",
    "plt.xlabel('epoch')\n",
    "plt.legend(['train', 'validation'], loc='upper left')\n",
    "plt.show()"
   ]
  },
  {
   "cell_type": "markdown",
   "metadata": {},
   "source": [
    "This chart illustrates the train and test losses throughout the epochs (30). As it is observable, the neural network gets its bests values starting around the thrid epoch. This is mainly because of the optimizer chosen (adam), which is the only one that can reduce the loss and MAE/MSE the most, and also can fit the neural network to the data really fast. With other optimizers like adagrad or adadelta, the training is progressive, but they get stuck in a loss value of 0.0057. Therefore, adam is clearly the best optimizer by far for this study case. These parameters, obviously, have been achieved after doing several tests and changing parameters, and therefore, these are the minimum loss and best MSE/MAE values which could be obtained. "
   ]
  },
  {
   "cell_type": "markdown",
   "metadata": {},
   "source": [
    "As a last step of this subsection, the testing and predicted data can be rescaled and plotted to see graphically the predicted data and the test data differences. "
   ]
  },
  {
   "cell_type": "code",
   "execution_count": 86,
   "metadata": {},
   "outputs": [],
   "source": [
    "test = scalery.inverse_transform(y_test.reshape(-1,1))\n",
    "pred = scalery.inverse_transform(y_NN_pred.reshape(-1,1))"
   ]
  },
  {
   "cell_type": "code",
   "execution_count": 87,
   "metadata": {},
   "outputs": [
    {
     "data": {
      "text/plain": [
       "0.02021617003736537"
      ]
     },
     "execution_count": 87,
     "metadata": {},
     "output_type": "execute_result"
    }
   ],
   "source": [
    "mean_absolute_error(y_test, y_NN_pred)"
   ]
  },
  {
   "cell_type": "code",
   "execution_count": 88,
   "metadata": {},
   "outputs": [
    {
     "data": {
      "image/png": "[encoded data removed]",
      "text/plain": [
       "<Figure size 980x350 with 1 Axes>"
      ]
     },
     "metadata": {
      "needs_background": "light"
     },
     "output_type": "display_data"
    }
   ],
   "source": [
    "nn_y_test = scalery.inverse_transform(y_test.reshape(-1,1))\n",
    "nn_y_pred = scalery.inverse_transform(y_NN_pred.reshape(-1,1))\n",
    "data_col = {'Speed_real' : nn_y_test.flatten(), 'Speed_Predicted' : nn_y_pred.flatten()}\n",
    "\n",
    "df_NN_pred = pd.DataFrame(data_col)\n",
    "plt.figure(figsize=(14,5), dpi=70)\n",
    "plt.plot(df_NN_pred.Speed_real[:200], label='Real Speed')\n",
    "plt.plot(df_NN_pred.Speed_Predicted[:200], label='Predicted Speed')\n",
    "plt.title('Predicted Speed vs Real Speed (km/h) with FCNN')\n",
    "plt.legend(loc='upper left', fontsize=12)\n",
    "plt.show()"
   ]
  },
  {
   "cell_type": "markdown",
   "metadata": {},
   "source": [
    "## 4. Results evaluation and Conclusion"
   ]
  },
  {
   "cell_type": "markdown",
   "metadata": {},
   "source": [
    "In this last section, the obtained results from both methods are put together and analyzed. To do so, first, the main regression evaluation indicators will be calculated (r2, RMSE, MAE),compared and accordingly interpreted. Secondly, the predicted results from both techniques will be put together in a plot and a in a table in order to see and be able to compare in a graphical manner. All these results, obviously, compared to the real speed values. "
   ]
  },
  {
   "cell_type": "code",
   "execution_count": 89,
   "metadata": {},
   "outputs": [
    {
     "name": "stdout",
     "output_type": "stream",
     "text": [
      "Mean Absolute Error GBR:  0.020194269515892\n",
      "Mean Absolute Error FCNN:  0.02021617003736537\n",
      "RMSE GBR:  0.031633322953596534\n",
      "RMSE FCNN:  0.03193396316922293\n",
      "R-squared GBR:  0.8276542171923976\n",
      "R-squared FCNN:  0.824362732987912\n"
     ]
    }
   ],
   "source": [
    "#evaulation indicators (r2, mae, rmse)\n",
    "mae_GBR = mean_absolute_error(y_test, y_GBR_pred)\n",
    "mae_NN = mean_absolute_error(y_test, y_NN_pred)\n",
    "r2_GBR = r2_score(y_test, y_GBR_pred)\n",
    "r2_NN = r2_score(y_test, y_NN_pred)\n",
    "mse_GBR = mean_squared_error(y_test, y_GBR_pred)\n",
    "rmse_GBR = np.sqrt(mse_GBR)\n",
    "mse_NN = mean_squared_error(y_test, y_NN_pred)\n",
    "rmse_NN = np.sqrt(mse_NN)\n",
    "print('Mean Absolute Error GBR: ', mae_GBR)\n",
    "print('Mean Absolute Error FCNN: ', mae_NN)\n",
    "print('RMSE GBR: ', rmse_GBR)\n",
    "print('RMSE FCNN: ', rmse_NN)\n",
    "print('R-squared GBR: ', r2_GBR)\n",
    "print('R-squared FCNN: ', r2_NN)"
   ]
  },
  {
   "cell_type": "markdown",
   "metadata": {},
   "source": [
    "As shown above, all the parameters are very similar for both techniques. As a note, for all these parameters, the normalized arrays have been used in order to calculate them in the most accurate manner. The MAE and RMSE represent how wrong are the predicted values compared to the actual values. Therfore, the closer to 0, the better. In this case, these are almost the same and quite close to 0, so there are not much differences between methods. <br>\n",
    "Regarding r-squared values, the same thing happens, almost the same value for both. This parameter indicates correlation between predicted and actual values (0 no corr - 1 perfect corr). In both cases, the predicted regression models have quite good fitting values, but still far away from perfect (82%). "
   ]
  },
  {
   "cell_type": "code",
   "execution_count": 90,
   "metadata": {},
   "outputs": [
    {
     "data": {
      "image/png": "[encoded data removed]",
      "text/plain": [
       "<Figure size 980x350 with 1 Axes>"
      ]
     },
     "metadata": {
      "needs_background": "light"
     },
     "output_type": "display_data"
    }
   ],
   "source": [
    "#plotting results graphically\n",
    "y_test = scalery.inverse_transform(y_test.reshape(-1,1))\n",
    "data_col = {'Speed_real' : y_test.flatten(), 'Speed_Predicted_GBR' : gbr_y_pred.flatten(), \n",
    "            'Speed_Predicted_NN' : nn_y_pred.flatten()} \n",
    "\n",
    "df_results = pd.DataFrame(data_col)\n",
    "plt.figure(figsize=(14,5), dpi=70)\n",
    "plt.plot(df_results.Speed_real[:200], label='Real Speed')\n",
    "plt.plot(df_results.Speed_Predicted_GBR[:200], label=' GBR Predicted Speed')\n",
    "plt.plot(df_results.Speed_Predicted_NN[:200], label=' FCNN Predicted Speed')\n",
    "plt.title('Predicted speeds (GBR & FCNN) vs Real Speed (km/h)')\n",
    "plt.legend(loc='upper left', fontsize=12)\n",
    "plt.show()"
   ]
  },
  {
   "cell_type": "code",
   "execution_count": 91,
   "metadata": {},
   "outputs": [
    {
     "data": {
      "text/html": [
       "<div>\n",
       "<style scoped>\n",
       "    .dataframe tbody tr th:only-of-type {\n",
       "        vertical-align: middle;\n",
       "    }\n",
       "\n",
       "    .dataframe tbody tr th {\n",
       "        vertical-align: top;\n",
       "    }\n",
       "\n",
       "    .dataframe thead th {\n",
       "        text-align: right;\n",
       "    }\n",
       "</style>\n",
       "<table border=\"1\" class=\"dataframe\">\n",
       "  <thead>\n",
       "    <tr style=\"text-align: right;\">\n",
       "      <th></th>\n",
       "      <th>Speed_real</th>\n",
       "      <th>Speed_Predicted_GBR</th>\n",
       "      <th>Speed_Predicted_NN</th>\n",
       "    </tr>\n",
       "  </thead>\n",
       "  <tbody>\n",
       "    <tr>\n",
       "      <th>4501</th>\n",
       "      <td>18.211910</td>\n",
       "      <td>17.035532</td>\n",
       "      <td>16.687328</td>\n",
       "    </tr>\n",
       "    <tr>\n",
       "      <th>4502</th>\n",
       "      <td>13.092642</td>\n",
       "      <td>9.148565</td>\n",
       "      <td>9.370938</td>\n",
       "    </tr>\n",
       "    <tr>\n",
       "      <th>4503</th>\n",
       "      <td>9.266257</td>\n",
       "      <td>10.575124</td>\n",
       "      <td>10.488887</td>\n",
       "    </tr>\n",
       "    <tr>\n",
       "      <th>4504</th>\n",
       "      <td>43.634923</td>\n",
       "      <td>44.753837</td>\n",
       "      <td>42.426273</td>\n",
       "    </tr>\n",
       "    <tr>\n",
       "      <th>4505</th>\n",
       "      <td>14.892612</td>\n",
       "      <td>14.274101</td>\n",
       "      <td>13.903909</td>\n",
       "    </tr>\n",
       "    <tr>\n",
       "      <th>4506</th>\n",
       "      <td>23.657594</td>\n",
       "      <td>22.153139</td>\n",
       "      <td>21.893320</td>\n",
       "    </tr>\n",
       "    <tr>\n",
       "      <th>4507</th>\n",
       "      <td>20.910479</td>\n",
       "      <td>21.184358</td>\n",
       "      <td>20.964783</td>\n",
       "    </tr>\n",
       "    <tr>\n",
       "      <th>4508</th>\n",
       "      <td>5.935693</td>\n",
       "      <td>15.802828</td>\n",
       "      <td>15.810760</td>\n",
       "    </tr>\n",
       "    <tr>\n",
       "      <th>4509</th>\n",
       "      <td>42.201526</td>\n",
       "      <td>48.973807</td>\n",
       "      <td>47.403069</td>\n",
       "    </tr>\n",
       "    <tr>\n",
       "      <th>4510</th>\n",
       "      <td>5.784747</td>\n",
       "      <td>8.661913</td>\n",
       "      <td>5.672441</td>\n",
       "    </tr>\n",
       "    <tr>\n",
       "      <th>4511</th>\n",
       "      <td>25.918974</td>\n",
       "      <td>25.444574</td>\n",
       "      <td>25.337540</td>\n",
       "    </tr>\n",
       "    <tr>\n",
       "      <th>4512</th>\n",
       "      <td>10.025334</td>\n",
       "      <td>8.894673</td>\n",
       "      <td>9.135681</td>\n",
       "    </tr>\n",
       "    <tr>\n",
       "      <th>4513</th>\n",
       "      <td>22.130348</td>\n",
       "      <td>23.066077</td>\n",
       "      <td>22.764252</td>\n",
       "    </tr>\n",
       "    <tr>\n",
       "      <th>4514</th>\n",
       "      <td>15.643789</td>\n",
       "      <td>22.153139</td>\n",
       "      <td>21.659321</td>\n",
       "    </tr>\n",
       "    <tr>\n",
       "      <th>4515</th>\n",
       "      <td>22.239016</td>\n",
       "      <td>22.452618</td>\n",
       "      <td>22.195177</td>\n",
       "    </tr>\n",
       "    <tr>\n",
       "      <th>4516</th>\n",
       "      <td>20.502660</td>\n",
       "      <td>21.701080</td>\n",
       "      <td>21.465719</td>\n",
       "    </tr>\n",
       "    <tr>\n",
       "      <th>4517</th>\n",
       "      <td>17.682914</td>\n",
       "      <td>19.405096</td>\n",
       "      <td>19.309462</td>\n",
       "    </tr>\n",
       "    <tr>\n",
       "      <th>4518</th>\n",
       "      <td>10.960091</td>\n",
       "      <td>8.314061</td>\n",
       "      <td>8.308220</td>\n",
       "    </tr>\n",
       "    <tr>\n",
       "      <th>4519</th>\n",
       "      <td>33.267739</td>\n",
       "      <td>35.108970</td>\n",
       "      <td>35.307777</td>\n",
       "    </tr>\n",
       "    <tr>\n",
       "      <th>4520</th>\n",
       "      <td>27.294750</td>\n",
       "      <td>35.108970</td>\n",
       "      <td>35.279861</td>\n",
       "    </tr>\n",
       "    <tr>\n",
       "      <th>4521</th>\n",
       "      <td>9.926139</td>\n",
       "      <td>11.095397</td>\n",
       "      <td>11.065025</td>\n",
       "    </tr>\n",
       "    <tr>\n",
       "      <th>4522</th>\n",
       "      <td>21.076378</td>\n",
       "      <td>21.184358</td>\n",
       "      <td>21.208572</td>\n",
       "    </tr>\n",
       "    <tr>\n",
       "      <th>4523</th>\n",
       "      <td>15.092317</td>\n",
       "      <td>13.805133</td>\n",
       "      <td>13.601206</td>\n",
       "    </tr>\n",
       "    <tr>\n",
       "      <th>4524</th>\n",
       "      <td>15.855787</td>\n",
       "      <td>23.658867</td>\n",
       "      <td>23.699615</td>\n",
       "    </tr>\n",
       "    <tr>\n",
       "      <th>4525</th>\n",
       "      <td>28.551143</td>\n",
       "      <td>28.489807</td>\n",
       "      <td>28.186022</td>\n",
       "    </tr>\n",
       "    <tr>\n",
       "      <th>4526</th>\n",
       "      <td>44.679896</td>\n",
       "      <td>33.323708</td>\n",
       "      <td>32.589134</td>\n",
       "    </tr>\n",
       "    <tr>\n",
       "      <th>4527</th>\n",
       "      <td>12.312930</td>\n",
       "      <td>12.728400</td>\n",
       "      <td>12.526917</td>\n",
       "    </tr>\n",
       "    <tr>\n",
       "      <th>4528</th>\n",
       "      <td>23.171986</td>\n",
       "      <td>20.091462</td>\n",
       "      <td>20.095730</td>\n",
       "    </tr>\n",
       "    <tr>\n",
       "      <th>4529</th>\n",
       "      <td>16.593425</td>\n",
       "      <td>18.273826</td>\n",
       "      <td>18.554327</td>\n",
       "    </tr>\n",
       "    <tr>\n",
       "      <th>4530</th>\n",
       "      <td>26.640848</td>\n",
       "      <td>23.440532</td>\n",
       "      <td>23.335924</td>\n",
       "    </tr>\n",
       "    <tr>\n",
       "      <th>4531</th>\n",
       "      <td>38.572707</td>\n",
       "      <td>39.681151</td>\n",
       "      <td>37.786491</td>\n",
       "    </tr>\n",
       "    <tr>\n",
       "      <th>4532</th>\n",
       "      <td>37.661102</td>\n",
       "      <td>26.836400</td>\n",
       "      <td>26.969511</td>\n",
       "    </tr>\n",
       "    <tr>\n",
       "      <th>4533</th>\n",
       "      <td>13.707313</td>\n",
       "      <td>15.802828</td>\n",
       "      <td>15.844916</td>\n",
       "    </tr>\n",
       "    <tr>\n",
       "      <th>4534</th>\n",
       "      <td>9.429191</td>\n",
       "      <td>10.575124</td>\n",
       "      <td>10.695165</td>\n",
       "    </tr>\n",
       "    <tr>\n",
       "      <th>4535</th>\n",
       "      <td>14.899508</td>\n",
       "      <td>15.430957</td>\n",
       "      <td>15.253561</td>\n",
       "    </tr>\n",
       "    <tr>\n",
       "      <th>4536</th>\n",
       "      <td>20.232500</td>\n",
       "      <td>19.616026</td>\n",
       "      <td>19.590458</td>\n",
       "    </tr>\n",
       "    <tr>\n",
       "      <th>4537</th>\n",
       "      <td>19.492532</td>\n",
       "      <td>24.527290</td>\n",
       "      <td>24.445059</td>\n",
       "    </tr>\n",
       "    <tr>\n",
       "      <th>4538</th>\n",
       "      <td>9.189464</td>\n",
       "      <td>11.095397</td>\n",
       "      <td>11.365246</td>\n",
       "    </tr>\n",
       "    <tr>\n",
       "      <th>4539</th>\n",
       "      <td>35.252291</td>\n",
       "      <td>37.291067</td>\n",
       "      <td>36.079002</td>\n",
       "    </tr>\n",
       "    <tr>\n",
       "      <th>4540</th>\n",
       "      <td>3.706503</td>\n",
       "      <td>7.265082</td>\n",
       "      <td>6.880729</td>\n",
       "    </tr>\n",
       "    <tr>\n",
       "      <th>4541</th>\n",
       "      <td>9.409493</td>\n",
       "      <td>11.095397</td>\n",
       "      <td>10.976590</td>\n",
       "    </tr>\n",
       "    <tr>\n",
       "      <th>4542</th>\n",
       "      <td>15.476479</td>\n",
       "      <td>17.035532</td>\n",
       "      <td>16.935741</td>\n",
       "    </tr>\n",
       "    <tr>\n",
       "      <th>4543</th>\n",
       "      <td>21.367174</td>\n",
       "      <td>21.701080</td>\n",
       "      <td>21.429380</td>\n",
       "    </tr>\n",
       "    <tr>\n",
       "      <th>4544</th>\n",
       "      <td>16.853422</td>\n",
       "      <td>23.658867</td>\n",
       "      <td>23.700733</td>\n",
       "    </tr>\n",
       "    <tr>\n",
       "      <th>4545</th>\n",
       "      <td>17.792034</td>\n",
       "      <td>18.937710</td>\n",
       "      <td>18.764467</td>\n",
       "    </tr>\n",
       "    <tr>\n",
       "      <th>4546</th>\n",
       "      <td>21.774555</td>\n",
       "      <td>19.073973</td>\n",
       "      <td>19.014425</td>\n",
       "    </tr>\n",
       "    <tr>\n",
       "      <th>4547</th>\n",
       "      <td>45.885132</td>\n",
       "      <td>44.578807</td>\n",
       "      <td>43.792858</td>\n",
       "    </tr>\n",
       "    <tr>\n",
       "      <th>4548</th>\n",
       "      <td>27.768543</td>\n",
       "      <td>26.836400</td>\n",
       "      <td>26.934841</td>\n",
       "    </tr>\n",
       "    <tr>\n",
       "      <th>4549</th>\n",
       "      <td>25.446167</td>\n",
       "      <td>24.527290</td>\n",
       "      <td>24.383757</td>\n",
       "    </tr>\n",
       "    <tr>\n",
       "      <th>4550</th>\n",
       "      <td>31.060970</td>\n",
       "      <td>32.484037</td>\n",
       "      <td>31.973759</td>\n",
       "    </tr>\n",
       "  </tbody>\n",
       "</table>\n",
       "</div>"
      ],
      "text/plain": [
       "      Speed_real  Speed_Predicted_GBR  Speed_Predicted_NN\n",
       "4501   18.211910            17.035532           16.687328\n",
       "4502   13.092642             9.148565            9.370938\n",
       "4503    9.266257            10.575124           10.488887\n",
       "4504   43.634923            44.753837           42.426273\n",
       "4505   14.892612            14.274101           13.903909\n",
       "4506   23.657594            22.153139           21.893320\n",
       "4507   20.910479            21.184358           20.964783\n",
       "4508    5.935693            15.802828           15.810760\n",
       "4509   42.201526            48.973807           47.403069\n",
       "4510    5.784747             8.661913            5.672441\n",
       "4511   25.918974            25.444574           25.337540\n",
       "4512   10.025334             8.894673            9.135681\n",
       "4513   22.130348            23.066077           22.764252\n",
       "4514   15.643789            22.153139           21.659321\n",
       "4515   22.239016            22.452618           22.195177\n",
       "4516   20.502660            21.701080           21.465719\n",
       "4517   17.682914            19.405096           19.309462\n",
       "4518   10.960091             8.314061            8.308220\n",
       "4519   33.267739            35.108970           35.307777\n",
       "4520   27.294750            35.108970           35.279861\n",
       "4521    9.926139            11.095397           11.065025\n",
       "4522   21.076378            21.184358           21.208572\n",
       "4523   15.092317            13.805133           13.601206\n",
       "4524   15.855787            23.658867           23.699615\n",
       "4525   28.551143            28.489807           28.186022\n",
       "4526   44.679896            33.323708           32.589134\n",
       "4527   12.312930            12.728400           12.526917\n",
       "4528   23.171986            20.091462           20.095730\n",
       "4529   16.593425            18.273826           18.554327\n",
       "4530   26.640848            23.440532           23.335924\n",
       "4531   38.572707            39.681151           37.786491\n",
       "4532   37.661102            26.836400           26.969511\n",
       "4533   13.707313            15.802828           15.844916\n",
       "4534    9.429191            10.575124           10.695165\n",
       "4535   14.899508            15.430957           15.253561\n",
       "4536   20.232500            19.616026           19.590458\n",
       "4537   19.492532            24.527290           24.445059\n",
       "4538    9.189464            11.095397           11.365246\n",
       "4539   35.252291            37.291067           36.079002\n",
       "4540    3.706503             7.265082            6.880729\n",
       "4541    9.409493            11.095397           10.976590\n",
       "4542   15.476479            17.035532           16.935741\n",
       "4543   21.367174            21.701080           21.429380\n",
       "4544   16.853422            23.658867           23.700733\n",
       "4545   17.792034            18.937710           18.764467\n",
       "4546   21.774555            19.073973           19.014425\n",
       "4547   45.885132            44.578807           43.792858\n",
       "4548   27.768543            26.836400           26.934841\n",
       "4549   25.446167            24.527290           24.383757\n",
       "4550   31.060970            32.484037           31.973759"
      ]
     },
     "execution_count": 91,
     "metadata": {},
     "output_type": "execute_result"
    }
   ],
   "source": [
    "#showing the last 50 value results\n",
    "df_results.tail(50)"
   ]
  },
  {
   "cell_type": "markdown",
   "metadata": {},
   "source": [
    "According to the above graphical and numerical prediction results, both outputs are very similar between each other. This fact is obvious due to the given similarity between the previous model evaluation indicators. It basically shows in a more detailed manner the generated predictions in comparison to the actual speed values. As the figures show, both Machine Learning techniques output very similar values. This results similarity has been obtained after trying out different models and parameters, and these are the best values obtained. This reveals that the methods are working accordingly, but the problem which makes these predictions not to be even better is the input data; only one feature is given and is sometimes not continuous. Below, a new calculation will be provided in the results table: counting which technique is better in each prediction to compare the respective prediction values. "
   ]
  },
  {
   "cell_type": "code",
   "execution_count": 92,
   "metadata": {},
   "outputs": [
    {
     "data": {
      "text/html": [
       "<div>\n",
       "<style scoped>\n",
       "    .dataframe tbody tr th:only-of-type {\n",
       "        vertical-align: middle;\n",
       "    }\n",
       "\n",
       "    .dataframe tbody tr th {\n",
       "        vertical-align: top;\n",
       "    }\n",
       "\n",
       "    .dataframe thead th {\n",
       "        text-align: right;\n",
       "    }\n",
       "</style>\n",
       "<table border=\"1\" class=\"dataframe\">\n",
       "  <thead>\n",
       "    <tr style=\"text-align: right;\">\n",
       "      <th></th>\n",
       "      <th>Speed_real</th>\n",
       "      <th>Speed_Predicted_GBR</th>\n",
       "      <th>Speed_Predicted_NN</th>\n",
       "      <th>Best_Prediction</th>\n",
       "    </tr>\n",
       "  </thead>\n",
       "  <tbody>\n",
       "    <tr>\n",
       "      <th>0</th>\n",
       "      <td>23.016042</td>\n",
       "      <td>15.430957</td>\n",
       "      <td>15.048355</td>\n",
       "      <td>GBR</td>\n",
       "    </tr>\n",
       "    <tr>\n",
       "      <th>1</th>\n",
       "      <td>26.963228</td>\n",
       "      <td>24.527290</td>\n",
       "      <td>24.363697</td>\n",
       "      <td>GBR</td>\n",
       "    </tr>\n",
       "    <tr>\n",
       "      <th>2</th>\n",
       "      <td>0.000000</td>\n",
       "      <td>3.396655</td>\n",
       "      <td>3.915977</td>\n",
       "      <td>GBR</td>\n",
       "    </tr>\n",
       "    <tr>\n",
       "      <th>3</th>\n",
       "      <td>41.747497</td>\n",
       "      <td>40.414157</td>\n",
       "      <td>39.199364</td>\n",
       "      <td>GBR</td>\n",
       "    </tr>\n",
       "    <tr>\n",
       "      <th>4</th>\n",
       "      <td>48.758910</td>\n",
       "      <td>33.892168</td>\n",
       "      <td>34.326927</td>\n",
       "      <td>FCNN</td>\n",
       "    </tr>\n",
       "  </tbody>\n",
       "</table>\n",
       "</div>"
      ],
      "text/plain": [
       "   Speed_real  Speed_Predicted_GBR  Speed_Predicted_NN Best_Prediction\n",
       "0   23.016042            15.430957           15.048355             GBR\n",
       "1   26.963228            24.527290           24.363697             GBR\n",
       "2    0.000000             3.396655            3.915977             GBR\n",
       "3   41.747497            40.414157           39.199364             GBR\n",
       "4   48.758910            33.892168           34.326927            FCNN"
      ]
     },
     "execution_count": 92,
     "metadata": {},
     "output_type": "execute_result"
    }
   ],
   "source": [
    "#comparision between better results\n",
    "speeds = df_results.Speed_real.values.tolist()\n",
    "gbr_speeds = df_results.Speed_Predicted_GBR.values.tolist()\n",
    "nn_speeds = df_results.Speed_Predicted_NN.values.tolist()\n",
    "best_predict = []\n",
    "\n",
    "for i in range(len(df_results)):\n",
    "    calc1 = speeds[i] - gbr_speeds[i]\n",
    "    calc2 = speeds[i] - nn_speeds[i]\n",
    "    if abs(calc1) > abs(calc2): \n",
    "        best_predict.append('FCNN')\n",
    "    else:\n",
    "        best_predict.append('GBR')\n",
    "        \n",
    "df_results['Best_Prediction'] = best_predict\n",
    "df_results.head()"
   ]
  },
  {
   "cell_type": "code",
   "execution_count": 93,
   "metadata": {},
   "outputs": [
    {
     "data": {
      "text/plain": [
       "FCNN    2313\n",
       "GBR     2238\n",
       "Name: Best_Prediction, dtype: int64"
      ]
     },
     "execution_count": 93,
     "metadata": {},
     "output_type": "execute_result"
    }
   ],
   "source": [
    "#getting count of best prediction methods\n",
    "df_results['Best_Prediction'].value_counts()"
   ]
  },
  {
   "cell_type": "markdown",
   "metadata": {},
   "source": [
    "According to the given output, the fully connected NN tents to perform better over the values, even though its RMSE or r2 values are slightly lower. This shows a big difference between more traditional machine learning algorithms (such as GBR) and neural networks, in which neural networks can perform better over time due to its more powerful learning capacity and improvement in fitting predictions into the data. "
   ]
  },
  {
   "cell_type": "markdown",
   "metadata": {},
   "source": [
    " ### Conclusion"
   ]
  },
  {
   "cell_type": "markdown",
   "metadata": {},
   "source": [
    "Having reached the last section, it is time to put everything in a nutshell and provide some conclusion observations:"
   ]
  },
  {
   "cell_type": "markdown",
   "metadata": {},
   "source": [
    "- Since the speed variations in each movement are quite heterogeneous, obvious fact since hurricanes are triggered by extreme meteorological conditions, having only one predictor made the algorithms have some difficulties to learn the data and predict it accurately. Ideally, it would have been best to complement it with another feature, so the predictions could have been a bit more precise. However, none of the meteorological data was useful for predictions since they did not have influence in the speed values as observed. Therefore, being the situation like this, the previous speed has been a very decent input feature.<br>\n",
    "<br>\n",
    "- In prediction terms, the Gradient Boost Regressor (GBR) and the fully connected Neural Network (FCNN) performed quite similarly. According to the evaluation regression parameters (r2, RMSE, MAE), both techniques had almost identical values (GBR slightly better). Nevertheless, the FCNN performed better as observed in the count of values closer to the real speed value. This is basically beacuse the neural network approaches tent to perform better over time and the more traditional approaches such as GBR, learn at once and predict accordingly. \n",
    "<br>\n",
    "<br>\n",
    "- Even though the FCNN performed slightly better, it requires much more computational costs and it is also more complex. In agreement with this, the most practical solution for this case would have been to stick to more traditional machine learning techniques, since the performance difference has not been very big. "
   ]
  }
 ],
 "metadata": {
  "kernelspec": {
   "display_name": "Python 3",
   "language": "python",
   "name": "python3"
  },
  "language_info": {
   "codemirror_mode": {
    "name": "ipython",
    "version": 3
   },
   "file_extension": ".py",
   "mimetype": "text/x-python",
   "name": "python",
   "nbconvert_exporter": "python",
   "pygments_lexer": "ipython3",
   "version": "3.8.5"
  }
 },
 "nbformat": 4,
 "nbformat_minor": 4
}
