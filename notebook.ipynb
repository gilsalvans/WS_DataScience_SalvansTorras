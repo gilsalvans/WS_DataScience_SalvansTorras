{
 "cells": [
  {
   "cell_type": "code",
   "execution_count": 1,
   "metadata": {},
   "outputs": [],
   "source": [
    "#importing all the modules\n",
    "import pandas as pd\n",
    "import geopandas as gpd\n",
    "from geopandas import GeoDataFrame\n",
    "import numpy as np\n",
    "import matplotlib.pyplot as plt\n",
    "import seaborn as sns"
   ]
  },
  {
   "cell_type": "markdown",
   "metadata": {},
   "source": [
    "## 1. Exploratory Data Analysis & Data Cleaning"
   ]
  },
  {
   "cell_type": "markdown",
   "metadata": {},
   "source": [
    "In this first section, the data will be imported, explored and cleaned in order to start approaching the subsequent prediction problems. It is very important here to get a full understanding of the data structure and quality. In this case, a historical dataset regarding hurricanes in the atlantic will be the analysed one. "
   ]
  },
  {
   "cell_type": "markdown",
   "metadata": {},
   "source": [
    "### 1.1. Data Structure"
   ]
  },
  {
   "cell_type": "code",
   "execution_count": 2,
   "metadata": {},
   "outputs": [],
   "source": [
    "#Read the atlantic dataset\n",
    "data = pd.read_csv('data/atlantic.csv')"
   ]
  },
  {
   "cell_type": "code",
   "execution_count": 3,
   "metadata": {},
   "outputs": [
    {
     "data": {
      "text/html": [
       "<div>\n",
       "<style scoped>\n",
       "    .dataframe tbody tr th:only-of-type {\n",
       "        vertical-align: middle;\n",
       "    }\n",
       "\n",
       "    .dataframe tbody tr th {\n",
       "        vertical-align: top;\n",
       "    }\n",
       "\n",
       "    .dataframe thead th {\n",
       "        text-align: right;\n",
       "    }\n",
       "</style>\n",
       "<table border=\"1\" class=\"dataframe\">\n",
       "  <thead>\n",
       "    <tr style=\"text-align: right;\">\n",
       "      <th></th>\n",
       "      <th>ID</th>\n",
       "      <th>Name</th>\n",
       "      <th>Date</th>\n",
       "      <th>Time</th>\n",
       "      <th>Event</th>\n",
       "      <th>Status</th>\n",
       "      <th>Latitude</th>\n",
       "      <th>Longitude</th>\n",
       "      <th>Maximum Wind</th>\n",
       "      <th>Minimum Pressure</th>\n",
       "      <th>...</th>\n",
       "      <th>Low Wind SW</th>\n",
       "      <th>Low Wind NW</th>\n",
       "      <th>Moderate Wind NE</th>\n",
       "      <th>Moderate Wind SE</th>\n",
       "      <th>Moderate Wind SW</th>\n",
       "      <th>Moderate Wind NW</th>\n",
       "      <th>High Wind NE</th>\n",
       "      <th>High Wind SE</th>\n",
       "      <th>High Wind SW</th>\n",
       "      <th>High Wind NW</th>\n",
       "    </tr>\n",
       "  </thead>\n",
       "  <tbody>\n",
       "    <tr>\n",
       "      <th>0</th>\n",
       "      <td>AL011851</td>\n",
       "      <td>UNNAMED</td>\n",
       "      <td>18510625</td>\n",
       "      <td>0</td>\n",
       "      <td></td>\n",
       "      <td>HU</td>\n",
       "      <td>28.0N</td>\n",
       "      <td>94.8W</td>\n",
       "      <td>80</td>\n",
       "      <td>-999</td>\n",
       "      <td>...</td>\n",
       "      <td>-999</td>\n",
       "      <td>-999</td>\n",
       "      <td>-999</td>\n",
       "      <td>-999</td>\n",
       "      <td>-999</td>\n",
       "      <td>-999</td>\n",
       "      <td>-999</td>\n",
       "      <td>-999</td>\n",
       "      <td>-999</td>\n",
       "      <td>-999</td>\n",
       "    </tr>\n",
       "    <tr>\n",
       "      <th>1</th>\n",
       "      <td>AL011851</td>\n",
       "      <td>UNNAMED</td>\n",
       "      <td>18510625</td>\n",
       "      <td>600</td>\n",
       "      <td></td>\n",
       "      <td>HU</td>\n",
       "      <td>28.0N</td>\n",
       "      <td>95.4W</td>\n",
       "      <td>80</td>\n",
       "      <td>-999</td>\n",
       "      <td>...</td>\n",
       "      <td>-999</td>\n",
       "      <td>-999</td>\n",
       "      <td>-999</td>\n",
       "      <td>-999</td>\n",
       "      <td>-999</td>\n",
       "      <td>-999</td>\n",
       "      <td>-999</td>\n",
       "      <td>-999</td>\n",
       "      <td>-999</td>\n",
       "      <td>-999</td>\n",
       "    </tr>\n",
       "    <tr>\n",
       "      <th>2</th>\n",
       "      <td>AL011851</td>\n",
       "      <td>UNNAMED</td>\n",
       "      <td>18510625</td>\n",
       "      <td>1200</td>\n",
       "      <td></td>\n",
       "      <td>HU</td>\n",
       "      <td>28.0N</td>\n",
       "      <td>96.0W</td>\n",
       "      <td>80</td>\n",
       "      <td>-999</td>\n",
       "      <td>...</td>\n",
       "      <td>-999</td>\n",
       "      <td>-999</td>\n",
       "      <td>-999</td>\n",
       "      <td>-999</td>\n",
       "      <td>-999</td>\n",
       "      <td>-999</td>\n",
       "      <td>-999</td>\n",
       "      <td>-999</td>\n",
       "      <td>-999</td>\n",
       "      <td>-999</td>\n",
       "    </tr>\n",
       "    <tr>\n",
       "      <th>3</th>\n",
       "      <td>AL011851</td>\n",
       "      <td>UNNAMED</td>\n",
       "      <td>18510625</td>\n",
       "      <td>1800</td>\n",
       "      <td></td>\n",
       "      <td>HU</td>\n",
       "      <td>28.1N</td>\n",
       "      <td>96.5W</td>\n",
       "      <td>80</td>\n",
       "      <td>-999</td>\n",
       "      <td>...</td>\n",
       "      <td>-999</td>\n",
       "      <td>-999</td>\n",
       "      <td>-999</td>\n",
       "      <td>-999</td>\n",
       "      <td>-999</td>\n",
       "      <td>-999</td>\n",
       "      <td>-999</td>\n",
       "      <td>-999</td>\n",
       "      <td>-999</td>\n",
       "      <td>-999</td>\n",
       "    </tr>\n",
       "    <tr>\n",
       "      <th>4</th>\n",
       "      <td>AL011851</td>\n",
       "      <td>UNNAMED</td>\n",
       "      <td>18510625</td>\n",
       "      <td>2100</td>\n",
       "      <td>L</td>\n",
       "      <td>HU</td>\n",
       "      <td>28.2N</td>\n",
       "      <td>96.8W</td>\n",
       "      <td>80</td>\n",
       "      <td>-999</td>\n",
       "      <td>...</td>\n",
       "      <td>-999</td>\n",
       "      <td>-999</td>\n",
       "      <td>-999</td>\n",
       "      <td>-999</td>\n",
       "      <td>-999</td>\n",
       "      <td>-999</td>\n",
       "      <td>-999</td>\n",
       "      <td>-999</td>\n",
       "      <td>-999</td>\n",
       "      <td>-999</td>\n",
       "    </tr>\n",
       "    <tr>\n",
       "      <th>...</th>\n",
       "      <td>...</td>\n",
       "      <td>...</td>\n",
       "      <td>...</td>\n",
       "      <td>...</td>\n",
       "      <td>...</td>\n",
       "      <td>...</td>\n",
       "      <td>...</td>\n",
       "      <td>...</td>\n",
       "      <td>...</td>\n",
       "      <td>...</td>\n",
       "      <td>...</td>\n",
       "      <td>...</td>\n",
       "      <td>...</td>\n",
       "      <td>...</td>\n",
       "      <td>...</td>\n",
       "      <td>...</td>\n",
       "      <td>...</td>\n",
       "      <td>...</td>\n",
       "      <td>...</td>\n",
       "      <td>...</td>\n",
       "      <td>...</td>\n",
       "    </tr>\n",
       "    <tr>\n",
       "      <th>49100</th>\n",
       "      <td>AL122015</td>\n",
       "      <td>KATE</td>\n",
       "      <td>20151112</td>\n",
       "      <td>1200</td>\n",
       "      <td></td>\n",
       "      <td>EX</td>\n",
       "      <td>41.3N</td>\n",
       "      <td>50.4W</td>\n",
       "      <td>55</td>\n",
       "      <td>981</td>\n",
       "      <td>...</td>\n",
       "      <td>180</td>\n",
       "      <td>120</td>\n",
       "      <td>120</td>\n",
       "      <td>120</td>\n",
       "      <td>60</td>\n",
       "      <td>0</td>\n",
       "      <td>0</td>\n",
       "      <td>0</td>\n",
       "      <td>0</td>\n",
       "      <td>0</td>\n",
       "    </tr>\n",
       "    <tr>\n",
       "      <th>49101</th>\n",
       "      <td>AL122015</td>\n",
       "      <td>KATE</td>\n",
       "      <td>20151112</td>\n",
       "      <td>1800</td>\n",
       "      <td></td>\n",
       "      <td>EX</td>\n",
       "      <td>41.9N</td>\n",
       "      <td>49.9W</td>\n",
       "      <td>55</td>\n",
       "      <td>983</td>\n",
       "      <td>...</td>\n",
       "      <td>180</td>\n",
       "      <td>120</td>\n",
       "      <td>120</td>\n",
       "      <td>120</td>\n",
       "      <td>60</td>\n",
       "      <td>0</td>\n",
       "      <td>0</td>\n",
       "      <td>0</td>\n",
       "      <td>0</td>\n",
       "      <td>0</td>\n",
       "    </tr>\n",
       "    <tr>\n",
       "      <th>49102</th>\n",
       "      <td>AL122015</td>\n",
       "      <td>KATE</td>\n",
       "      <td>20151113</td>\n",
       "      <td>0</td>\n",
       "      <td></td>\n",
       "      <td>EX</td>\n",
       "      <td>41.5N</td>\n",
       "      <td>49.2W</td>\n",
       "      <td>50</td>\n",
       "      <td>985</td>\n",
       "      <td>...</td>\n",
       "      <td>200</td>\n",
       "      <td>220</td>\n",
       "      <td>120</td>\n",
       "      <td>120</td>\n",
       "      <td>60</td>\n",
       "      <td>0</td>\n",
       "      <td>0</td>\n",
       "      <td>0</td>\n",
       "      <td>0</td>\n",
       "      <td>0</td>\n",
       "    </tr>\n",
       "    <tr>\n",
       "      <th>49103</th>\n",
       "      <td>AL122015</td>\n",
       "      <td>KATE</td>\n",
       "      <td>20151113</td>\n",
       "      <td>600</td>\n",
       "      <td></td>\n",
       "      <td>EX</td>\n",
       "      <td>40.8N</td>\n",
       "      <td>47.5W</td>\n",
       "      <td>45</td>\n",
       "      <td>985</td>\n",
       "      <td>...</td>\n",
       "      <td>180</td>\n",
       "      <td>220</td>\n",
       "      <td>0</td>\n",
       "      <td>0</td>\n",
       "      <td>0</td>\n",
       "      <td>0</td>\n",
       "      <td>0</td>\n",
       "      <td>0</td>\n",
       "      <td>0</td>\n",
       "      <td>0</td>\n",
       "    </tr>\n",
       "    <tr>\n",
       "      <th>49104</th>\n",
       "      <td>AL122015</td>\n",
       "      <td>KATE</td>\n",
       "      <td>20151113</td>\n",
       "      <td>1200</td>\n",
       "      <td></td>\n",
       "      <td>EX</td>\n",
       "      <td>40.7N</td>\n",
       "      <td>45.4W</td>\n",
       "      <td>45</td>\n",
       "      <td>987</td>\n",
       "      <td>...</td>\n",
       "      <td>150</td>\n",
       "      <td>220</td>\n",
       "      <td>0</td>\n",
       "      <td>0</td>\n",
       "      <td>0</td>\n",
       "      <td>0</td>\n",
       "      <td>0</td>\n",
       "      <td>0</td>\n",
       "      <td>0</td>\n",
       "      <td>0</td>\n",
       "    </tr>\n",
       "  </tbody>\n",
       "</table>\n",
       "<p>49105 rows × 22 columns</p>\n",
       "</div>"
      ],
      "text/plain": [
       "             ID                 Name      Date  Time Event Status Latitude  \\\n",
       "0      AL011851              UNNAMED  18510625     0           HU    28.0N   \n",
       "1      AL011851              UNNAMED  18510625   600           HU    28.0N   \n",
       "2      AL011851              UNNAMED  18510625  1200           HU    28.0N   \n",
       "3      AL011851              UNNAMED  18510625  1800           HU    28.1N   \n",
       "4      AL011851              UNNAMED  18510625  2100     L     HU    28.2N   \n",
       "...         ...                  ...       ...   ...   ...    ...      ...   \n",
       "49100  AL122015                 KATE  20151112  1200           EX    41.3N   \n",
       "49101  AL122015                 KATE  20151112  1800           EX    41.9N   \n",
       "49102  AL122015                 KATE  20151113     0           EX    41.5N   \n",
       "49103  AL122015                 KATE  20151113   600           EX    40.8N   \n",
       "49104  AL122015                 KATE  20151113  1200           EX    40.7N   \n",
       "\n",
       "      Longitude  Maximum Wind  Minimum Pressure  ...  Low Wind SW  \\\n",
       "0         94.8W            80              -999  ...         -999   \n",
       "1         95.4W            80              -999  ...         -999   \n",
       "2         96.0W            80              -999  ...         -999   \n",
       "3         96.5W            80              -999  ...         -999   \n",
       "4         96.8W            80              -999  ...         -999   \n",
       "...         ...           ...               ...  ...          ...   \n",
       "49100     50.4W            55               981  ...          180   \n",
       "49101     49.9W            55               983  ...          180   \n",
       "49102     49.2W            50               985  ...          200   \n",
       "49103     47.5W            45               985  ...          180   \n",
       "49104     45.4W            45               987  ...          150   \n",
       "\n",
       "       Low Wind NW  Moderate Wind NE  Moderate Wind SE  Moderate Wind SW  \\\n",
       "0             -999              -999              -999              -999   \n",
       "1             -999              -999              -999              -999   \n",
       "2             -999              -999              -999              -999   \n",
       "3             -999              -999              -999              -999   \n",
       "4             -999              -999              -999              -999   \n",
       "...            ...               ...               ...               ...   \n",
       "49100          120               120               120                60   \n",
       "49101          120               120               120                60   \n",
       "49102          220               120               120                60   \n",
       "49103          220                 0                 0                 0   \n",
       "49104          220                 0                 0                 0   \n",
       "\n",
       "       Moderate Wind NW  High Wind NE  High Wind SE  High Wind SW  \\\n",
       "0                  -999          -999          -999          -999   \n",
       "1                  -999          -999          -999          -999   \n",
       "2                  -999          -999          -999          -999   \n",
       "3                  -999          -999          -999          -999   \n",
       "4                  -999          -999          -999          -999   \n",
       "...                 ...           ...           ...           ...   \n",
       "49100                 0             0             0             0   \n",
       "49101                 0             0             0             0   \n",
       "49102                 0             0             0             0   \n",
       "49103                 0             0             0             0   \n",
       "49104                 0             0             0             0   \n",
       "\n",
       "       High Wind NW  \n",
       "0              -999  \n",
       "1              -999  \n",
       "2              -999  \n",
       "3              -999  \n",
       "4              -999  \n",
       "...             ...  \n",
       "49100             0  \n",
       "49101             0  \n",
       "49102             0  \n",
       "49103             0  \n",
       "49104             0  \n",
       "\n",
       "[49105 rows x 22 columns]"
      ]
     },
     "execution_count": 3,
     "metadata": {},
     "output_type": "execute_result"
    }
   ],
   "source": [
    "#display first 5 rows and last 5 rows of the dataset\n",
    "data"
   ]
  },
  {
   "cell_type": "code",
   "execution_count": 4,
   "metadata": {},
   "outputs": [
    {
     "data": {
      "text/plain": [
       "(49105, 22)"
      ]
     },
     "execution_count": 4,
     "metadata": {},
     "output_type": "execute_result"
    }
   ],
   "source": [
    "#check the data shape \n",
    "data.shape"
   ]
  },
  {
   "cell_type": "markdown",
   "metadata": {},
   "source": [
    "The dataset is composed by 49105 rows (records) and 22 columns (attributes)."
   ]
  },
  {
   "cell_type": "code",
   "execution_count": 5,
   "metadata": {},
   "outputs": [
    {
     "name": "stdout",
     "output_type": "stream",
     "text": [
      "<class 'pandas.core.frame.DataFrame'>\n",
      "RangeIndex: 49105 entries, 0 to 49104\n",
      "Data columns (total 22 columns):\n",
      " #   Column            Non-Null Count  Dtype \n",
      "---  ------            --------------  ----- \n",
      " 0   ID                49105 non-null  object\n",
      " 1   Name              49105 non-null  object\n",
      " 2   Date              49105 non-null  int64 \n",
      " 3   Time              49105 non-null  int64 \n",
      " 4   Event             49105 non-null  object\n",
      " 5   Status            49105 non-null  object\n",
      " 6   Latitude          49105 non-null  object\n",
      " 7   Longitude         49105 non-null  object\n",
      " 8   Maximum Wind      49105 non-null  int64 \n",
      " 9   Minimum Pressure  49105 non-null  int64 \n",
      " 10  Low Wind NE       49105 non-null  int64 \n",
      " 11  Low Wind SE       49105 non-null  int64 \n",
      " 12  Low Wind SW       49105 non-null  int64 \n",
      " 13  Low Wind NW       49105 non-null  int64 \n",
      " 14  Moderate Wind NE  49105 non-null  int64 \n",
      " 15  Moderate Wind SE  49105 non-null  int64 \n",
      " 16  Moderate Wind SW  49105 non-null  int64 \n",
      " 17  Moderate Wind NW  49105 non-null  int64 \n",
      " 18  High Wind NE      49105 non-null  int64 \n",
      " 19  High Wind SE      49105 non-null  int64 \n",
      " 20  High Wind SW      49105 non-null  int64 \n",
      " 21  High Wind NW      49105 non-null  int64 \n",
      "dtypes: int64(16), object(6)\n",
      "memory usage: 8.2+ MB\n"
     ]
    }
   ],
   "source": [
    "#check all data types of the dataset & its info\n",
    "data.info()"
   ]
  },
  {
   "cell_type": "markdown",
   "metadata": {},
   "source": [
    "With a very general notion of the data structure, it is time to start with the cleaning. At first, duplicate and null values must be erased. Secondly, a reestructuration of the fields will be carred out (formatting, data types & structure). "
   ]
  },
  {
   "cell_type": "code",
   "execution_count": 6,
   "metadata": {},
   "outputs": [
    {
     "name": "stdout",
     "output_type": "stream",
     "text": [
      "Duplicate rows :  (0, 22)\n"
     ]
    }
   ],
   "source": [
    "# Checking and eliminating duplicate values\n",
    "duplicate_rows = data[data.duplicated()]\n",
    "print(\"Duplicate rows : \", duplicate_rows.shape)"
   ]
  },
  {
   "cell_type": "markdown",
   "metadata": {},
   "source": [
    "As shown in this previous output, there are no duplicate rows in our dataset (0 refers to rows and 22 refers to the number of attributes int the dataset). Subsequently, missing values will be checked and dropped."
   ]
  },
  {
   "cell_type": "code",
   "execution_count": 7,
   "metadata": {},
   "outputs": [
    {
     "name": "stdout",
     "output_type": "stream",
     "text": [
      "ID                  0\n",
      "Name                0\n",
      "Date                0\n",
      "Time                0\n",
      "Event               0\n",
      "Status              0\n",
      "Latitude            0\n",
      "Longitude           0\n",
      "Maximum Wind        0\n",
      "Minimum Pressure    0\n",
      "Low Wind NE         0\n",
      "Low Wind SE         0\n",
      "Low Wind SW         0\n",
      "Low Wind NW         0\n",
      "Moderate Wind NE    0\n",
      "Moderate Wind SE    0\n",
      "Moderate Wind SW    0\n",
      "Moderate Wind NW    0\n",
      "High Wind NE        0\n",
      "High Wind SE        0\n",
      "High Wind SW        0\n",
      "High Wind NW        0\n",
      "dtype: int64\n"
     ]
    }
   ],
   "source": [
    "#Checking and dropping missing values\n",
    "print(data.isnull().sum())"
   ]
  },
  {
   "cell_type": "markdown",
   "metadata": {},
   "source": [
    "As also shown in this previous output, there are no null values on any of the dataset columns and records.\n"
   ]
  },
  {
   "cell_type": "markdown",
   "metadata": {},
   "source": [
    "### 1.2. Outliers Detection and Data Formatting\n",
    "To continue with the data analysis, it is time to detect outliers in the data and delete its anomalies. Obviously, the outliers are only present in the continuous variables of the dataset. For this case, the main outliers to be detected will be in Longitude, Latitude, Max.Wind and Min.Pressure. Additionally, these must be reformatted: time and date (creating a timestamp column), lat and long will be normalized (only numerical and without the letter), and the rest of the wind values (low, moderate and high) will also be accordingly formatted(e.g. 0 instead of 999)."
   ]
  },
  {
   "cell_type": "markdown",
   "metadata": {},
   "source": [
    "#### Latitude and Longitude \n",
    "For these two attributes, first we must format the data as fully numerical, by taking out the N/S/E/W and adding a plus or a minus instead depending on its geographical location. Once this is done (new fields as normalized lat and normalized long), the outliers analysis can be carried out."
   ]
  },
  {
   "cell_type": "code",
   "execution_count": 8,
   "metadata": {},
   "outputs": [],
   "source": [
    "#Fixing latitude and longitude in order to be mapped\n",
    "\n",
    "#arrays to store the mapping lat and long values which will be added to the dataset\n",
    "map_long = []\n",
    "map_lat = []\n",
    "\n",
    "for i in data['Latitude']:\n",
    "    if i.endswith('N'):\n",
    "        new_lat_n = i.replace('N', '')\n",
    "        lat_float_n = float(new_lat_n)\n",
    "        map_lat.append(lat_float_n)\n",
    "    else:\n",
    "        #for the Southern hemisphere (which must be negative)\n",
    "        new_lat_s = i.replace('S', '')\n",
    "        lat_float_s = float(new_lat)\n",
    "        lat_south = lat_float_s * -1 \n",
    "        map_lat.append(lat_south)\n",
    "        \n",
    "\n",
    "#same procedure but for longitude\n",
    "for i in data['Longitude']:\n",
    "    if i.endswith('E'): #East is positive\n",
    "        new_lon_e = i.replace('E', '')\n",
    "        lon_float_e = float(new_lon_e)\n",
    "        map_long.append(lon_float_e)\n",
    "    else:\n",
    "        #for the Western hemisphere (which must be negative)\n",
    "        new_lon_w = i.replace('W', '')\n",
    "        lon_float_w = float(new_lon_w)\n",
    "        lat_west = lon_float_w * -1 \n",
    "        map_long.append(lat_west)"
   ]
  },
  {
   "cell_type": "code",
   "execution_count": 9,
   "metadata": {},
   "outputs": [],
   "source": [
    "#at the same time, the previous lat long attributes can be deleted\n",
    "del data['Latitude']\n",
    "del data['Longitude']\n",
    "\n",
    "#We must append the two processed arrays to the Atlantic dataset\n",
    "data['Lat'] = map_lat\n",
    "data['Lon'] = map_long"
   ]
  },
  {
   "cell_type": "code",
   "execution_count": 10,
   "metadata": {},
   "outputs": [
    {
     "data": {
      "text/html": [
       "<div>\n",
       "<style scoped>\n",
       "    .dataframe tbody tr th:only-of-type {\n",
       "        vertical-align: middle;\n",
       "    }\n",
       "\n",
       "    .dataframe tbody tr th {\n",
       "        vertical-align: top;\n",
       "    }\n",
       "\n",
       "    .dataframe thead th {\n",
       "        text-align: right;\n",
       "    }\n",
       "</style>\n",
       "<table border=\"1\" class=\"dataframe\">\n",
       "  <thead>\n",
       "    <tr style=\"text-align: right;\">\n",
       "      <th></th>\n",
       "      <th>ID</th>\n",
       "      <th>Name</th>\n",
       "      <th>Date</th>\n",
       "      <th>Time</th>\n",
       "      <th>Event</th>\n",
       "      <th>Status</th>\n",
       "      <th>Maximum Wind</th>\n",
       "      <th>Minimum Pressure</th>\n",
       "      <th>Low Wind NE</th>\n",
       "      <th>Low Wind SE</th>\n",
       "      <th>...</th>\n",
       "      <th>Moderate Wind NE</th>\n",
       "      <th>Moderate Wind SE</th>\n",
       "      <th>Moderate Wind SW</th>\n",
       "      <th>Moderate Wind NW</th>\n",
       "      <th>High Wind NE</th>\n",
       "      <th>High Wind SE</th>\n",
       "      <th>High Wind SW</th>\n",
       "      <th>High Wind NW</th>\n",
       "      <th>Lat</th>\n",
       "      <th>Lon</th>\n",
       "    </tr>\n",
       "  </thead>\n",
       "  <tbody>\n",
       "    <tr>\n",
       "      <th>0</th>\n",
       "      <td>AL011851</td>\n",
       "      <td>UNNAMED</td>\n",
       "      <td>18510625</td>\n",
       "      <td>0</td>\n",
       "      <td></td>\n",
       "      <td>HU</td>\n",
       "      <td>80</td>\n",
       "      <td>-999</td>\n",
       "      <td>-999</td>\n",
       "      <td>-999</td>\n",
       "      <td>...</td>\n",
       "      <td>-999</td>\n",
       "      <td>-999</td>\n",
       "      <td>-999</td>\n",
       "      <td>-999</td>\n",
       "      <td>-999</td>\n",
       "      <td>-999</td>\n",
       "      <td>-999</td>\n",
       "      <td>-999</td>\n",
       "      <td>28.0</td>\n",
       "      <td>-94.8</td>\n",
       "    </tr>\n",
       "    <tr>\n",
       "      <th>1</th>\n",
       "      <td>AL011851</td>\n",
       "      <td>UNNAMED</td>\n",
       "      <td>18510625</td>\n",
       "      <td>600</td>\n",
       "      <td></td>\n",
       "      <td>HU</td>\n",
       "      <td>80</td>\n",
       "      <td>-999</td>\n",
       "      <td>-999</td>\n",
       "      <td>-999</td>\n",
       "      <td>...</td>\n",
       "      <td>-999</td>\n",
       "      <td>-999</td>\n",
       "      <td>-999</td>\n",
       "      <td>-999</td>\n",
       "      <td>-999</td>\n",
       "      <td>-999</td>\n",
       "      <td>-999</td>\n",
       "      <td>-999</td>\n",
       "      <td>28.0</td>\n",
       "      <td>-95.4</td>\n",
       "    </tr>\n",
       "    <tr>\n",
       "      <th>2</th>\n",
       "      <td>AL011851</td>\n",
       "      <td>UNNAMED</td>\n",
       "      <td>18510625</td>\n",
       "      <td>1200</td>\n",
       "      <td></td>\n",
       "      <td>HU</td>\n",
       "      <td>80</td>\n",
       "      <td>-999</td>\n",
       "      <td>-999</td>\n",
       "      <td>-999</td>\n",
       "      <td>...</td>\n",
       "      <td>-999</td>\n",
       "      <td>-999</td>\n",
       "      <td>-999</td>\n",
       "      <td>-999</td>\n",
       "      <td>-999</td>\n",
       "      <td>-999</td>\n",
       "      <td>-999</td>\n",
       "      <td>-999</td>\n",
       "      <td>28.0</td>\n",
       "      <td>-96.0</td>\n",
       "    </tr>\n",
       "    <tr>\n",
       "      <th>3</th>\n",
       "      <td>AL011851</td>\n",
       "      <td>UNNAMED</td>\n",
       "      <td>18510625</td>\n",
       "      <td>1800</td>\n",
       "      <td></td>\n",
       "      <td>HU</td>\n",
       "      <td>80</td>\n",
       "      <td>-999</td>\n",
       "      <td>-999</td>\n",
       "      <td>-999</td>\n",
       "      <td>...</td>\n",
       "      <td>-999</td>\n",
       "      <td>-999</td>\n",
       "      <td>-999</td>\n",
       "      <td>-999</td>\n",
       "      <td>-999</td>\n",
       "      <td>-999</td>\n",
       "      <td>-999</td>\n",
       "      <td>-999</td>\n",
       "      <td>28.1</td>\n",
       "      <td>-96.5</td>\n",
       "    </tr>\n",
       "    <tr>\n",
       "      <th>4</th>\n",
       "      <td>AL011851</td>\n",
       "      <td>UNNAMED</td>\n",
       "      <td>18510625</td>\n",
       "      <td>2100</td>\n",
       "      <td>L</td>\n",
       "      <td>HU</td>\n",
       "      <td>80</td>\n",
       "      <td>-999</td>\n",
       "      <td>-999</td>\n",
       "      <td>-999</td>\n",
       "      <td>...</td>\n",
       "      <td>-999</td>\n",
       "      <td>-999</td>\n",
       "      <td>-999</td>\n",
       "      <td>-999</td>\n",
       "      <td>-999</td>\n",
       "      <td>-999</td>\n",
       "      <td>-999</td>\n",
       "      <td>-999</td>\n",
       "      <td>28.2</td>\n",
       "      <td>-96.8</td>\n",
       "    </tr>\n",
       "  </tbody>\n",
       "</table>\n",
       "<p>5 rows × 22 columns</p>\n",
       "</div>"
      ],
      "text/plain": [
       "         ID                 Name      Date  Time Event Status  Maximum Wind  \\\n",
       "0  AL011851              UNNAMED  18510625     0           HU            80   \n",
       "1  AL011851              UNNAMED  18510625   600           HU            80   \n",
       "2  AL011851              UNNAMED  18510625  1200           HU            80   \n",
       "3  AL011851              UNNAMED  18510625  1800           HU            80   \n",
       "4  AL011851              UNNAMED  18510625  2100     L     HU            80   \n",
       "\n",
       "   Minimum Pressure  Low Wind NE  Low Wind SE  ...  Moderate Wind NE  \\\n",
       "0              -999         -999         -999  ...              -999   \n",
       "1              -999         -999         -999  ...              -999   \n",
       "2              -999         -999         -999  ...              -999   \n",
       "3              -999         -999         -999  ...              -999   \n",
       "4              -999         -999         -999  ...              -999   \n",
       "\n",
       "   Moderate Wind SE  Moderate Wind SW  Moderate Wind NW  High Wind NE  \\\n",
       "0              -999              -999              -999          -999   \n",
       "1              -999              -999              -999          -999   \n",
       "2              -999              -999              -999          -999   \n",
       "3              -999              -999              -999          -999   \n",
       "4              -999              -999              -999          -999   \n",
       "\n",
       "   High Wind SE  High Wind SW  High Wind NW   Lat   Lon  \n",
       "0          -999          -999          -999  28.0 -94.8  \n",
       "1          -999          -999          -999  28.0 -95.4  \n",
       "2          -999          -999          -999  28.0 -96.0  \n",
       "3          -999          -999          -999  28.1 -96.5  \n",
       "4          -999          -999          -999  28.2 -96.8  \n",
       "\n",
       "[5 rows x 22 columns]"
      ]
     },
     "execution_count": 10,
     "metadata": {},
     "output_type": "execute_result"
    }
   ],
   "source": [
    "data.head(5)"
   ]
  },
  {
   "cell_type": "code",
   "execution_count": 11,
   "metadata": {},
   "outputs": [
    {
     "name": "stdout",
     "output_type": "stream",
     "text": [
      "Latitude max. value:  81.0\n",
      "Latitude min. value:  7.2\n"
     ]
    },
    {
     "data": {
      "image/png": "[encoded data removed]",
      "text/plain": [
       "<Figure size 432x288 with 1 Axes>"
      ]
     },
     "metadata": {
      "needs_background": "light"
     },
     "output_type": "display_data"
    }
   ],
   "source": [
    "#Latitude outliers\n",
    "lat_column = data['Lat']\n",
    "sns.boxplot(x=lat_column)\n",
    "print('Latitude max. value: ', lat_column.max())\n",
    "print('Latitude min. value: ', lat_column.min())"
   ]
  },
  {
   "cell_type": "markdown",
   "metadata": {},
   "source": [
    "As the latitude results show above, there are no anomal outliers on this attribute."
   ]
  },
  {
   "cell_type": "code",
   "execution_count": 12,
   "metadata": {},
   "outputs": [
    {
     "name": "stdout",
     "output_type": "stream",
     "text": [
      "Longitude max. value:  63.0\n",
      "Longitude min. value:  -359.1\n"
     ]
    },
    {
     "data": {
      "image/png": "[encoded data removed]",
      "text/plain": [
       "<Figure size 432x288 with 1 Axes>"
      ]
     },
     "metadata": {
      "needs_background": "light"
     },
     "output_type": "display_data"
    }
   ],
   "source": [
    "#Longitude outliers\n",
    "long_column = data['Lon']\n",
    "sns.boxplot(x= long_column)\n",
    "print('Longitude max. value: ', long_column.max())\n",
    "print('Longitude min. value: ', long_column.min())"
   ]
  },
  {
   "cell_type": "code",
   "execution_count": 13,
   "metadata": {},
   "outputs": [
    {
     "data": {
      "text/html": [
       "<div>\n",
       "<style scoped>\n",
       "    .dataframe tbody tr th:only-of-type {\n",
       "        vertical-align: middle;\n",
       "    }\n",
       "\n",
       "    .dataframe tbody tr th {\n",
       "        vertical-align: top;\n",
       "    }\n",
       "\n",
       "    .dataframe thead th {\n",
       "        text-align: right;\n",
       "    }\n",
       "</style>\n",
       "<table border=\"1\" class=\"dataframe\">\n",
       "  <thead>\n",
       "    <tr style=\"text-align: right;\">\n",
       "      <th></th>\n",
       "      <th>ID</th>\n",
       "      <th>Name</th>\n",
       "      <th>Date</th>\n",
       "      <th>Time</th>\n",
       "      <th>Event</th>\n",
       "      <th>Status</th>\n",
       "      <th>Maximum Wind</th>\n",
       "      <th>Minimum Pressure</th>\n",
       "      <th>Low Wind NE</th>\n",
       "      <th>Low Wind SE</th>\n",
       "      <th>...</th>\n",
       "      <th>Moderate Wind NE</th>\n",
       "      <th>Moderate Wind SE</th>\n",
       "      <th>Moderate Wind SW</th>\n",
       "      <th>Moderate Wind NW</th>\n",
       "      <th>High Wind NE</th>\n",
       "      <th>High Wind SE</th>\n",
       "      <th>High Wind SW</th>\n",
       "      <th>High Wind NW</th>\n",
       "      <th>Lat</th>\n",
       "      <th>Lon</th>\n",
       "    </tr>\n",
       "  </thead>\n",
       "  <tbody>\n",
       "    <tr>\n",
       "      <th>22984</th>\n",
       "      <td>AL051952</td>\n",
       "      <td>UNNAMED</td>\n",
       "      <td>19520914</td>\n",
       "      <td>600</td>\n",
       "      <td></td>\n",
       "      <td>EX</td>\n",
       "      <td>35</td>\n",
       "      <td>-999</td>\n",
       "      <td>-999</td>\n",
       "      <td>-999</td>\n",
       "      <td>...</td>\n",
       "      <td>-999</td>\n",
       "      <td>-999</td>\n",
       "      <td>-999</td>\n",
       "      <td>-999</td>\n",
       "      <td>-999</td>\n",
       "      <td>-999</td>\n",
       "      <td>-999</td>\n",
       "      <td>-999</td>\n",
       "      <td>43.2</td>\n",
       "      <td>-359.1</td>\n",
       "    </tr>\n",
       "    <tr>\n",
       "      <th>22985</th>\n",
       "      <td>AL051952</td>\n",
       "      <td>UNNAMED</td>\n",
       "      <td>19520914</td>\n",
       "      <td>1200</td>\n",
       "      <td></td>\n",
       "      <td>EX</td>\n",
       "      <td>35</td>\n",
       "      <td>-999</td>\n",
       "      <td>-999</td>\n",
       "      <td>-999</td>\n",
       "      <td>...</td>\n",
       "      <td>-999</td>\n",
       "      <td>-999</td>\n",
       "      <td>-999</td>\n",
       "      <td>-999</td>\n",
       "      <td>-999</td>\n",
       "      <td>-999</td>\n",
       "      <td>-999</td>\n",
       "      <td>-999</td>\n",
       "      <td>44.0</td>\n",
       "      <td>-358.4</td>\n",
       "    </tr>\n",
       "  </tbody>\n",
       "</table>\n",
       "<p>2 rows × 22 columns</p>\n",
       "</div>"
      ],
      "text/plain": [
       "             ID                 Name      Date  Time Event Status  \\\n",
       "22984  AL051952              UNNAMED  19520914   600           EX   \n",
       "22985  AL051952              UNNAMED  19520914  1200           EX   \n",
       "\n",
       "       Maximum Wind  Minimum Pressure  Low Wind NE  Low Wind SE  ...  \\\n",
       "22984            35              -999         -999         -999  ...   \n",
       "22985            35              -999         -999         -999  ...   \n",
       "\n",
       "       Moderate Wind NE  Moderate Wind SE  Moderate Wind SW  Moderate Wind NW  \\\n",
       "22984              -999              -999              -999              -999   \n",
       "22985              -999              -999              -999              -999   \n",
       "\n",
       "       High Wind NE  High Wind SE  High Wind SW  High Wind NW   Lat    Lon  \n",
       "22984          -999          -999          -999          -999  43.2 -359.1  \n",
       "22985          -999          -999          -999          -999  44.0 -358.4  \n",
       "\n",
       "[2 rows x 22 columns]"
      ]
     },
     "execution_count": 13,
     "metadata": {},
     "output_type": "execute_result"
    }
   ],
   "source": [
    "#Longitude anomal outliers\n",
    "#Longitude values which are smaller than -300 as shown in the boxplot, are clear error values\n",
    "anomal_long = data[(data['Lon'] < - 300)]\n",
    "anomal_long"
   ]
  },
  {
   "cell_type": "code",
   "execution_count": 14,
   "metadata": {},
   "outputs": [
    {
     "data": {
      "text/plain": [
       "(49103, 22)"
      ]
     },
     "execution_count": 14,
     "metadata": {},
     "output_type": "execute_result"
    }
   ],
   "source": [
    "#removal of the two anomal records\n",
    "data = data[(data['Lon'] > - 300)]\n",
    "data.shape"
   ]
  },
  {
   "cell_type": "markdown",
   "metadata": {},
   "source": [
    "Finally, to conclude with the analysis and formatting of Latitude and Longitude, we must check the data on a map using the Geopandas library."
   ]
  },
  {
   "cell_type": "code",
   "execution_count": 15,
   "metadata": {},
   "outputs": [
    {
     "data": {
      "image/png": "[encoded data removed]",
      "text/plain": [
       "<Figure size 432x288 with 1 Axes>"
      ]
     },
     "metadata": {
      "needs_background": "light"
     },
     "output_type": "display_data"
    }
   ],
   "source": [
    "#creating geodataframe so data can be accordingly mapped\n",
    "data_gdf = gpd.GeoDataFrame(data, geometry=gpd.points_from_xy(data.Lon, data.Lat))\n",
    "#setting a projection \n",
    "proj_data = data_gdf.set_crs(epsg=4326)\n",
    "#adding a world basic basemap\n",
    "world = gpd.read_file(gpd.datasets.get_path('naturalearth_lowres'))\n",
    "base = world.plot(color='white', edgecolor='black')\n",
    "proj_data.plot(ax=base, marker='o', color='red', markersize=2);"
   ]
  },
  {
   "cell_type": "markdown",
   "metadata": {},
   "source": [
    "This map does not have any purpose but verifying that the latitude and longitude fields have been accordingly cleaned, formatted and now are mappable. "
   ]
  },
  {
   "cell_type": "markdown",
   "metadata": {},
   "source": [
    "#### Min.Pressure and Max.Wind outliers"
   ]
  },
  {
   "cell_type": "markdown",
   "metadata": {},
   "source": [
    "According to the metadata of this dataset (the dataset description), the missing values for Minimum Pressure are marked with -999 and the missing values for Maximum wind as -99. Therefore, we first identify these rows. "
   ]
  },
  {
   "cell_type": "code",
   "execution_count": 16,
   "metadata": {},
   "outputs": [
    {
     "name": "stdout",
     "output_type": "stream",
     "text": [
      "Anomal Minimum Pressure records:  (30667, 23)\n",
      "Anomal Maximum Wind records:  (338, 23)\n"
     ]
    }
   ],
   "source": [
    "anomal_min_pressure = data[(data['Minimum Pressure'] == -999)]\n",
    "anomal_maxwind = data[(data['Maximum Wind'] == -99)]\n",
    "print('Anomal Minimum Pressure records: ', anomal_min_pressure.shape)\n",
    "print('Anomal Maximum Wind records: ', anomal_maxwind.shape)"
   ]
  },
  {
   "cell_type": "markdown",
   "metadata": {},
   "source": [
    "According to these results, the Minimum Pressure column has way too many missing records and therefore, this column is not anymore valid for this analysis. According to this, this attribute must be deleted. \n",
    "Regarding the Maximum Wind, since there much less values missing, these will be replaced by the median values of the entire column"
   ]
  },
  {
   "cell_type": "code",
   "execution_count": null,
   "metadata": {},
   "outputs": [],
   "source": []
  }
 ],
 "metadata": {
  "kernelspec": {
   "display_name": "Python 3",
   "language": "python",
   "name": "python3"
  },
  "language_info": {
   "codemirror_mode": {
    "name": "ipython",
    "version": 3
   },
   "file_extension": ".py",
   "mimetype": "text/x-python",
   "name": "python",
   "nbconvert_exporter": "python",
   "pygments_lexer": "ipython3",
   "version": "3.8.5"
  }
 },
 "nbformat": 4,
 "nbformat_minor": 4
}
