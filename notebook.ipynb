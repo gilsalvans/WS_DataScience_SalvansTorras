{
 "cells": [
  {
   "cell_type": "markdown",
   "metadata": {},
   "source": [
    "# Final Assignment: Predicting Hurricane speed movements with Machine Learning Methods"
   ]
  },
  {
   "cell_type": "code",
   "execution_count": 1,
   "metadata": {},
   "outputs": [
    {
     "name": "stderr",
     "output_type": "stream",
     "text": [
      "Using TensorFlow backend.\n"
     ]
    }
   ],
   "source": [
    "#importing all the modules\n",
    "import pandas as pd\n",
    "import geopandas as gpd\n",
    "from geopandas import GeoDataFrame\n",
    "from shapely.geometry import box\n",
    "from shapely.geometry import Point\n",
    "import haversine as hs\n",
    "import numpy as np\n",
    "import matplotlib.pyplot as plt\n",
    "import seaborn as sns\n",
    "import datetime\n",
    "\n",
    "from sklearn import preprocessing\n",
    "from sklearn.preprocessing import StandardScaler\n",
    "from sklearn.model_selection import train_test_split\n",
    "from sklearn.svm import SVR\n",
    "from sklearn.metrics import mean_absolute_error,mean_squared_error,r2_score\n",
    "\n",
    "from keras.models import Sequential\n",
    "from keras.layers import Dense\n",
    "from keras.wrappers.scikit_learn import KerasRegressor\n",
    "from sklearn.model_selection import cross_val_score\n",
    "from sklearn.model_selection import KFold"
   ]
  },
  {
   "cell_type": "markdown",
   "metadata": {},
   "source": [
    "## 1. Exploratory Data Analysis & Data Cleaning"
   ]
  },
  {
   "cell_type": "markdown",
   "metadata": {},
   "source": [
    "In this first section, the data will be imported, cleaned, formatted and explored in order to start approaching the subsequent prediction problem. It is very important here to get a full understanding of the data structure, quality and content. In this case, a historical dataset regarding hurricanes in the atlantic will be the analysed one. "
   ]
  },
  {
   "cell_type": "code",
   "execution_count": 2,
   "metadata": {},
   "outputs": [],
   "source": [
    "#Read the atlantic dataset\n",
    "data = pd.read_csv('data/atlantic.csv')"
   ]
  },
  {
   "cell_type": "code",
   "execution_count": 3,
   "metadata": {},
   "outputs": [
    {
     "data": {
      "text/html": [
       "<div>\n",
       "<style scoped>\n",
       "    .dataframe tbody tr th:only-of-type {\n",
       "        vertical-align: middle;\n",
       "    }\n",
       "\n",
       "    .dataframe tbody tr th {\n",
       "        vertical-align: top;\n",
       "    }\n",
       "\n",
       "    .dataframe thead th {\n",
       "        text-align: right;\n",
       "    }\n",
       "</style>\n",
       "<table border=\"1\" class=\"dataframe\">\n",
       "  <thead>\n",
       "    <tr style=\"text-align: right;\">\n",
       "      <th></th>\n",
       "      <th>ID</th>\n",
       "      <th>Name</th>\n",
       "      <th>Date</th>\n",
       "      <th>Time</th>\n",
       "      <th>Event</th>\n",
       "      <th>Status</th>\n",
       "      <th>Latitude</th>\n",
       "      <th>Longitude</th>\n",
       "      <th>Maximum Wind</th>\n",
       "      <th>Minimum Pressure</th>\n",
       "      <th>...</th>\n",
       "      <th>Low Wind SW</th>\n",
       "      <th>Low Wind NW</th>\n",
       "      <th>Moderate Wind NE</th>\n",
       "      <th>Moderate Wind SE</th>\n",
       "      <th>Moderate Wind SW</th>\n",
       "      <th>Moderate Wind NW</th>\n",
       "      <th>High Wind NE</th>\n",
       "      <th>High Wind SE</th>\n",
       "      <th>High Wind SW</th>\n",
       "      <th>High Wind NW</th>\n",
       "    </tr>\n",
       "  </thead>\n",
       "  <tbody>\n",
       "    <tr>\n",
       "      <th>0</th>\n",
       "      <td>AL011851</td>\n",
       "      <td>UNNAMED</td>\n",
       "      <td>18510625</td>\n",
       "      <td>0</td>\n",
       "      <td></td>\n",
       "      <td>HU</td>\n",
       "      <td>28.0N</td>\n",
       "      <td>94.8W</td>\n",
       "      <td>80</td>\n",
       "      <td>-999</td>\n",
       "      <td>...</td>\n",
       "      <td>-999</td>\n",
       "      <td>-999</td>\n",
       "      <td>-999</td>\n",
       "      <td>-999</td>\n",
       "      <td>-999</td>\n",
       "      <td>-999</td>\n",
       "      <td>-999</td>\n",
       "      <td>-999</td>\n",
       "      <td>-999</td>\n",
       "      <td>-999</td>\n",
       "    </tr>\n",
       "    <tr>\n",
       "      <th>1</th>\n",
       "      <td>AL011851</td>\n",
       "      <td>UNNAMED</td>\n",
       "      <td>18510625</td>\n",
       "      <td>600</td>\n",
       "      <td></td>\n",
       "      <td>HU</td>\n",
       "      <td>28.0N</td>\n",
       "      <td>95.4W</td>\n",
       "      <td>80</td>\n",
       "      <td>-999</td>\n",
       "      <td>...</td>\n",
       "      <td>-999</td>\n",
       "      <td>-999</td>\n",
       "      <td>-999</td>\n",
       "      <td>-999</td>\n",
       "      <td>-999</td>\n",
       "      <td>-999</td>\n",
       "      <td>-999</td>\n",
       "      <td>-999</td>\n",
       "      <td>-999</td>\n",
       "      <td>-999</td>\n",
       "    </tr>\n",
       "    <tr>\n",
       "      <th>2</th>\n",
       "      <td>AL011851</td>\n",
       "      <td>UNNAMED</td>\n",
       "      <td>18510625</td>\n",
       "      <td>1200</td>\n",
       "      <td></td>\n",
       "      <td>HU</td>\n",
       "      <td>28.0N</td>\n",
       "      <td>96.0W</td>\n",
       "      <td>80</td>\n",
       "      <td>-999</td>\n",
       "      <td>...</td>\n",
       "      <td>-999</td>\n",
       "      <td>-999</td>\n",
       "      <td>-999</td>\n",
       "      <td>-999</td>\n",
       "      <td>-999</td>\n",
       "      <td>-999</td>\n",
       "      <td>-999</td>\n",
       "      <td>-999</td>\n",
       "      <td>-999</td>\n",
       "      <td>-999</td>\n",
       "    </tr>\n",
       "    <tr>\n",
       "      <th>3</th>\n",
       "      <td>AL011851</td>\n",
       "      <td>UNNAMED</td>\n",
       "      <td>18510625</td>\n",
       "      <td>1800</td>\n",
       "      <td></td>\n",
       "      <td>HU</td>\n",
       "      <td>28.1N</td>\n",
       "      <td>96.5W</td>\n",
       "      <td>80</td>\n",
       "      <td>-999</td>\n",
       "      <td>...</td>\n",
       "      <td>-999</td>\n",
       "      <td>-999</td>\n",
       "      <td>-999</td>\n",
       "      <td>-999</td>\n",
       "      <td>-999</td>\n",
       "      <td>-999</td>\n",
       "      <td>-999</td>\n",
       "      <td>-999</td>\n",
       "      <td>-999</td>\n",
       "      <td>-999</td>\n",
       "    </tr>\n",
       "    <tr>\n",
       "      <th>4</th>\n",
       "      <td>AL011851</td>\n",
       "      <td>UNNAMED</td>\n",
       "      <td>18510625</td>\n",
       "      <td>2100</td>\n",
       "      <td>L</td>\n",
       "      <td>HU</td>\n",
       "      <td>28.2N</td>\n",
       "      <td>96.8W</td>\n",
       "      <td>80</td>\n",
       "      <td>-999</td>\n",
       "      <td>...</td>\n",
       "      <td>-999</td>\n",
       "      <td>-999</td>\n",
       "      <td>-999</td>\n",
       "      <td>-999</td>\n",
       "      <td>-999</td>\n",
       "      <td>-999</td>\n",
       "      <td>-999</td>\n",
       "      <td>-999</td>\n",
       "      <td>-999</td>\n",
       "      <td>-999</td>\n",
       "    </tr>\n",
       "    <tr>\n",
       "      <th>...</th>\n",
       "      <td>...</td>\n",
       "      <td>...</td>\n",
       "      <td>...</td>\n",
       "      <td>...</td>\n",
       "      <td>...</td>\n",
       "      <td>...</td>\n",
       "      <td>...</td>\n",
       "      <td>...</td>\n",
       "      <td>...</td>\n",
       "      <td>...</td>\n",
       "      <td>...</td>\n",
       "      <td>...</td>\n",
       "      <td>...</td>\n",
       "      <td>...</td>\n",
       "      <td>...</td>\n",
       "      <td>...</td>\n",
       "      <td>...</td>\n",
       "      <td>...</td>\n",
       "      <td>...</td>\n",
       "      <td>...</td>\n",
       "      <td>...</td>\n",
       "    </tr>\n",
       "    <tr>\n",
       "      <th>49100</th>\n",
       "      <td>AL122015</td>\n",
       "      <td>KATE</td>\n",
       "      <td>20151112</td>\n",
       "      <td>1200</td>\n",
       "      <td></td>\n",
       "      <td>EX</td>\n",
       "      <td>41.3N</td>\n",
       "      <td>50.4W</td>\n",
       "      <td>55</td>\n",
       "      <td>981</td>\n",
       "      <td>...</td>\n",
       "      <td>180</td>\n",
       "      <td>120</td>\n",
       "      <td>120</td>\n",
       "      <td>120</td>\n",
       "      <td>60</td>\n",
       "      <td>0</td>\n",
       "      <td>0</td>\n",
       "      <td>0</td>\n",
       "      <td>0</td>\n",
       "      <td>0</td>\n",
       "    </tr>\n",
       "    <tr>\n",
       "      <th>49101</th>\n",
       "      <td>AL122015</td>\n",
       "      <td>KATE</td>\n",
       "      <td>20151112</td>\n",
       "      <td>1800</td>\n",
       "      <td></td>\n",
       "      <td>EX</td>\n",
       "      <td>41.9N</td>\n",
       "      <td>49.9W</td>\n",
       "      <td>55</td>\n",
       "      <td>983</td>\n",
       "      <td>...</td>\n",
       "      <td>180</td>\n",
       "      <td>120</td>\n",
       "      <td>120</td>\n",
       "      <td>120</td>\n",
       "      <td>60</td>\n",
       "      <td>0</td>\n",
       "      <td>0</td>\n",
       "      <td>0</td>\n",
       "      <td>0</td>\n",
       "      <td>0</td>\n",
       "    </tr>\n",
       "    <tr>\n",
       "      <th>49102</th>\n",
       "      <td>AL122015</td>\n",
       "      <td>KATE</td>\n",
       "      <td>20151113</td>\n",
       "      <td>0</td>\n",
       "      <td></td>\n",
       "      <td>EX</td>\n",
       "      <td>41.5N</td>\n",
       "      <td>49.2W</td>\n",
       "      <td>50</td>\n",
       "      <td>985</td>\n",
       "      <td>...</td>\n",
       "      <td>200</td>\n",
       "      <td>220</td>\n",
       "      <td>120</td>\n",
       "      <td>120</td>\n",
       "      <td>60</td>\n",
       "      <td>0</td>\n",
       "      <td>0</td>\n",
       "      <td>0</td>\n",
       "      <td>0</td>\n",
       "      <td>0</td>\n",
       "    </tr>\n",
       "    <tr>\n",
       "      <th>49103</th>\n",
       "      <td>AL122015</td>\n",
       "      <td>KATE</td>\n",
       "      <td>20151113</td>\n",
       "      <td>600</td>\n",
       "      <td></td>\n",
       "      <td>EX</td>\n",
       "      <td>40.8N</td>\n",
       "      <td>47.5W</td>\n",
       "      <td>45</td>\n",
       "      <td>985</td>\n",
       "      <td>...</td>\n",
       "      <td>180</td>\n",
       "      <td>220</td>\n",
       "      <td>0</td>\n",
       "      <td>0</td>\n",
       "      <td>0</td>\n",
       "      <td>0</td>\n",
       "      <td>0</td>\n",
       "      <td>0</td>\n",
       "      <td>0</td>\n",
       "      <td>0</td>\n",
       "    </tr>\n",
       "    <tr>\n",
       "      <th>49104</th>\n",
       "      <td>AL122015</td>\n",
       "      <td>KATE</td>\n",
       "      <td>20151113</td>\n",
       "      <td>1200</td>\n",
       "      <td></td>\n",
       "      <td>EX</td>\n",
       "      <td>40.7N</td>\n",
       "      <td>45.4W</td>\n",
       "      <td>45</td>\n",
       "      <td>987</td>\n",
       "      <td>...</td>\n",
       "      <td>150</td>\n",
       "      <td>220</td>\n",
       "      <td>0</td>\n",
       "      <td>0</td>\n",
       "      <td>0</td>\n",
       "      <td>0</td>\n",
       "      <td>0</td>\n",
       "      <td>0</td>\n",
       "      <td>0</td>\n",
       "      <td>0</td>\n",
       "    </tr>\n",
       "  </tbody>\n",
       "</table>\n",
       "<p>49105 rows × 22 columns</p>\n",
       "</div>"
      ],
      "text/plain": [
       "             ID                 Name      Date  Time Event Status Latitude  \\\n",
       "0      AL011851              UNNAMED  18510625     0           HU    28.0N   \n",
       "1      AL011851              UNNAMED  18510625   600           HU    28.0N   \n",
       "2      AL011851              UNNAMED  18510625  1200           HU    28.0N   \n",
       "3      AL011851              UNNAMED  18510625  1800           HU    28.1N   \n",
       "4      AL011851              UNNAMED  18510625  2100     L     HU    28.2N   \n",
       "...         ...                  ...       ...   ...   ...    ...      ...   \n",
       "49100  AL122015                 KATE  20151112  1200           EX    41.3N   \n",
       "49101  AL122015                 KATE  20151112  1800           EX    41.9N   \n",
       "49102  AL122015                 KATE  20151113     0           EX    41.5N   \n",
       "49103  AL122015                 KATE  20151113   600           EX    40.8N   \n",
       "49104  AL122015                 KATE  20151113  1200           EX    40.7N   \n",
       "\n",
       "      Longitude  Maximum Wind  Minimum Pressure  ...  Low Wind SW  \\\n",
       "0         94.8W            80              -999  ...         -999   \n",
       "1         95.4W            80              -999  ...         -999   \n",
       "2         96.0W            80              -999  ...         -999   \n",
       "3         96.5W            80              -999  ...         -999   \n",
       "4         96.8W            80              -999  ...         -999   \n",
       "...         ...           ...               ...  ...          ...   \n",
       "49100     50.4W            55               981  ...          180   \n",
       "49101     49.9W            55               983  ...          180   \n",
       "49102     49.2W            50               985  ...          200   \n",
       "49103     47.5W            45               985  ...          180   \n",
       "49104     45.4W            45               987  ...          150   \n",
       "\n",
       "       Low Wind NW  Moderate Wind NE  Moderate Wind SE  Moderate Wind SW  \\\n",
       "0             -999              -999              -999              -999   \n",
       "1             -999              -999              -999              -999   \n",
       "2             -999              -999              -999              -999   \n",
       "3             -999              -999              -999              -999   \n",
       "4             -999              -999              -999              -999   \n",
       "...            ...               ...               ...               ...   \n",
       "49100          120               120               120                60   \n",
       "49101          120               120               120                60   \n",
       "49102          220               120               120                60   \n",
       "49103          220                 0                 0                 0   \n",
       "49104          220                 0                 0                 0   \n",
       "\n",
       "       Moderate Wind NW  High Wind NE  High Wind SE  High Wind SW  \\\n",
       "0                  -999          -999          -999          -999   \n",
       "1                  -999          -999          -999          -999   \n",
       "2                  -999          -999          -999          -999   \n",
       "3                  -999          -999          -999          -999   \n",
       "4                  -999          -999          -999          -999   \n",
       "...                 ...           ...           ...           ...   \n",
       "49100                 0             0             0             0   \n",
       "49101                 0             0             0             0   \n",
       "49102                 0             0             0             0   \n",
       "49103                 0             0             0             0   \n",
       "49104                 0             0             0             0   \n",
       "\n",
       "       High Wind NW  \n",
       "0              -999  \n",
       "1              -999  \n",
       "2              -999  \n",
       "3              -999  \n",
       "4              -999  \n",
       "...             ...  \n",
       "49100             0  \n",
       "49101             0  \n",
       "49102             0  \n",
       "49103             0  \n",
       "49104             0  \n",
       "\n",
       "[49105 rows x 22 columns]"
      ]
     },
     "execution_count": 3,
     "metadata": {},
     "output_type": "execute_result"
    }
   ],
   "source": [
    "#display first 5 rows and last 5 rows of the dataset\n",
    "data"
   ]
  },
  {
   "cell_type": "code",
   "execution_count": 4,
   "metadata": {},
   "outputs": [
    {
     "data": {
      "text/plain": [
       "(49105, 22)"
      ]
     },
     "execution_count": 4,
     "metadata": {},
     "output_type": "execute_result"
    }
   ],
   "source": [
    "#check the data shape & temporal length\n",
    "data.shape"
   ]
  },
  {
   "cell_type": "markdown",
   "metadata": {},
   "source": [
    "The dataset is composed by 49105 rows (records) and 22 columns (attributes)."
   ]
  },
  {
   "cell_type": "code",
   "execution_count": 5,
   "metadata": {},
   "outputs": [
    {
     "name": "stdout",
     "output_type": "stream",
     "text": [
      "<class 'pandas.core.frame.DataFrame'>\n",
      "RangeIndex: 49105 entries, 0 to 49104\n",
      "Data columns (total 22 columns):\n",
      " #   Column            Non-Null Count  Dtype \n",
      "---  ------            --------------  ----- \n",
      " 0   ID                49105 non-null  object\n",
      " 1   Name              49105 non-null  object\n",
      " 2   Date              49105 non-null  int64 \n",
      " 3   Time              49105 non-null  int64 \n",
      " 4   Event             49105 non-null  object\n",
      " 5   Status            49105 non-null  object\n",
      " 6   Latitude          49105 non-null  object\n",
      " 7   Longitude         49105 non-null  object\n",
      " 8   Maximum Wind      49105 non-null  int64 \n",
      " 9   Minimum Pressure  49105 non-null  int64 \n",
      " 10  Low Wind NE       49105 non-null  int64 \n",
      " 11  Low Wind SE       49105 non-null  int64 \n",
      " 12  Low Wind SW       49105 non-null  int64 \n",
      " 13  Low Wind NW       49105 non-null  int64 \n",
      " 14  Moderate Wind NE  49105 non-null  int64 \n",
      " 15  Moderate Wind SE  49105 non-null  int64 \n",
      " 16  Moderate Wind SW  49105 non-null  int64 \n",
      " 17  Moderate Wind NW  49105 non-null  int64 \n",
      " 18  High Wind NE      49105 non-null  int64 \n",
      " 19  High Wind SE      49105 non-null  int64 \n",
      " 20  High Wind SW      49105 non-null  int64 \n",
      " 21  High Wind NW      49105 non-null  int64 \n",
      "dtypes: int64(16), object(6)\n",
      "memory usage: 8.2+ MB\n"
     ]
    }
   ],
   "source": [
    "#check all data types of the dataset & its info\n",
    "data.info()"
   ]
  },
  {
   "cell_type": "markdown",
   "metadata": {},
   "source": [
    "With a very general notion of the data structure and types, it is time to start with the cleaning in order to be able to carry out the EDA and the subsequent predictive analysis. At first, duplicate and null values must be erased. Secondly, a reestructuration of the fields will be carred out (formatting, data types & structure). "
   ]
  },
  {
   "cell_type": "code",
   "execution_count": 6,
   "metadata": {},
   "outputs": [
    {
     "name": "stdout",
     "output_type": "stream",
     "text": [
      "Duplicate rows :  (0, 22)\n"
     ]
    }
   ],
   "source": [
    "# Checking and eliminating duplicate values\n",
    "duplicate_rows = data[data.duplicated()]\n",
    "print(\"Duplicate rows : \", duplicate_rows.shape)"
   ]
  },
  {
   "cell_type": "markdown",
   "metadata": {},
   "source": [
    "As shown in this previous output, there are no duplicate rows in our dataset (0 refers to rows and 22 refers to the number of attributes int the dataset). Subsequently, missing values will be checked and dropped."
   ]
  },
  {
   "cell_type": "code",
   "execution_count": 7,
   "metadata": {},
   "outputs": [
    {
     "name": "stdout",
     "output_type": "stream",
     "text": [
      "ID                  0\n",
      "Name                0\n",
      "Date                0\n",
      "Time                0\n",
      "Event               0\n",
      "Status              0\n",
      "Latitude            0\n",
      "Longitude           0\n",
      "Maximum Wind        0\n",
      "Minimum Pressure    0\n",
      "Low Wind NE         0\n",
      "Low Wind SE         0\n",
      "Low Wind SW         0\n",
      "Low Wind NW         0\n",
      "Moderate Wind NE    0\n",
      "Moderate Wind SE    0\n",
      "Moderate Wind SW    0\n",
      "Moderate Wind NW    0\n",
      "High Wind NE        0\n",
      "High Wind SE        0\n",
      "High Wind SW        0\n",
      "High Wind NW        0\n",
      "dtype: int64\n"
     ]
    }
   ],
   "source": [
    "#Checking and dropping missing values\n",
    "print(data.isnull().sum())"
   ]
  },
  {
   "cell_type": "markdown",
   "metadata": {},
   "source": [
    "As also shown in this previous output, there are no null values on any of the dataset columns and records.\n"
   ]
  },
  {
   "cell_type": "markdown",
   "metadata": {},
   "source": [
    "\n",
    "To continue with the data initial analysis, it is time to detect outliers in the data and delete its anomalies. Obviously, the outliers are only present in the continuous variables of the dataset. For this case, the main outliers to be detected will be in Longitude, Latitude, Max.Wind and Min.Pressure. Additionally, these must be reformatted: time and date (creating a timestamp column), lat and long will be normalized (only numerical and without the letter), and the rest of the wind values (low, moderate and high) will also be accordingly formatted."
   ]
  },
  {
   "cell_type": "markdown",
   "metadata": {},
   "source": [
    "#### Latitude and Longitude \n",
    "For these two attributes, first we must format the data as fully numerical, by taking out the N/S/E/W and adding a plus or a minus instead depending on its geographical location. Once this is done (new fields as normalized lat and normalized long), the outliers analysis can be carried out."
   ]
  },
  {
   "cell_type": "code",
   "execution_count": 8,
   "metadata": {},
   "outputs": [],
   "source": [
    "#Fixing latitude and longitude in order to be mapped\n",
    "\n",
    "#arrays to store the mapping lat and long values which will be added to the dataset\n",
    "map_long = []\n",
    "map_lat = []\n",
    "\n",
    "for i in data['Latitude']:\n",
    "    if i.endswith('N'):\n",
    "        new_lat_n = i.replace('N', '')\n",
    "        lat_float_n = float(new_lat_n)\n",
    "        map_lat.append(lat_float_n)\n",
    "    else:\n",
    "        #for the Southern hemisphere (which must be negative)\n",
    "        new_lat_s = i.replace('S', '')\n",
    "        lat_float_s = float(new_lat)\n",
    "        lat_south = lat_float_s * -1 \n",
    "        map_lat.append(lat_south)\n",
    "        \n",
    "\n",
    "#same procedure but for longitude\n",
    "for i in data['Longitude']:\n",
    "    if i.endswith('E'): #East is positive\n",
    "        new_lon_e = i.replace('E', '')\n",
    "        lon_float_e = float(new_lon_e)\n",
    "        map_long.append(lon_float_e)\n",
    "    else:\n",
    "        #for the Western hemisphere (which must be negative)\n",
    "        new_lon_w = i.replace('W', '')\n",
    "        lon_float_w = float(new_lon_w)\n",
    "        lat_west = lon_float_w * -1 \n",
    "        map_long.append(lat_west)"
   ]
  },
  {
   "cell_type": "code",
   "execution_count": 9,
   "metadata": {},
   "outputs": [],
   "source": [
    "#at the same time, the previous lat long attributes can be deleted\n",
    "del data['Latitude']\n",
    "del data['Longitude']\n",
    "\n",
    "#We must append the two processed arrays to the Atlantic dataset\n",
    "data['Lat'] = map_lat\n",
    "data['Lon'] = map_long"
   ]
  },
  {
   "cell_type": "code",
   "execution_count": 10,
   "metadata": {},
   "outputs": [
    {
     "data": {
      "text/html": [
       "<div>\n",
       "<style scoped>\n",
       "    .dataframe tbody tr th:only-of-type {\n",
       "        vertical-align: middle;\n",
       "    }\n",
       "\n",
       "    .dataframe tbody tr th {\n",
       "        vertical-align: top;\n",
       "    }\n",
       "\n",
       "    .dataframe thead th {\n",
       "        text-align: right;\n",
       "    }\n",
       "</style>\n",
       "<table border=\"1\" class=\"dataframe\">\n",
       "  <thead>\n",
       "    <tr style=\"text-align: right;\">\n",
       "      <th></th>\n",
       "      <th>ID</th>\n",
       "      <th>Name</th>\n",
       "      <th>Date</th>\n",
       "      <th>Time</th>\n",
       "      <th>Event</th>\n",
       "      <th>Status</th>\n",
       "      <th>Maximum Wind</th>\n",
       "      <th>Minimum Pressure</th>\n",
       "      <th>Low Wind NE</th>\n",
       "      <th>Low Wind SE</th>\n",
       "      <th>...</th>\n",
       "      <th>Moderate Wind NE</th>\n",
       "      <th>Moderate Wind SE</th>\n",
       "      <th>Moderate Wind SW</th>\n",
       "      <th>Moderate Wind NW</th>\n",
       "      <th>High Wind NE</th>\n",
       "      <th>High Wind SE</th>\n",
       "      <th>High Wind SW</th>\n",
       "      <th>High Wind NW</th>\n",
       "      <th>Lat</th>\n",
       "      <th>Lon</th>\n",
       "    </tr>\n",
       "  </thead>\n",
       "  <tbody>\n",
       "    <tr>\n",
       "      <th>0</th>\n",
       "      <td>AL011851</td>\n",
       "      <td>UNNAMED</td>\n",
       "      <td>18510625</td>\n",
       "      <td>0</td>\n",
       "      <td></td>\n",
       "      <td>HU</td>\n",
       "      <td>80</td>\n",
       "      <td>-999</td>\n",
       "      <td>-999</td>\n",
       "      <td>-999</td>\n",
       "      <td>...</td>\n",
       "      <td>-999</td>\n",
       "      <td>-999</td>\n",
       "      <td>-999</td>\n",
       "      <td>-999</td>\n",
       "      <td>-999</td>\n",
       "      <td>-999</td>\n",
       "      <td>-999</td>\n",
       "      <td>-999</td>\n",
       "      <td>28.0</td>\n",
       "      <td>-94.8</td>\n",
       "    </tr>\n",
       "    <tr>\n",
       "      <th>1</th>\n",
       "      <td>AL011851</td>\n",
       "      <td>UNNAMED</td>\n",
       "      <td>18510625</td>\n",
       "      <td>600</td>\n",
       "      <td></td>\n",
       "      <td>HU</td>\n",
       "      <td>80</td>\n",
       "      <td>-999</td>\n",
       "      <td>-999</td>\n",
       "      <td>-999</td>\n",
       "      <td>...</td>\n",
       "      <td>-999</td>\n",
       "      <td>-999</td>\n",
       "      <td>-999</td>\n",
       "      <td>-999</td>\n",
       "      <td>-999</td>\n",
       "      <td>-999</td>\n",
       "      <td>-999</td>\n",
       "      <td>-999</td>\n",
       "      <td>28.0</td>\n",
       "      <td>-95.4</td>\n",
       "    </tr>\n",
       "    <tr>\n",
       "      <th>2</th>\n",
       "      <td>AL011851</td>\n",
       "      <td>UNNAMED</td>\n",
       "      <td>18510625</td>\n",
       "      <td>1200</td>\n",
       "      <td></td>\n",
       "      <td>HU</td>\n",
       "      <td>80</td>\n",
       "      <td>-999</td>\n",
       "      <td>-999</td>\n",
       "      <td>-999</td>\n",
       "      <td>...</td>\n",
       "      <td>-999</td>\n",
       "      <td>-999</td>\n",
       "      <td>-999</td>\n",
       "      <td>-999</td>\n",
       "      <td>-999</td>\n",
       "      <td>-999</td>\n",
       "      <td>-999</td>\n",
       "      <td>-999</td>\n",
       "      <td>28.0</td>\n",
       "      <td>-96.0</td>\n",
       "    </tr>\n",
       "    <tr>\n",
       "      <th>3</th>\n",
       "      <td>AL011851</td>\n",
       "      <td>UNNAMED</td>\n",
       "      <td>18510625</td>\n",
       "      <td>1800</td>\n",
       "      <td></td>\n",
       "      <td>HU</td>\n",
       "      <td>80</td>\n",
       "      <td>-999</td>\n",
       "      <td>-999</td>\n",
       "      <td>-999</td>\n",
       "      <td>...</td>\n",
       "      <td>-999</td>\n",
       "      <td>-999</td>\n",
       "      <td>-999</td>\n",
       "      <td>-999</td>\n",
       "      <td>-999</td>\n",
       "      <td>-999</td>\n",
       "      <td>-999</td>\n",
       "      <td>-999</td>\n",
       "      <td>28.1</td>\n",
       "      <td>-96.5</td>\n",
       "    </tr>\n",
       "    <tr>\n",
       "      <th>4</th>\n",
       "      <td>AL011851</td>\n",
       "      <td>UNNAMED</td>\n",
       "      <td>18510625</td>\n",
       "      <td>2100</td>\n",
       "      <td>L</td>\n",
       "      <td>HU</td>\n",
       "      <td>80</td>\n",
       "      <td>-999</td>\n",
       "      <td>-999</td>\n",
       "      <td>-999</td>\n",
       "      <td>...</td>\n",
       "      <td>-999</td>\n",
       "      <td>-999</td>\n",
       "      <td>-999</td>\n",
       "      <td>-999</td>\n",
       "      <td>-999</td>\n",
       "      <td>-999</td>\n",
       "      <td>-999</td>\n",
       "      <td>-999</td>\n",
       "      <td>28.2</td>\n",
       "      <td>-96.8</td>\n",
       "    </tr>\n",
       "  </tbody>\n",
       "</table>\n",
       "<p>5 rows × 22 columns</p>\n",
       "</div>"
      ],
      "text/plain": [
       "         ID                 Name      Date  Time Event Status  Maximum Wind  \\\n",
       "0  AL011851              UNNAMED  18510625     0           HU            80   \n",
       "1  AL011851              UNNAMED  18510625   600           HU            80   \n",
       "2  AL011851              UNNAMED  18510625  1200           HU            80   \n",
       "3  AL011851              UNNAMED  18510625  1800           HU            80   \n",
       "4  AL011851              UNNAMED  18510625  2100     L     HU            80   \n",
       "\n",
       "   Minimum Pressure  Low Wind NE  Low Wind SE  ...  Moderate Wind NE  \\\n",
       "0              -999         -999         -999  ...              -999   \n",
       "1              -999         -999         -999  ...              -999   \n",
       "2              -999         -999         -999  ...              -999   \n",
       "3              -999         -999         -999  ...              -999   \n",
       "4              -999         -999         -999  ...              -999   \n",
       "\n",
       "   Moderate Wind SE  Moderate Wind SW  Moderate Wind NW  High Wind NE  \\\n",
       "0              -999              -999              -999          -999   \n",
       "1              -999              -999              -999          -999   \n",
       "2              -999              -999              -999          -999   \n",
       "3              -999              -999              -999          -999   \n",
       "4              -999              -999              -999          -999   \n",
       "\n",
       "   High Wind SE  High Wind SW  High Wind NW   Lat   Lon  \n",
       "0          -999          -999          -999  28.0 -94.8  \n",
       "1          -999          -999          -999  28.0 -95.4  \n",
       "2          -999          -999          -999  28.0 -96.0  \n",
       "3          -999          -999          -999  28.1 -96.5  \n",
       "4          -999          -999          -999  28.2 -96.8  \n",
       "\n",
       "[5 rows x 22 columns]"
      ]
     },
     "execution_count": 10,
     "metadata": {},
     "output_type": "execute_result"
    }
   ],
   "source": [
    "data.head(5)"
   ]
  },
  {
   "cell_type": "code",
   "execution_count": 11,
   "metadata": {},
   "outputs": [
    {
     "name": "stdout",
     "output_type": "stream",
     "text": [
      "Latitude max. value:  81.0\n",
      "Latitude min. value:  7.2\n"
     ]
    },
    {
     "data": {
      "image/png": "[encoded data removed]",
      "text/plain": [
       "<Figure size 432x288 with 1 Axes>"
      ]
     },
     "metadata": {
      "needs_background": "light"
     },
     "output_type": "display_data"
    }
   ],
   "source": [
    "#Latitude outliers\n",
    "lat_column = data['Lat']\n",
    "sns.boxplot(x=lat_column)\n",
    "print('Latitude max. value: ', lat_column.max())\n",
    "print('Latitude min. value: ', lat_column.min())"
   ]
  },
  {
   "cell_type": "markdown",
   "metadata": {},
   "source": [
    "As the latitude results show above, there are no anomal outliers on this attribute."
   ]
  },
  {
   "cell_type": "code",
   "execution_count": 12,
   "metadata": {},
   "outputs": [
    {
     "name": "stdout",
     "output_type": "stream",
     "text": [
      "Longitude max. value:  63.0\n",
      "Longitude min. value:  -359.1\n"
     ]
    },
    {
     "data": {
      "image/png": "[encoded data removed]",
      "text/plain": [
       "<Figure size 432x288 with 1 Axes>"
      ]
     },
     "metadata": {
      "needs_background": "light"
     },
     "output_type": "display_data"
    }
   ],
   "source": [
    "#Longitude outliers\n",
    "long_column = data['Lon']\n",
    "sns.boxplot(x= long_column)\n",
    "print('Longitude max. value: ', long_column.max())\n",
    "print('Longitude min. value: ', long_column.min())"
   ]
  },
  {
   "cell_type": "markdown",
   "metadata": {},
   "source": [
    "As the longitude boxplot shows, there are a few points that are over -300. These are indeed anomal longitude values which have to be deleted from the dataset."
   ]
  },
  {
   "cell_type": "code",
   "execution_count": 13,
   "metadata": {},
   "outputs": [
    {
     "data": {
      "text/html": [
       "<div>\n",
       "<style scoped>\n",
       "    .dataframe tbody tr th:only-of-type {\n",
       "        vertical-align: middle;\n",
       "    }\n",
       "\n",
       "    .dataframe tbody tr th {\n",
       "        vertical-align: top;\n",
       "    }\n",
       "\n",
       "    .dataframe thead th {\n",
       "        text-align: right;\n",
       "    }\n",
       "</style>\n",
       "<table border=\"1\" class=\"dataframe\">\n",
       "  <thead>\n",
       "    <tr style=\"text-align: right;\">\n",
       "      <th></th>\n",
       "      <th>ID</th>\n",
       "      <th>Name</th>\n",
       "      <th>Date</th>\n",
       "      <th>Time</th>\n",
       "      <th>Event</th>\n",
       "      <th>Status</th>\n",
       "      <th>Maximum Wind</th>\n",
       "      <th>Minimum Pressure</th>\n",
       "      <th>Low Wind NE</th>\n",
       "      <th>Low Wind SE</th>\n",
       "      <th>...</th>\n",
       "      <th>Moderate Wind NE</th>\n",
       "      <th>Moderate Wind SE</th>\n",
       "      <th>Moderate Wind SW</th>\n",
       "      <th>Moderate Wind NW</th>\n",
       "      <th>High Wind NE</th>\n",
       "      <th>High Wind SE</th>\n",
       "      <th>High Wind SW</th>\n",
       "      <th>High Wind NW</th>\n",
       "      <th>Lat</th>\n",
       "      <th>Lon</th>\n",
       "    </tr>\n",
       "  </thead>\n",
       "  <tbody>\n",
       "    <tr>\n",
       "      <th>22984</th>\n",
       "      <td>AL051952</td>\n",
       "      <td>UNNAMED</td>\n",
       "      <td>19520914</td>\n",
       "      <td>600</td>\n",
       "      <td></td>\n",
       "      <td>EX</td>\n",
       "      <td>35</td>\n",
       "      <td>-999</td>\n",
       "      <td>-999</td>\n",
       "      <td>-999</td>\n",
       "      <td>...</td>\n",
       "      <td>-999</td>\n",
       "      <td>-999</td>\n",
       "      <td>-999</td>\n",
       "      <td>-999</td>\n",
       "      <td>-999</td>\n",
       "      <td>-999</td>\n",
       "      <td>-999</td>\n",
       "      <td>-999</td>\n",
       "      <td>43.2</td>\n",
       "      <td>-359.1</td>\n",
       "    </tr>\n",
       "    <tr>\n",
       "      <th>22985</th>\n",
       "      <td>AL051952</td>\n",
       "      <td>UNNAMED</td>\n",
       "      <td>19520914</td>\n",
       "      <td>1200</td>\n",
       "      <td></td>\n",
       "      <td>EX</td>\n",
       "      <td>35</td>\n",
       "      <td>-999</td>\n",
       "      <td>-999</td>\n",
       "      <td>-999</td>\n",
       "      <td>...</td>\n",
       "      <td>-999</td>\n",
       "      <td>-999</td>\n",
       "      <td>-999</td>\n",
       "      <td>-999</td>\n",
       "      <td>-999</td>\n",
       "      <td>-999</td>\n",
       "      <td>-999</td>\n",
       "      <td>-999</td>\n",
       "      <td>44.0</td>\n",
       "      <td>-358.4</td>\n",
       "    </tr>\n",
       "  </tbody>\n",
       "</table>\n",
       "<p>2 rows × 22 columns</p>\n",
       "</div>"
      ],
      "text/plain": [
       "             ID                 Name      Date  Time Event Status  \\\n",
       "22984  AL051952              UNNAMED  19520914   600           EX   \n",
       "22985  AL051952              UNNAMED  19520914  1200           EX   \n",
       "\n",
       "       Maximum Wind  Minimum Pressure  Low Wind NE  Low Wind SE  ...  \\\n",
       "22984            35              -999         -999         -999  ...   \n",
       "22985            35              -999         -999         -999  ...   \n",
       "\n",
       "       Moderate Wind NE  Moderate Wind SE  Moderate Wind SW  Moderate Wind NW  \\\n",
       "22984              -999              -999              -999              -999   \n",
       "22985              -999              -999              -999              -999   \n",
       "\n",
       "       High Wind NE  High Wind SE  High Wind SW  High Wind NW   Lat    Lon  \n",
       "22984          -999          -999          -999          -999  43.2 -359.1  \n",
       "22985          -999          -999          -999          -999  44.0 -358.4  \n",
       "\n",
       "[2 rows x 22 columns]"
      ]
     },
     "execution_count": 13,
     "metadata": {},
     "output_type": "execute_result"
    }
   ],
   "source": [
    "#Longitude anomal outliers\n",
    "#Longitude values which are smaller than -300 as shown in the boxplot, are clear error values\n",
    "anomal_long = data[(data['Lon'] < - 300)]\n",
    "anomal_long"
   ]
  },
  {
   "cell_type": "code",
   "execution_count": 14,
   "metadata": {},
   "outputs": [
    {
     "data": {
      "text/plain": [
       "(49103, 22)"
      ]
     },
     "execution_count": 14,
     "metadata": {},
     "output_type": "execute_result"
    }
   ],
   "source": [
    "#removal of the two anomal records\n",
    "data = data[(data['Lon'] > - 300)]\n",
    "data.shape"
   ]
  },
  {
   "cell_type": "markdown",
   "metadata": {},
   "source": [
    "Finally, to conclude with the analysis and formatting of Latitude and Longitude, we must check the data on a map using the Geopandas library. For this, the KATE hurricane (as an example) will be selected (it would not make sense to display the whole dataset -> there would be too much data noise in the map)."
   ]
  },
  {
   "cell_type": "code",
   "execution_count": 15,
   "metadata": {},
   "outputs": [
    {
     "data": {
      "image/png": "[encoded data removed]",
      "text/plain": [
       "<Figure size 432x288 with 1 Axes>"
      ]
     },
     "metadata": {
      "needs_background": "light"
     },
     "output_type": "display_data"
    }
   ],
   "source": [
    "#creating geodataframe so data can be accordingly mapped\n",
    "#selecting a random hurricane -> Hurricane Kate for example (the one that happened in 1985 in Florida)\n",
    "kate = data[(data['Name'].str.contains(\"KATE\")) & (data['Date'] < 19860000) ]\n",
    "kate_gdf = gpd.GeoDataFrame(kate, geometry=gpd.points_from_xy(kate.Lon, kate.Lat))\n",
    "#setting a projection \n",
    "proj_data = kate_gdf.set_crs(epsg=4326)\n",
    "#adding a world basic basemap in the bounding box of the KATE hurricane\n",
    "world = gpd.read_file(gpd.datasets.get_path('naturalearth_lowres'))\n",
    "base = world.plot(color='brown', edgecolor='black')\n",
    "minx, miny, maxx, maxy = proj_data.total_bounds\n",
    "base.set_xlim(minx, maxx)\n",
    "base.set_ylim(miny, maxy)\n",
    "proj_data.plot(ax=base, marker='x', color='blue', markersize=25);"
   ]
  },
  {
   "cell_type": "markdown",
   "metadata": {},
   "source": [
    "This map does not have any purpose but verifying that the latitude and longitude fields have been accordingly cleaned, formatted and now are mappable. Therefore, as the map shows, the hurricane data is now well georeferrenced (hurricane Kate took place around Florida)."
   ]
  },
  {
   "cell_type": "markdown",
   "metadata": {},
   "source": [
    "#### Max.Wind and Min.Pressure "
   ]
  },
  {
   "cell_type": "markdown",
   "metadata": {},
   "source": [
    "According to the metadata of this dataset (the dataset description), the missing values for Minimum Pressure are marked with -999 and the missing values for Maximum wind as -99. Therefore, we first identify these rows. "
   ]
  },
  {
   "cell_type": "code",
   "execution_count": 16,
   "metadata": {},
   "outputs": [
    {
     "name": "stdout",
     "output_type": "stream",
     "text": [
      "Anomal Maximum Wind records:  (338, 22)\n",
      "Anomal Minimum Pressure records:  (30667, 22)\n"
     ]
    }
   ],
   "source": [
    "anomal_maxwind = data[(data['Maximum Wind'] == -99)]\n",
    "anomal_min_pressure = data[(data['Minimum Pressure'] == -999)]\n",
    "print('Anomal Maximum Wind records: ', anomal_maxwind.shape)\n",
    "print('Anomal Minimum Pressure records: ', anomal_min_pressure.shape)"
   ]
  },
  {
   "cell_type": "markdown",
   "metadata": {},
   "source": [
    "According to these results, the Minimum Pressure column has so many missing records. However, it is a very important parameter for the subsequent prediction. According to this, the missing values (-999) will be marked as NaN and therefore no records are deleted.\n",
    "Regarding the Maximum Wind, since there much less values missing, these will be replaced by the median values of the entire column. The median will be used since the wind is a countinuous phenomenon and its value should not be altered by any outlier."
   ]
  },
  {
   "cell_type": "code",
   "execution_count": 17,
   "metadata": {},
   "outputs": [
    {
     "data": {
      "text/html": [
       "<div>\n",
       "<style scoped>\n",
       "    .dataframe tbody tr th:only-of-type {\n",
       "        vertical-align: middle;\n",
       "    }\n",
       "\n",
       "    .dataframe tbody tr th {\n",
       "        vertical-align: top;\n",
       "    }\n",
       "\n",
       "    .dataframe thead th {\n",
       "        text-align: right;\n",
       "    }\n",
       "</style>\n",
       "<table border=\"1\" class=\"dataframe\">\n",
       "  <thead>\n",
       "    <tr style=\"text-align: right;\">\n",
       "      <th></th>\n",
       "      <th>ID</th>\n",
       "      <th>Name</th>\n",
       "      <th>Date</th>\n",
       "      <th>Time</th>\n",
       "      <th>Event</th>\n",
       "      <th>Status</th>\n",
       "      <th>Maximum Wind</th>\n",
       "      <th>Low Wind NE</th>\n",
       "      <th>Low Wind SE</th>\n",
       "      <th>Low Wind SW</th>\n",
       "      <th>...</th>\n",
       "      <th>Moderate Wind SE</th>\n",
       "      <th>Moderate Wind SW</th>\n",
       "      <th>Moderate Wind NW</th>\n",
       "      <th>High Wind NE</th>\n",
       "      <th>High Wind SE</th>\n",
       "      <th>High Wind SW</th>\n",
       "      <th>High Wind NW</th>\n",
       "      <th>Lat</th>\n",
       "      <th>Lon</th>\n",
       "      <th>Minimum Pressure</th>\n",
       "    </tr>\n",
       "  </thead>\n",
       "  <tbody>\n",
       "    <tr>\n",
       "      <th>0</th>\n",
       "      <td>AL011851</td>\n",
       "      <td>UNNAMED</td>\n",
       "      <td>18510625</td>\n",
       "      <td>0</td>\n",
       "      <td></td>\n",
       "      <td>HU</td>\n",
       "      <td>80</td>\n",
       "      <td>-999</td>\n",
       "      <td>-999</td>\n",
       "      <td>-999</td>\n",
       "      <td>...</td>\n",
       "      <td>-999</td>\n",
       "      <td>-999</td>\n",
       "      <td>-999</td>\n",
       "      <td>-999</td>\n",
       "      <td>-999</td>\n",
       "      <td>-999</td>\n",
       "      <td>-999</td>\n",
       "      <td>28.0</td>\n",
       "      <td>-94.8</td>\n",
       "      <td>NaN</td>\n",
       "    </tr>\n",
       "    <tr>\n",
       "      <th>1</th>\n",
       "      <td>AL011851</td>\n",
       "      <td>UNNAMED</td>\n",
       "      <td>18510625</td>\n",
       "      <td>600</td>\n",
       "      <td></td>\n",
       "      <td>HU</td>\n",
       "      <td>80</td>\n",
       "      <td>-999</td>\n",
       "      <td>-999</td>\n",
       "      <td>-999</td>\n",
       "      <td>...</td>\n",
       "      <td>-999</td>\n",
       "      <td>-999</td>\n",
       "      <td>-999</td>\n",
       "      <td>-999</td>\n",
       "      <td>-999</td>\n",
       "      <td>-999</td>\n",
       "      <td>-999</td>\n",
       "      <td>28.0</td>\n",
       "      <td>-95.4</td>\n",
       "      <td>NaN</td>\n",
       "    </tr>\n",
       "    <tr>\n",
       "      <th>2</th>\n",
       "      <td>AL011851</td>\n",
       "      <td>UNNAMED</td>\n",
       "      <td>18510625</td>\n",
       "      <td>1200</td>\n",
       "      <td></td>\n",
       "      <td>HU</td>\n",
       "      <td>80</td>\n",
       "      <td>-999</td>\n",
       "      <td>-999</td>\n",
       "      <td>-999</td>\n",
       "      <td>...</td>\n",
       "      <td>-999</td>\n",
       "      <td>-999</td>\n",
       "      <td>-999</td>\n",
       "      <td>-999</td>\n",
       "      <td>-999</td>\n",
       "      <td>-999</td>\n",
       "      <td>-999</td>\n",
       "      <td>28.0</td>\n",
       "      <td>-96.0</td>\n",
       "      <td>NaN</td>\n",
       "    </tr>\n",
       "    <tr>\n",
       "      <th>3</th>\n",
       "      <td>AL011851</td>\n",
       "      <td>UNNAMED</td>\n",
       "      <td>18510625</td>\n",
       "      <td>1800</td>\n",
       "      <td></td>\n",
       "      <td>HU</td>\n",
       "      <td>80</td>\n",
       "      <td>-999</td>\n",
       "      <td>-999</td>\n",
       "      <td>-999</td>\n",
       "      <td>...</td>\n",
       "      <td>-999</td>\n",
       "      <td>-999</td>\n",
       "      <td>-999</td>\n",
       "      <td>-999</td>\n",
       "      <td>-999</td>\n",
       "      <td>-999</td>\n",
       "      <td>-999</td>\n",
       "      <td>28.1</td>\n",
       "      <td>-96.5</td>\n",
       "      <td>NaN</td>\n",
       "    </tr>\n",
       "    <tr>\n",
       "      <th>4</th>\n",
       "      <td>AL011851</td>\n",
       "      <td>UNNAMED</td>\n",
       "      <td>18510625</td>\n",
       "      <td>2100</td>\n",
       "      <td>L</td>\n",
       "      <td>HU</td>\n",
       "      <td>80</td>\n",
       "      <td>-999</td>\n",
       "      <td>-999</td>\n",
       "      <td>-999</td>\n",
       "      <td>...</td>\n",
       "      <td>-999</td>\n",
       "      <td>-999</td>\n",
       "      <td>-999</td>\n",
       "      <td>-999</td>\n",
       "      <td>-999</td>\n",
       "      <td>-999</td>\n",
       "      <td>-999</td>\n",
       "      <td>28.2</td>\n",
       "      <td>-96.8</td>\n",
       "      <td>NaN</td>\n",
       "    </tr>\n",
       "  </tbody>\n",
       "</table>\n",
       "<p>5 rows × 22 columns</p>\n",
       "</div>"
      ],
      "text/plain": [
       "         ID                 Name      Date  Time Event Status  Maximum Wind  \\\n",
       "0  AL011851              UNNAMED  18510625     0           HU            80   \n",
       "1  AL011851              UNNAMED  18510625   600           HU            80   \n",
       "2  AL011851              UNNAMED  18510625  1200           HU            80   \n",
       "3  AL011851              UNNAMED  18510625  1800           HU            80   \n",
       "4  AL011851              UNNAMED  18510625  2100     L     HU            80   \n",
       "\n",
       "   Low Wind NE  Low Wind SE  Low Wind SW  ...  Moderate Wind SE  \\\n",
       "0         -999         -999         -999  ...              -999   \n",
       "1         -999         -999         -999  ...              -999   \n",
       "2         -999         -999         -999  ...              -999   \n",
       "3         -999         -999         -999  ...              -999   \n",
       "4         -999         -999         -999  ...              -999   \n",
       "\n",
       "   Moderate Wind SW  Moderate Wind NW  High Wind NE  High Wind SE  \\\n",
       "0              -999              -999          -999          -999   \n",
       "1              -999              -999          -999          -999   \n",
       "2              -999              -999          -999          -999   \n",
       "3              -999              -999          -999          -999   \n",
       "4              -999              -999          -999          -999   \n",
       "\n",
       "   High Wind SW  High Wind NW   Lat   Lon  Minimum Pressure  \n",
       "0          -999          -999  28.0 -94.8               NaN  \n",
       "1          -999          -999  28.0 -95.4               NaN  \n",
       "2          -999          -999  28.0 -96.0               NaN  \n",
       "3          -999          -999  28.1 -96.5               NaN  \n",
       "4          -999          -999  28.2 -96.8               NaN  \n",
       "\n",
       "[5 rows x 22 columns]"
      ]
     },
     "execution_count": 17,
     "metadata": {},
     "output_type": "execute_result"
    }
   ],
   "source": [
    "#min pressure values formatting (-999 to NaN)\n",
    "min_pressure = data['Minimum Pressure'].replace(-999, np.nan, regex=True)\n",
    "#replace raw column by formatted column\n",
    "del data['Minimum Pressure']\n",
    "data = data.copy() #to handle SettingwithCopy warning\n",
    "data['Minimum Pressure'] = min_pressure\n",
    "data.head()"
   ]
  },
  {
   "cell_type": "markdown",
   "metadata": {},
   "source": [
    "The new formatted Min.Pressure column has been added to the dataset, by deleting the raw one. It is placed at the end, like all the new columns. However, at the end of the data formatting the columns will be well reordered."
   ]
  },
  {
   "cell_type": "code",
   "execution_count": 18,
   "metadata": {},
   "outputs": [
    {
     "name": "stdout",
     "output_type": "stream",
     "text": [
      "Maximum Wind max. value:  165.0\n",
      "Maximum Wind min. value:  10.0\n"
     ]
    },
    {
     "data": {
      "image/png": "[encoded data removed]",
      "text/plain": [
       "<Figure size 432x288 with 1 Axes>"
      ]
     },
     "metadata": {
      "needs_background": "light"
     },
     "output_type": "display_data"
    }
   ],
   "source": [
    "#max wind formatting -> calculating median and doing the replacement of missing values\n",
    "max_wind_column = data['Maximum Wind']\n",
    "median_max_wind = data['Maximum Wind'].median()\n",
    "max_wind_column = max_wind_column.replace(to_replace=-99,value=median_max_wind)\n",
    "del data['Maximum Wind']\n",
    "data = data.copy() #to handle SettingwithCopy warning\n",
    "data['Maximum Wind'] = max_wind_column\n",
    "\n",
    "#Max wind outliers detection after replacing missing values with median\n",
    "max_wind = data['Maximum Wind']\n",
    "sns.boxplot(x= max_wind)\n",
    "print('Maximum Wind max. value: ', max_wind.max())\n",
    "print('Maximum Wind min. value: ', max_wind.min())"
   ]
  },
  {
   "cell_type": "markdown",
   "metadata": {},
   "source": [
    "As shown right above, the smallest and the biggest records of this column make now sense. Therefore, the data formatting for this column has been successful. "
   ]
  },
  {
   "cell_type": "markdown",
   "metadata": {},
   "source": [
    "#### Date and time formatting"
   ]
  },
  {
   "cell_type": "markdown",
   "metadata": {},
   "source": [
    "This attribute will be formatted and aggregatted in one single attribute which will be called \"timestamp\". \n",
    "To start with the formatting, the Time column must be homogenized. In this case, all the time records must have the same length. Therefore, a zero will be added in front of the shortest records in order to have a length of 4 characters in each row. Basically, for 12am and 6am. "
   ]
  },
  {
   "cell_type": "code",
   "execution_count": 19,
   "metadata": {},
   "outputs": [],
   "source": [
    "#the time column is converted to string in order to be able to add 0 on the front\n",
    "time_str = data['Time'].astype(str)\n",
    "#lambda function to add zeros on the front until the number has 4 figures\n",
    "time_str = data['Time'].apply(lambda x: '{0:0>4}'.format(x))\n",
    "\n",
    "#replace time column\n",
    "del data['Time']\n",
    "data = data.copy() #to handle SettingwithCopy warning\n",
    "data['Time'] = time_str"
   ]
  },
  {
   "cell_type": "markdown",
   "metadata": {},
   "source": [
    "Once the time column is homogenized with 4 figure values in each row, it is time to concatenate these rows and subsequently proceed with the timestamp standard format. In this case, this new column will be formatted according the ISO-8601 for date and time. "
   ]
  },
  {
   "cell_type": "code",
   "execution_count": 20,
   "metadata": {},
   "outputs": [],
   "source": [
    "#time and date must be conncatenated\n",
    "date_str = data['Time']\n",
    "timestamp = data['Date'].astype(str) + data['Time'].astype(str)\n",
    "timestamp_column = []\n",
    "\n",
    "#timestamp formatting according to ISO-8601\n",
    "for x in timestamp:\n",
    "    x_datetime = datetime.datetime.strptime(x, '%Y%m%d%H%M%S')\n",
    "    timestamp_column.append(x_datetime)\n",
    "    \n",
    "#creation of new timestamp column\n",
    "data = data.copy() #to handle SettingwithCopy warning\n",
    "data['Timestamp'] = timestamp_column"
   ]
  },
  {
   "cell_type": "markdown",
   "metadata": {},
   "source": [
    "Once this is done, it is time to reorder the columns of the data "
   ]
  },
  {
   "cell_type": "code",
   "execution_count": 21,
   "metadata": {},
   "outputs": [],
   "source": [
    "data=data[['ID', 'Name','Timestamp', 'Lat', 'Lon', 'Event', 'Status', 'Maximum Wind', 'Minimum Pressure', 'Low Wind NE', 'Low Wind SE', 'Low Wind SW', 'Low Wind NW', 'Moderate Wind NE', 'Moderate Wind SE', 'Moderate Wind SW', 'Moderate Wind NW', 'High Wind NE', 'High Wind SE', 'High Wind SW', 'High Wind NW']]"
   ]
  },
  {
   "cell_type": "markdown",
   "metadata": {},
   "source": [
    "#### Low-Moderate-High wind values"
   ]
  },
  {
   "cell_type": "markdown",
   "metadata": {},
   "source": [
    "As a last step of this section, the wind values attributes must be explored and formatted. According to the metadata, these values are accurately tracked since 2004. Due to this fact, the missing values (marked as -999), will be transformed to NULL values. With that, these attributes will not bother the EDA."
   ]
  },
  {
   "cell_type": "code",
   "execution_count": 22,
   "metadata": {},
   "outputs": [
    {
     "data": {
      "text/html": [
       "<div>\n",
       "<style scoped>\n",
       "    .dataframe tbody tr th:only-of-type {\n",
       "        vertical-align: middle;\n",
       "    }\n",
       "\n",
       "    .dataframe tbody tr th {\n",
       "        vertical-align: top;\n",
       "    }\n",
       "\n",
       "    .dataframe thead th {\n",
       "        text-align: right;\n",
       "    }\n",
       "</style>\n",
       "<table border=\"1\" class=\"dataframe\">\n",
       "  <thead>\n",
       "    <tr style=\"text-align: right;\">\n",
       "      <th></th>\n",
       "      <th>ID</th>\n",
       "      <th>Name</th>\n",
       "      <th>Timestamp</th>\n",
       "      <th>Lat</th>\n",
       "      <th>Lon</th>\n",
       "      <th>Event</th>\n",
       "      <th>Status</th>\n",
       "      <th>Maximum Wind</th>\n",
       "      <th>Minimum Pressure</th>\n",
       "      <th>Low Wind NE</th>\n",
       "      <th>...</th>\n",
       "      <th>Low Wind SW</th>\n",
       "      <th>Low Wind NW</th>\n",
       "      <th>Moderate Wind NE</th>\n",
       "      <th>Moderate Wind SE</th>\n",
       "      <th>Moderate Wind SW</th>\n",
       "      <th>Moderate Wind NW</th>\n",
       "      <th>High Wind NE</th>\n",
       "      <th>High Wind SE</th>\n",
       "      <th>High Wind SW</th>\n",
       "      <th>High Wind NW</th>\n",
       "    </tr>\n",
       "  </thead>\n",
       "  <tbody>\n",
       "    <tr>\n",
       "      <th>0</th>\n",
       "      <td>AL011851</td>\n",
       "      <td>UNNAMED</td>\n",
       "      <td>1851-06-25 00:00:00</td>\n",
       "      <td>28.0</td>\n",
       "      <td>-94.8</td>\n",
       "      <td></td>\n",
       "      <td>HU</td>\n",
       "      <td>80.0</td>\n",
       "      <td>NaN</td>\n",
       "      <td>NaN</td>\n",
       "      <td>...</td>\n",
       "      <td>NaN</td>\n",
       "      <td>NaN</td>\n",
       "      <td>NaN</td>\n",
       "      <td>NaN</td>\n",
       "      <td>NaN</td>\n",
       "      <td>NaN</td>\n",
       "      <td>NaN</td>\n",
       "      <td>NaN</td>\n",
       "      <td>NaN</td>\n",
       "      <td>NaN</td>\n",
       "    </tr>\n",
       "    <tr>\n",
       "      <th>1</th>\n",
       "      <td>AL011851</td>\n",
       "      <td>UNNAMED</td>\n",
       "      <td>1851-06-25 06:00:00</td>\n",
       "      <td>28.0</td>\n",
       "      <td>-95.4</td>\n",
       "      <td></td>\n",
       "      <td>HU</td>\n",
       "      <td>80.0</td>\n",
       "      <td>NaN</td>\n",
       "      <td>NaN</td>\n",
       "      <td>...</td>\n",
       "      <td>NaN</td>\n",
       "      <td>NaN</td>\n",
       "      <td>NaN</td>\n",
       "      <td>NaN</td>\n",
       "      <td>NaN</td>\n",
       "      <td>NaN</td>\n",
       "      <td>NaN</td>\n",
       "      <td>NaN</td>\n",
       "      <td>NaN</td>\n",
       "      <td>NaN</td>\n",
       "    </tr>\n",
       "    <tr>\n",
       "      <th>2</th>\n",
       "      <td>AL011851</td>\n",
       "      <td>UNNAMED</td>\n",
       "      <td>1851-06-25 12:00:00</td>\n",
       "      <td>28.0</td>\n",
       "      <td>-96.0</td>\n",
       "      <td></td>\n",
       "      <td>HU</td>\n",
       "      <td>80.0</td>\n",
       "      <td>NaN</td>\n",
       "      <td>NaN</td>\n",
       "      <td>...</td>\n",
       "      <td>NaN</td>\n",
       "      <td>NaN</td>\n",
       "      <td>NaN</td>\n",
       "      <td>NaN</td>\n",
       "      <td>NaN</td>\n",
       "      <td>NaN</td>\n",
       "      <td>NaN</td>\n",
       "      <td>NaN</td>\n",
       "      <td>NaN</td>\n",
       "      <td>NaN</td>\n",
       "    </tr>\n",
       "    <tr>\n",
       "      <th>3</th>\n",
       "      <td>AL011851</td>\n",
       "      <td>UNNAMED</td>\n",
       "      <td>1851-06-25 18:00:00</td>\n",
       "      <td>28.1</td>\n",
       "      <td>-96.5</td>\n",
       "      <td></td>\n",
       "      <td>HU</td>\n",
       "      <td>80.0</td>\n",
       "      <td>NaN</td>\n",
       "      <td>NaN</td>\n",
       "      <td>...</td>\n",
       "      <td>NaN</td>\n",
       "      <td>NaN</td>\n",
       "      <td>NaN</td>\n",
       "      <td>NaN</td>\n",
       "      <td>NaN</td>\n",
       "      <td>NaN</td>\n",
       "      <td>NaN</td>\n",
       "      <td>NaN</td>\n",
       "      <td>NaN</td>\n",
       "      <td>NaN</td>\n",
       "    </tr>\n",
       "    <tr>\n",
       "      <th>4</th>\n",
       "      <td>AL011851</td>\n",
       "      <td>UNNAMED</td>\n",
       "      <td>1851-06-25 21:00:00</td>\n",
       "      <td>28.2</td>\n",
       "      <td>-96.8</td>\n",
       "      <td>L</td>\n",
       "      <td>HU</td>\n",
       "      <td>80.0</td>\n",
       "      <td>NaN</td>\n",
       "      <td>NaN</td>\n",
       "      <td>...</td>\n",
       "      <td>NaN</td>\n",
       "      <td>NaN</td>\n",
       "      <td>NaN</td>\n",
       "      <td>NaN</td>\n",
       "      <td>NaN</td>\n",
       "      <td>NaN</td>\n",
       "      <td>NaN</td>\n",
       "      <td>NaN</td>\n",
       "      <td>NaN</td>\n",
       "      <td>NaN</td>\n",
       "    </tr>\n",
       "  </tbody>\n",
       "</table>\n",
       "<p>5 rows × 21 columns</p>\n",
       "</div>"
      ],
      "text/plain": [
       "         ID                 Name           Timestamp   Lat   Lon Event Status  \\\n",
       "0  AL011851              UNNAMED 1851-06-25 00:00:00  28.0 -94.8           HU   \n",
       "1  AL011851              UNNAMED 1851-06-25 06:00:00  28.0 -95.4           HU   \n",
       "2  AL011851              UNNAMED 1851-06-25 12:00:00  28.0 -96.0           HU   \n",
       "3  AL011851              UNNAMED 1851-06-25 18:00:00  28.1 -96.5           HU   \n",
       "4  AL011851              UNNAMED 1851-06-25 21:00:00  28.2 -96.8     L     HU   \n",
       "\n",
       "   Maximum Wind  Minimum Pressure  Low Wind NE  ...  Low Wind SW  Low Wind NW  \\\n",
       "0          80.0               NaN          NaN  ...          NaN          NaN   \n",
       "1          80.0               NaN          NaN  ...          NaN          NaN   \n",
       "2          80.0               NaN          NaN  ...          NaN          NaN   \n",
       "3          80.0               NaN          NaN  ...          NaN          NaN   \n",
       "4          80.0               NaN          NaN  ...          NaN          NaN   \n",
       "\n",
       "   Moderate Wind NE  Moderate Wind SE  Moderate Wind SW  Moderate Wind NW  \\\n",
       "0               NaN               NaN               NaN               NaN   \n",
       "1               NaN               NaN               NaN               NaN   \n",
       "2               NaN               NaN               NaN               NaN   \n",
       "3               NaN               NaN               NaN               NaN   \n",
       "4               NaN               NaN               NaN               NaN   \n",
       "\n",
       "   High Wind NE  High Wind SE  High Wind SW  High Wind NW  \n",
       "0           NaN           NaN           NaN           NaN  \n",
       "1           NaN           NaN           NaN           NaN  \n",
       "2           NaN           NaN           NaN           NaN  \n",
       "3           NaN           NaN           NaN           NaN  \n",
       "4           NaN           NaN           NaN           NaN  \n",
       "\n",
       "[5 rows x 21 columns]"
      ]
     },
     "execution_count": 22,
     "metadata": {},
     "output_type": "execute_result"
    }
   ],
   "source": [
    "#all the dataset is taken into account to optimize code\n",
    "data = data.replace(-999, np.nan, regex=True)\n",
    "data.head()"
   ]
  },
  {
   "cell_type": "markdown",
   "metadata": {},
   "source": [
    "To finish with this first section, since the data has already been cleaned and formatted, some additional plotting and data insights exploration will be carried out. "
   ]
  },
  {
   "cell_type": "code",
   "execution_count": 23,
   "metadata": {},
   "outputs": [
    {
     "data": {
      "text/plain": [
       "Text(0, 0.5, 'Count of movements')"
      ]
     },
     "execution_count": 23,
     "metadata": {},
     "output_type": "execute_result"
    },
    {
     "data": {
      "image/png": "[encoded data removed]",
      "text/plain": [
       "<Figure size 432x288 with 1 Axes>"
      ]
     },
     "metadata": {
      "needs_background": "light"
     },
     "output_type": "display_data"
    }
   ],
   "source": [
    "plt.hist(data['Timestamp'], color = 'blue', edgecolor = 'black')\n",
    "# Labels\n",
    "plt.title('Histogram of Hurricane counted registered movements')\n",
    "plt.xlabel('Time(Years)')\n",
    "plt.ylabel('Count of movements')"
   ]
  },
  {
   "cell_type": "markdown",
   "metadata": {},
   "source": [
    "The increase of counted hurricane movements after throughout the decades is probably consequence of better and more reliable measurements, rather than the potential increase of hurricanes. Below, the number of registered movements in the dataset and total of hurricanes is shown."
   ]
  },
  {
   "cell_type": "code",
   "execution_count": 24,
   "metadata": {},
   "outputs": [
    {
     "name": "stdout",
     "output_type": "stream",
     "text": [
      "Total number of hurricane movements:  49103\n",
      "Total number of hurricanes:  1814\n"
     ]
    }
   ],
   "source": [
    "#total number of movements and hurricanes registered in the dataset\n",
    "ids = data.ID.values.tolist()\n",
    "ids_dist = np.unique(ids)\n",
    "print('Total number of hurricane movements: ', len(data.index))\n",
    "print('Total number of hurricanes: ', len(np.unique(ids)))"
   ]
  },
  {
   "cell_type": "code",
   "execution_count": 25,
   "metadata": {},
   "outputs": [
    {
     "data": {
      "text/html": [
       "<div>\n",
       "<style scoped>\n",
       "    .dataframe tbody tr th:only-of-type {\n",
       "        vertical-align: middle;\n",
       "    }\n",
       "\n",
       "    .dataframe tbody tr th {\n",
       "        vertical-align: top;\n",
       "    }\n",
       "\n",
       "    .dataframe thead th {\n",
       "        text-align: right;\n",
       "    }\n",
       "</style>\n",
       "<table border=\"1\" class=\"dataframe\">\n",
       "  <thead>\n",
       "    <tr style=\"text-align: right;\">\n",
       "      <th></th>\n",
       "      <th>Lat</th>\n",
       "      <th>Lon</th>\n",
       "      <th>Maximum Wind</th>\n",
       "      <th>Minimum Pressure</th>\n",
       "      <th>Low Wind NE</th>\n",
       "      <th>Low Wind SE</th>\n",
       "      <th>Low Wind SW</th>\n",
       "      <th>Low Wind NW</th>\n",
       "      <th>Moderate Wind NE</th>\n",
       "      <th>Moderate Wind SE</th>\n",
       "      <th>Moderate Wind SW</th>\n",
       "      <th>Moderate Wind NW</th>\n",
       "      <th>High Wind NE</th>\n",
       "      <th>High Wind SE</th>\n",
       "      <th>High Wind SW</th>\n",
       "      <th>High Wind NW</th>\n",
       "    </tr>\n",
       "  </thead>\n",
       "  <tbody>\n",
       "    <tr>\n",
       "      <th>count</th>\n",
       "      <td>49103.000000</td>\n",
       "      <td>49103.000000</td>\n",
       "      <td>49103.000000</td>\n",
       "      <td>18436.000000</td>\n",
       "      <td>5921.000000</td>\n",
       "      <td>5921.000000</td>\n",
       "      <td>5921.000000</td>\n",
       "      <td>5921.000000</td>\n",
       "      <td>5921.000000</td>\n",
       "      <td>5921.000000</td>\n",
       "      <td>5921.000000</td>\n",
       "      <td>5921.000000</td>\n",
       "      <td>5921.000000</td>\n",
       "      <td>5921.000000</td>\n",
       "      <td>5921.000000</td>\n",
       "      <td>5921.000000</td>\n",
       "    </tr>\n",
       "    <tr>\n",
       "      <th>mean</th>\n",
       "      <td>27.044229</td>\n",
       "      <td>-65.670597</td>\n",
       "      <td>52.997006</td>\n",
       "      <td>992.244250</td>\n",
       "      <td>81.865394</td>\n",
       "      <td>76.518325</td>\n",
       "      <td>48.647188</td>\n",
       "      <td>59.156393</td>\n",
       "      <td>24.641952</td>\n",
       "      <td>23.029894</td>\n",
       "      <td>15.427293</td>\n",
       "      <td>18.403141</td>\n",
       "      <td>8.110117</td>\n",
       "      <td>7.357710</td>\n",
       "      <td>5.130890</td>\n",
       "      <td>6.269211</td>\n",
       "    </tr>\n",
       "    <tr>\n",
       "      <th>std</th>\n",
       "      <td>10.077531</td>\n",
       "      <td>19.598589</td>\n",
       "      <td>24.671781</td>\n",
       "      <td>19.113748</td>\n",
       "      <td>88.097930</td>\n",
       "      <td>87.563153</td>\n",
       "      <td>75.209183</td>\n",
       "      <td>77.568911</td>\n",
       "      <td>41.592337</td>\n",
       "      <td>42.017821</td>\n",
       "      <td>32.105372</td>\n",
       "      <td>35.411258</td>\n",
       "      <td>19.792002</td>\n",
       "      <td>18.730334</td>\n",
       "      <td>14.033464</td>\n",
       "      <td>16.876623</td>\n",
       "    </tr>\n",
       "    <tr>\n",
       "      <th>min</th>\n",
       "      <td>7.200000</td>\n",
       "      <td>-109.500000</td>\n",
       "      <td>10.000000</td>\n",
       "      <td>882.000000</td>\n",
       "      <td>0.000000</td>\n",
       "      <td>0.000000</td>\n",
       "      <td>0.000000</td>\n",
       "      <td>0.000000</td>\n",
       "      <td>0.000000</td>\n",
       "      <td>0.000000</td>\n",
       "      <td>0.000000</td>\n",
       "      <td>0.000000</td>\n",
       "      <td>0.000000</td>\n",
       "      <td>0.000000</td>\n",
       "      <td>0.000000</td>\n",
       "      <td>0.000000</td>\n",
       "    </tr>\n",
       "    <tr>\n",
       "      <th>25%</th>\n",
       "      <td>19.100000</td>\n",
       "      <td>-81.000000</td>\n",
       "      <td>35.000000</td>\n",
       "      <td>984.000000</td>\n",
       "      <td>0.000000</td>\n",
       "      <td>0.000000</td>\n",
       "      <td>0.000000</td>\n",
       "      <td>0.000000</td>\n",
       "      <td>0.000000</td>\n",
       "      <td>0.000000</td>\n",
       "      <td>0.000000</td>\n",
       "      <td>0.000000</td>\n",
       "      <td>0.000000</td>\n",
       "      <td>0.000000</td>\n",
       "      <td>0.000000</td>\n",
       "      <td>0.000000</td>\n",
       "    </tr>\n",
       "    <tr>\n",
       "      <th>50%</th>\n",
       "      <td>26.400000</td>\n",
       "      <td>-68.000000</td>\n",
       "      <td>45.000000</td>\n",
       "      <td>999.000000</td>\n",
       "      <td>60.000000</td>\n",
       "      <td>60.000000</td>\n",
       "      <td>0.000000</td>\n",
       "      <td>40.000000</td>\n",
       "      <td>0.000000</td>\n",
       "      <td>0.000000</td>\n",
       "      <td>0.000000</td>\n",
       "      <td>0.000000</td>\n",
       "      <td>0.000000</td>\n",
       "      <td>0.000000</td>\n",
       "      <td>0.000000</td>\n",
       "      <td>0.000000</td>\n",
       "    </tr>\n",
       "    <tr>\n",
       "      <th>75%</th>\n",
       "      <td>33.100000</td>\n",
       "      <td>-52.500000</td>\n",
       "      <td>70.000000</td>\n",
       "      <td>1006.000000</td>\n",
       "      <td>130.000000</td>\n",
       "      <td>120.000000</td>\n",
       "      <td>75.000000</td>\n",
       "      <td>90.000000</td>\n",
       "      <td>40.000000</td>\n",
       "      <td>35.000000</td>\n",
       "      <td>20.000000</td>\n",
       "      <td>30.000000</td>\n",
       "      <td>0.000000</td>\n",
       "      <td>0.000000</td>\n",
       "      <td>0.000000</td>\n",
       "      <td>0.000000</td>\n",
       "    </tr>\n",
       "    <tr>\n",
       "      <th>max</th>\n",
       "      <td>81.000000</td>\n",
       "      <td>63.000000</td>\n",
       "      <td>165.000000</td>\n",
       "      <td>1024.000000</td>\n",
       "      <td>710.000000</td>\n",
       "      <td>600.000000</td>\n",
       "      <td>640.000000</td>\n",
       "      <td>530.000000</td>\n",
       "      <td>360.000000</td>\n",
       "      <td>300.000000</td>\n",
       "      <td>330.000000</td>\n",
       "      <td>360.000000</td>\n",
       "      <td>180.000000</td>\n",
       "      <td>250.000000</td>\n",
       "      <td>150.000000</td>\n",
       "      <td>180.000000</td>\n",
       "    </tr>\n",
       "  </tbody>\n",
       "</table>\n",
       "</div>"
      ],
      "text/plain": [
       "                Lat           Lon  Maximum Wind  Minimum Pressure  \\\n",
       "count  49103.000000  49103.000000  49103.000000      18436.000000   \n",
       "mean      27.044229    -65.670597     52.997006        992.244250   \n",
       "std       10.077531     19.598589     24.671781         19.113748   \n",
       "min        7.200000   -109.500000     10.000000        882.000000   \n",
       "25%       19.100000    -81.000000     35.000000        984.000000   \n",
       "50%       26.400000    -68.000000     45.000000        999.000000   \n",
       "75%       33.100000    -52.500000     70.000000       1006.000000   \n",
       "max       81.000000     63.000000    165.000000       1024.000000   \n",
       "\n",
       "       Low Wind NE  Low Wind SE  Low Wind SW  Low Wind NW  Moderate Wind NE  \\\n",
       "count  5921.000000  5921.000000  5921.000000  5921.000000       5921.000000   \n",
       "mean     81.865394    76.518325    48.647188    59.156393         24.641952   \n",
       "std      88.097930    87.563153    75.209183    77.568911         41.592337   \n",
       "min       0.000000     0.000000     0.000000     0.000000          0.000000   \n",
       "25%       0.000000     0.000000     0.000000     0.000000          0.000000   \n",
       "50%      60.000000    60.000000     0.000000    40.000000          0.000000   \n",
       "75%     130.000000   120.000000    75.000000    90.000000         40.000000   \n",
       "max     710.000000   600.000000   640.000000   530.000000        360.000000   \n",
       "\n",
       "       Moderate Wind SE  Moderate Wind SW  Moderate Wind NW  High Wind NE  \\\n",
       "count       5921.000000       5921.000000       5921.000000   5921.000000   \n",
       "mean          23.029894         15.427293         18.403141      8.110117   \n",
       "std           42.017821         32.105372         35.411258     19.792002   \n",
       "min            0.000000          0.000000          0.000000      0.000000   \n",
       "25%            0.000000          0.000000          0.000000      0.000000   \n",
       "50%            0.000000          0.000000          0.000000      0.000000   \n",
       "75%           35.000000         20.000000         30.000000      0.000000   \n",
       "max          300.000000        330.000000        360.000000    180.000000   \n",
       "\n",
       "       High Wind SE  High Wind SW  High Wind NW  \n",
       "count   5921.000000   5921.000000   5921.000000  \n",
       "mean       7.357710      5.130890      6.269211  \n",
       "std       18.730334     14.033464     16.876623  \n",
       "min        0.000000      0.000000      0.000000  \n",
       "25%        0.000000      0.000000      0.000000  \n",
       "50%        0.000000      0.000000      0.000000  \n",
       "75%        0.000000      0.000000      0.000000  \n",
       "max      250.000000    150.000000    180.000000  "
      ]
     },
     "execution_count": 25,
     "metadata": {},
     "output_type": "execute_result"
    }
   ],
   "source": [
    "#summary statistics of the whole dataset\n",
    "data.describe()"
   ]
  },
  {
   "cell_type": "markdown",
   "metadata": {},
   "source": [
    "As observable in this summary statistics of the quantitative variables of the dataset, the -999 values are not taken into account due to the NaN handling. "
   ]
  },
  {
   "cell_type": "markdown",
   "metadata": {},
   "source": [
    "Regarding categorical variables, Status and Event can be the only ones identified (Name and ID are instance indentifiers)."
   ]
  },
  {
   "cell_type": "code",
   "execution_count": 26,
   "metadata": {},
   "outputs": [
    {
     "name": "stdout",
     "output_type": "stream",
     "text": [
      "Event categories:  ['  ' ' L' ' R' ' I' ' P' ' W' ' C' ' S' ' G' ' T']\n",
      "Status categories:  [' HU' ' TS' ' EX' ' TD' ' LO' ' DB' ' SD' ' SS' ' WV']\n"
     ]
    }
   ],
   "source": [
    "#explore its categories\n",
    "print('Event categories: ', data['Event'].unique())\n",
    "print('Status categories: ', data['Status'].unique())"
   ]
  },
  {
   "cell_type": "markdown",
   "metadata": {},
   "source": [
    "For description of each specific category, see the attached metadata document in this repository. "
   ]
  },
  {
   "cell_type": "code",
   "execution_count": 27,
   "metadata": {},
   "outputs": [
    {
     "name": "stdout",
     "output_type": "stream",
     "text": [
      "Bounding box:  [-109.5    7.2   63.    81. ]\n"
     ]
    },
    {
     "data": {
      "image/png": "[encoded data removed]",
      "text/plain": [
       "<Figure size 432x288 with 1 Axes>"
      ]
     },
     "metadata": {
      "needs_background": "light"
     },
     "output_type": "display_data"
    }
   ],
   "source": [
    "#Geographical bbox of the entire dataset\n",
    "data_gdf = gpd.GeoDataFrame(data, geometry=gpd.points_from_xy(data.Lon, data.Lat))\n",
    "bbox = data_gdf.total_bounds\n",
    "print('Bounding box: ', bbox)\n",
    "#create bbox polygon & plot it using shapely\n",
    "box_pol = box(*bbox)\n",
    "gpd_box = gpd.GeoSeries(box_pol)\n",
    "proj_bbox = gpd_box.set_crs(epsg=4326)\n",
    "base = world.plot(color='brown', edgecolor='black')\n",
    "proj_bbox.boundary.plot(ax=base, marker='x', color='blue', markersize=25);"
   ]
  },
  {
   "cell_type": "markdown",
   "metadata": {},
   "source": [
    "As shown in this map, the dataset covers the atlantic ocean accordingly."
   ]
  },
  {
   "cell_type": "code",
   "execution_count": 28,
   "metadata": {},
   "outputs": [
    {
     "name": "stdout",
     "output_type": "stream",
     "text": [
      "Starting date of the dataset:  1851-06-25 00:00:00\n",
      "Last record of the dataset;  2015-11-13 12:00:00\n"
     ]
    }
   ],
   "source": [
    "#check specific temporal timeline of the dataset\n",
    "print('Starting date of the dataset: ', min(data['Timestamp']))\n",
    "print('Last record of the dataset; ', max(data['Timestamp']))"
   ]
  },
  {
   "cell_type": "code",
   "execution_count": 29,
   "metadata": {},
   "outputs": [
    {
     "data": {
      "text/plain": [
       "<seaborn.axisgrid.PairGrid at 0x1902bbd8430>"
      ]
     },
     "execution_count": 29,
     "metadata": {},
     "output_type": "execute_result"
    },
    {
     "data": {
      "image/png": "[encoded data removed]",
      "text/plain": [
       "<Figure size 360x360 with 6 Axes>"
      ]
     },
     "metadata": {
      "needs_background": "light"
     },
     "output_type": "display_data"
    }
   ],
   "source": [
    "#correlation between Wind and Pressure\n",
    "sns.pairplot(data,\n",
    "    x_vars=[\"Maximum Wind\", \"Minimum Pressure\"],\n",
    "    y_vars=[\"Maximum Wind\", \"Minimum Pressure\"],\n",
    ")"
   ]
  },
  {
   "cell_type": "markdown",
   "metadata": {},
   "source": [
    "To simplify the correlation plotting of variables and start approaching the prediction problem, wind and pressure have been selected since they will be relevant predictor variables. According to the plot and some basic metheorological principles, pressure and wind are always negatively correlated (lower the pressure the higher the wind). "
   ]
  },
  {
   "cell_type": "markdown",
   "metadata": {},
   "source": [
    "## 2. Feature Engineering"
   ]
  },
  {
   "cell_type": "markdown",
   "metadata": {},
   "source": [
    "In this second section, the preparation of the data for feeding the subsequent prediction algorithms will be carried out. Therefore, predictor features will be defined and irrelevant columns will be ignored. The selected variables from the data are Maximum Wind and Minimum Pressure, since the low, moderate and high wind values are not as relevant for this prediction problem (they would be more relevant to predict position since they give orientation information) and there are only 5000 available records (from 2004 onwards). According to this, these variables wil be ignored and only ID, Timestamp, Lat & Lon, Max Wind and Min Pressure will be kept. From here, this section aims to calculate the feature to predict: speed."
   ]
  },
  {
   "cell_type": "code",
   "execution_count": 30,
   "metadata": {},
   "outputs": [
    {
     "data": {
      "text/html": [
       "<div>\n",
       "<style scoped>\n",
       "    .dataframe tbody tr th:only-of-type {\n",
       "        vertical-align: middle;\n",
       "    }\n",
       "\n",
       "    .dataframe tbody tr th {\n",
       "        vertical-align: top;\n",
       "    }\n",
       "\n",
       "    .dataframe thead th {\n",
       "        text-align: right;\n",
       "    }\n",
       "</style>\n",
       "<table border=\"1\" class=\"dataframe\">\n",
       "  <thead>\n",
       "    <tr style=\"text-align: right;\">\n",
       "      <th></th>\n",
       "      <th>ID</th>\n",
       "      <th>Timestamp</th>\n",
       "      <th>Lat</th>\n",
       "      <th>Lon</th>\n",
       "      <th>Maximum Wind</th>\n",
       "      <th>Minimum Pressure</th>\n",
       "    </tr>\n",
       "  </thead>\n",
       "  <tbody>\n",
       "    <tr>\n",
       "      <th>0</th>\n",
       "      <td>AL011851</td>\n",
       "      <td>1851-06-25 00:00:00</td>\n",
       "      <td>28.0</td>\n",
       "      <td>-94.8</td>\n",
       "      <td>80.0</td>\n",
       "      <td>NaN</td>\n",
       "    </tr>\n",
       "    <tr>\n",
       "      <th>1</th>\n",
       "      <td>AL011851</td>\n",
       "      <td>1851-06-25 06:00:00</td>\n",
       "      <td>28.0</td>\n",
       "      <td>-95.4</td>\n",
       "      <td>80.0</td>\n",
       "      <td>NaN</td>\n",
       "    </tr>\n",
       "    <tr>\n",
       "      <th>2</th>\n",
       "      <td>AL011851</td>\n",
       "      <td>1851-06-25 12:00:00</td>\n",
       "      <td>28.0</td>\n",
       "      <td>-96.0</td>\n",
       "      <td>80.0</td>\n",
       "      <td>NaN</td>\n",
       "    </tr>\n",
       "    <tr>\n",
       "      <th>3</th>\n",
       "      <td>AL011851</td>\n",
       "      <td>1851-06-25 18:00:00</td>\n",
       "      <td>28.1</td>\n",
       "      <td>-96.5</td>\n",
       "      <td>80.0</td>\n",
       "      <td>NaN</td>\n",
       "    </tr>\n",
       "    <tr>\n",
       "      <th>4</th>\n",
       "      <td>AL011851</td>\n",
       "      <td>1851-06-25 21:00:00</td>\n",
       "      <td>28.2</td>\n",
       "      <td>-96.8</td>\n",
       "      <td>80.0</td>\n",
       "      <td>NaN</td>\n",
       "    </tr>\n",
       "  </tbody>\n",
       "</table>\n",
       "</div>"
      ],
      "text/plain": [
       "         ID           Timestamp   Lat   Lon  Maximum Wind  Minimum Pressure\n",
       "0  AL011851 1851-06-25 00:00:00  28.0 -94.8          80.0               NaN\n",
       "1  AL011851 1851-06-25 06:00:00  28.0 -95.4          80.0               NaN\n",
       "2  AL011851 1851-06-25 12:00:00  28.0 -96.0          80.0               NaN\n",
       "3  AL011851 1851-06-25 18:00:00  28.1 -96.5          80.0               NaN\n",
       "4  AL011851 1851-06-25 21:00:00  28.2 -96.8          80.0               NaN"
      ]
     },
     "execution_count": 30,
     "metadata": {},
     "output_type": "execute_result"
    }
   ],
   "source": [
    "#creating data frame for used for prediction\n",
    "data_pred = data[['ID', 'Timestamp', 'Lat', 'Lon', 'Maximum Wind', 'Minimum Pressure']]\n",
    "data_pred.head()"
   ]
  },
  {
   "cell_type": "markdown",
   "metadata": {},
   "source": [
    "With the prediction dateset looking like this, the main feature to predict (speed) will be added and accordingly calculated. However, it is not as straightforward as it looks. First of all, a new feature regarding location (lat & lon merged) must be added in the dataframe. From here, the distance moved (within each measurement - 6h) will be calculated and therefore, a distance feature will be also added. Finally, speed will be able to be calculated by using the distance and time. "
   ]
  },
  {
   "cell_type": "code",
   "execution_count": 31,
   "metadata": {},
   "outputs": [],
   "source": [
    "x= data.Lon.values.tolist() #longitudes\n",
    "y= data.Lat.values.tolist() #latitudes\n",
    "location = []\n",
    "\n",
    "for i in range(len(data)):\n",
    "    loc1=(y[i], x[i])\n",
    "    location.append(loc1)\n",
    "    \n",
    "data_pred = data_pred.copy() #to handle SettingwithCopy warning\n",
    "data_pred['Location'] = location"
   ]
  },
  {
   "cell_type": "code",
   "execution_count": 32,
   "metadata": {},
   "outputs": [
    {
     "data": {
      "text/html": [
       "<div>\n",
       "<style scoped>\n",
       "    .dataframe tbody tr th:only-of-type {\n",
       "        vertical-align: middle;\n",
       "    }\n",
       "\n",
       "    .dataframe tbody tr th {\n",
       "        vertical-align: top;\n",
       "    }\n",
       "\n",
       "    .dataframe thead th {\n",
       "        text-align: right;\n",
       "    }\n",
       "</style>\n",
       "<table border=\"1\" class=\"dataframe\">\n",
       "  <thead>\n",
       "    <tr style=\"text-align: right;\">\n",
       "      <th></th>\n",
       "      <th>ID</th>\n",
       "      <th>Timestamp</th>\n",
       "      <th>Lat</th>\n",
       "      <th>Lon</th>\n",
       "      <th>Maximum Wind</th>\n",
       "      <th>Minimum Pressure</th>\n",
       "      <th>Location</th>\n",
       "    </tr>\n",
       "  </thead>\n",
       "  <tbody>\n",
       "    <tr>\n",
       "      <th>0</th>\n",
       "      <td>AL011851</td>\n",
       "      <td>1851-06-25 00:00:00</td>\n",
       "      <td>28.0</td>\n",
       "      <td>-94.8</td>\n",
       "      <td>80.0</td>\n",
       "      <td>NaN</td>\n",
       "      <td>(28.0, -94.8)</td>\n",
       "    </tr>\n",
       "    <tr>\n",
       "      <th>1</th>\n",
       "      <td>AL011851</td>\n",
       "      <td>1851-06-25 06:00:00</td>\n",
       "      <td>28.0</td>\n",
       "      <td>-95.4</td>\n",
       "      <td>80.0</td>\n",
       "      <td>NaN</td>\n",
       "      <td>(28.0, -95.4)</td>\n",
       "    </tr>\n",
       "    <tr>\n",
       "      <th>2</th>\n",
       "      <td>AL011851</td>\n",
       "      <td>1851-06-25 12:00:00</td>\n",
       "      <td>28.0</td>\n",
       "      <td>-96.0</td>\n",
       "      <td>80.0</td>\n",
       "      <td>NaN</td>\n",
       "      <td>(28.0, -96.0)</td>\n",
       "    </tr>\n",
       "    <tr>\n",
       "      <th>3</th>\n",
       "      <td>AL011851</td>\n",
       "      <td>1851-06-25 18:00:00</td>\n",
       "      <td>28.1</td>\n",
       "      <td>-96.5</td>\n",
       "      <td>80.0</td>\n",
       "      <td>NaN</td>\n",
       "      <td>(28.1, -96.5)</td>\n",
       "    </tr>\n",
       "    <tr>\n",
       "      <th>4</th>\n",
       "      <td>AL011851</td>\n",
       "      <td>1851-06-25 21:00:00</td>\n",
       "      <td>28.2</td>\n",
       "      <td>-96.8</td>\n",
       "      <td>80.0</td>\n",
       "      <td>NaN</td>\n",
       "      <td>(28.2, -96.8)</td>\n",
       "    </tr>\n",
       "  </tbody>\n",
       "</table>\n",
       "</div>"
      ],
      "text/plain": [
       "         ID           Timestamp   Lat   Lon  Maximum Wind  Minimum Pressure  \\\n",
       "0  AL011851 1851-06-25 00:00:00  28.0 -94.8          80.0               NaN   \n",
       "1  AL011851 1851-06-25 06:00:00  28.0 -95.4          80.0               NaN   \n",
       "2  AL011851 1851-06-25 12:00:00  28.0 -96.0          80.0               NaN   \n",
       "3  AL011851 1851-06-25 18:00:00  28.1 -96.5          80.0               NaN   \n",
       "4  AL011851 1851-06-25 21:00:00  28.2 -96.8          80.0               NaN   \n",
       "\n",
       "        Location  \n",
       "0  (28.0, -94.8)  \n",
       "1  (28.0, -95.4)  \n",
       "2  (28.0, -96.0)  \n",
       "3  (28.1, -96.5)  \n",
       "4  (28.2, -96.8)  "
      ]
     },
     "execution_count": 32,
     "metadata": {},
     "output_type": "execute_result"
    }
   ],
   "source": [
    "data_pred.head()"
   ]
  },
  {
   "cell_type": "markdown",
   "metadata": {},
   "source": [
    "Locations field has been calculated, now the two fields lat and lon can be removed from this prediction dataframe and proceed through the distance field calculation. In this calculation, the different hurricane ID's must be taken into account, so values are not mixed. "
   ]
  },
  {
   "cell_type": "code",
   "execution_count": 33,
   "metadata": {},
   "outputs": [
    {
     "data": {
      "text/html": [
       "<div>\n",
       "<style scoped>\n",
       "    .dataframe tbody tr th:only-of-type {\n",
       "        vertical-align: middle;\n",
       "    }\n",
       "\n",
       "    .dataframe tbody tr th {\n",
       "        vertical-align: top;\n",
       "    }\n",
       "\n",
       "    .dataframe thead th {\n",
       "        text-align: right;\n",
       "    }\n",
       "</style>\n",
       "<table border=\"1\" class=\"dataframe\">\n",
       "  <thead>\n",
       "    <tr style=\"text-align: right;\">\n",
       "      <th></th>\n",
       "      <th>ID</th>\n",
       "      <th>Timestamp</th>\n",
       "      <th>Maximum Wind</th>\n",
       "      <th>Minimum Pressure</th>\n",
       "      <th>Location</th>\n",
       "      <th>Distance_km</th>\n",
       "    </tr>\n",
       "  </thead>\n",
       "  <tbody>\n",
       "    <tr>\n",
       "      <th>0</th>\n",
       "      <td>AL011851</td>\n",
       "      <td>1851-06-25 00:00:00</td>\n",
       "      <td>80.0</td>\n",
       "      <td>NaN</td>\n",
       "      <td>(28.0, -94.8)</td>\n",
       "      <td>NaN</td>\n",
       "    </tr>\n",
       "    <tr>\n",
       "      <th>1</th>\n",
       "      <td>AL011851</td>\n",
       "      <td>1851-06-25 06:00:00</td>\n",
       "      <td>80.0</td>\n",
       "      <td>NaN</td>\n",
       "      <td>(28.0, -95.4)</td>\n",
       "      <td>58.907598</td>\n",
       "    </tr>\n",
       "    <tr>\n",
       "      <th>2</th>\n",
       "      <td>AL011851</td>\n",
       "      <td>1851-06-25 12:00:00</td>\n",
       "      <td>80.0</td>\n",
       "      <td>NaN</td>\n",
       "      <td>(28.0, -96.0)</td>\n",
       "      <td>58.907598</td>\n",
       "    </tr>\n",
       "    <tr>\n",
       "      <th>3</th>\n",
       "      <td>AL011851</td>\n",
       "      <td>1851-06-25 18:00:00</td>\n",
       "      <td>80.0</td>\n",
       "      <td>NaN</td>\n",
       "      <td>(28.1, -96.5)</td>\n",
       "      <td>50.311046</td>\n",
       "    </tr>\n",
       "    <tr>\n",
       "      <th>4</th>\n",
       "      <td>AL011851</td>\n",
       "      <td>1851-06-25 21:00:00</td>\n",
       "      <td>80.0</td>\n",
       "      <td>NaN</td>\n",
       "      <td>(28.2, -96.8)</td>\n",
       "      <td>31.444414</td>\n",
       "    </tr>\n",
       "  </tbody>\n",
       "</table>\n",
       "</div>"
      ],
      "text/plain": [
       "         ID           Timestamp  Maximum Wind  Minimum Pressure  \\\n",
       "0  AL011851 1851-06-25 00:00:00          80.0               NaN   \n",
       "1  AL011851 1851-06-25 06:00:00          80.0               NaN   \n",
       "2  AL011851 1851-06-25 12:00:00          80.0               NaN   \n",
       "3  AL011851 1851-06-25 18:00:00          80.0               NaN   \n",
       "4  AL011851 1851-06-25 21:00:00          80.0               NaN   \n",
       "\n",
       "        Location  Distance_km  \n",
       "0  (28.0, -94.8)          NaN  \n",
       "1  (28.0, -95.4)    58.907598  \n",
       "2  (28.0, -96.0)    58.907598  \n",
       "3  (28.1, -96.5)    50.311046  \n",
       "4  (28.2, -96.8)    31.444414  "
      ]
     },
     "execution_count": 33,
     "metadata": {},
     "output_type": "execute_result"
    }
   ],
   "source": [
    "#remove lat lon separate fields\n",
    "del data_pred['Lat']\n",
    "del data_pred['Lon']\n",
    "\n",
    "#distance field calculation (km)\n",
    "loc_lst = data_pred.Location.values.tolist()\n",
    "id_lst = data_pred.ID.values.tolist()\n",
    "distance = []\n",
    "\n",
    "for i in range(len(data_pred)):\n",
    "    if id_lst[i] == id_lst[i-1]: #if current id is the same as previous(same hurricane)\n",
    "        try:\n",
    "            loc1 = loc_lst[i-1]\n",
    "            loc2 = loc_lst[i]\n",
    "            dist = hs.haversine(loc1,loc2) #distance calculation in Km\n",
    "            distance.append(dist)\n",
    "        except:\n",
    "            distance.append(np.nan)  \n",
    "    else: \n",
    "        distance.append(np.nan)\n",
    "\n",
    "data_pred['Distance_km'] = distance\n",
    "data_pred.head()"
   ]
  },
  {
   "cell_type": "markdown",
   "metadata": {},
   "source": [
    "Distance has been calculated using the haversine module (package to calculate distances between coordinates). Therefore, the speed feature (in km/h) can now be accordingly calculated."
   ]
  },
  {
   "cell_type": "code",
   "execution_count": 34,
   "metadata": {},
   "outputs": [
    {
     "data": {
      "text/html": [
       "<div>\n",
       "<style scoped>\n",
       "    .dataframe tbody tr th:only-of-type {\n",
       "        vertical-align: middle;\n",
       "    }\n",
       "\n",
       "    .dataframe tbody tr th {\n",
       "        vertical-align: top;\n",
       "    }\n",
       "\n",
       "    .dataframe thead th {\n",
       "        text-align: right;\n",
       "    }\n",
       "</style>\n",
       "<table border=\"1\" class=\"dataframe\">\n",
       "  <thead>\n",
       "    <tr style=\"text-align: right;\">\n",
       "      <th></th>\n",
       "      <th>ID</th>\n",
       "      <th>Timestamp</th>\n",
       "      <th>Maximum Wind</th>\n",
       "      <th>Minimum Pressure</th>\n",
       "      <th>Location</th>\n",
       "      <th>Distance_km</th>\n",
       "      <th>Avg_Speed</th>\n",
       "    </tr>\n",
       "  </thead>\n",
       "  <tbody>\n",
       "    <tr>\n",
       "      <th>0</th>\n",
       "      <td>AL011851</td>\n",
       "      <td>1851-06-25 00:00:00</td>\n",
       "      <td>80.0</td>\n",
       "      <td>NaN</td>\n",
       "      <td>(28.0, -94.8)</td>\n",
       "      <td>NaN</td>\n",
       "      <td>NaN</td>\n",
       "    </tr>\n",
       "    <tr>\n",
       "      <th>1</th>\n",
       "      <td>AL011851</td>\n",
       "      <td>1851-06-25 06:00:00</td>\n",
       "      <td>80.0</td>\n",
       "      <td>NaN</td>\n",
       "      <td>(28.0, -95.4)</td>\n",
       "      <td>58.907598</td>\n",
       "      <td>9.817933</td>\n",
       "    </tr>\n",
       "    <tr>\n",
       "      <th>2</th>\n",
       "      <td>AL011851</td>\n",
       "      <td>1851-06-25 12:00:00</td>\n",
       "      <td>80.0</td>\n",
       "      <td>NaN</td>\n",
       "      <td>(28.0, -96.0)</td>\n",
       "      <td>58.907598</td>\n",
       "      <td>9.817933</td>\n",
       "    </tr>\n",
       "    <tr>\n",
       "      <th>3</th>\n",
       "      <td>AL011851</td>\n",
       "      <td>1851-06-25 18:00:00</td>\n",
       "      <td>80.0</td>\n",
       "      <td>NaN</td>\n",
       "      <td>(28.1, -96.5)</td>\n",
       "      <td>50.311046</td>\n",
       "      <td>8.385174</td>\n",
       "    </tr>\n",
       "    <tr>\n",
       "      <th>4</th>\n",
       "      <td>AL011851</td>\n",
       "      <td>1851-06-25 21:00:00</td>\n",
       "      <td>80.0</td>\n",
       "      <td>NaN</td>\n",
       "      <td>(28.2, -96.8)</td>\n",
       "      <td>31.444414</td>\n",
       "      <td>5.240736</td>\n",
       "    </tr>\n",
       "  </tbody>\n",
       "</table>\n",
       "</div>"
      ],
      "text/plain": [
       "         ID           Timestamp  Maximum Wind  Minimum Pressure  \\\n",
       "0  AL011851 1851-06-25 00:00:00          80.0               NaN   \n",
       "1  AL011851 1851-06-25 06:00:00          80.0               NaN   \n",
       "2  AL011851 1851-06-25 12:00:00          80.0               NaN   \n",
       "3  AL011851 1851-06-25 18:00:00          80.0               NaN   \n",
       "4  AL011851 1851-06-25 21:00:00          80.0               NaN   \n",
       "\n",
       "        Location  Distance_km  Avg_Speed  \n",
       "0  (28.0, -94.8)          NaN        NaN  \n",
       "1  (28.0, -95.4)    58.907598   9.817933  \n",
       "2  (28.0, -96.0)    58.907598   9.817933  \n",
       "3  (28.1, -96.5)    50.311046   8.385174  \n",
       "4  (28.2, -96.8)    31.444414   5.240736  "
      ]
     },
     "execution_count": 34,
     "metadata": {},
     "output_type": "execute_result"
    }
   ],
   "source": [
    "#speed calculation\n",
    "dists = data_pred.Distance_km.values.tolist()\n",
    "speed = []\n",
    "\n",
    "for i in range(len(data_pred)):\n",
    "    if id_lst[i] == id_lst[i-1]: #if current id is the same as previous(same hurricane)\n",
    "        try:\n",
    "            speed_value = dists[i] / 6 #distance value divided by 6h -> speed in km/h\n",
    "            speed.append(speed_value)\n",
    "        except:\n",
    "            speed.append(np.nan)  \n",
    "    else: \n",
    "        speed.append(np.nan)\n",
    "\n",
    "data_pred['Avg_Speed'] = speed\n",
    "data_pred.head()"
   ]
  },
  {
   "cell_type": "markdown",
   "metadata": {},
   "source": [
    "Location are distance are not relevant attributes anymore for the prediction dataframe, since they were created with the only aim of being able to calculate the speed of each registered movement."
   ]
  },
  {
   "cell_type": "code",
   "execution_count": 35,
   "metadata": {},
   "outputs": [],
   "source": [
    "#delete location & distance columns from prediction dataframe\n",
    "del data_pred['Location']\n",
    "del data_pred['Distance_km']"
   ]
  },
  {
   "cell_type": "markdown",
   "metadata": {},
   "source": [
    "Having created and selected the main features for this prediction problem, it is time to check the correlation between features, in order to chose the appropiate subsequent machine learning techniques. For this, three different correlation methods will be used in order to truly check this property."
   ]
  },
  {
   "cell_type": "code",
   "execution_count": 36,
   "metadata": {},
   "outputs": [
    {
     "data": {
      "text/html": [
       "<div>\n",
       "<style scoped>\n",
       "    .dataframe tbody tr th:only-of-type {\n",
       "        vertical-align: middle;\n",
       "    }\n",
       "\n",
       "    .dataframe tbody tr th {\n",
       "        vertical-align: top;\n",
       "    }\n",
       "\n",
       "    .dataframe thead th {\n",
       "        text-align: right;\n",
       "    }\n",
       "</style>\n",
       "<table border=\"1\" class=\"dataframe\">\n",
       "  <thead>\n",
       "    <tr style=\"text-align: right;\">\n",
       "      <th></th>\n",
       "      <th>Maximum Wind</th>\n",
       "      <th>Minimum Pressure</th>\n",
       "      <th>Avg_Speed</th>\n",
       "    </tr>\n",
       "  </thead>\n",
       "  <tbody>\n",
       "    <tr>\n",
       "      <th>Maximum Wind</th>\n",
       "      <td>1.000000</td>\n",
       "      <td>-0.925678</td>\n",
       "      <td>0.028818</td>\n",
       "    </tr>\n",
       "    <tr>\n",
       "      <th>Minimum Pressure</th>\n",
       "      <td>-0.925678</td>\n",
       "      <td>1.000000</td>\n",
       "      <td>-0.051641</td>\n",
       "    </tr>\n",
       "    <tr>\n",
       "      <th>Avg_Speed</th>\n",
       "      <td>0.028818</td>\n",
       "      <td>-0.051641</td>\n",
       "      <td>1.000000</td>\n",
       "    </tr>\n",
       "  </tbody>\n",
       "</table>\n",
       "</div>"
      ],
      "text/plain": [
       "                  Maximum Wind  Minimum Pressure  Avg_Speed\n",
       "Maximum Wind          1.000000         -0.925678   0.028818\n",
       "Minimum Pressure     -0.925678          1.000000  -0.051641\n",
       "Avg_Speed             0.028818         -0.051641   1.000000"
      ]
     },
     "execution_count": 36,
     "metadata": {},
     "output_type": "execute_result"
    }
   ],
   "source": [
    "#checking data correlation\n",
    "data_pred.corr(method='pearson')"
   ]
  },
  {
   "cell_type": "code",
   "execution_count": 37,
   "metadata": {},
   "outputs": [
    {
     "data": {
      "text/html": [
       "<div>\n",
       "<style scoped>\n",
       "    .dataframe tbody tr th:only-of-type {\n",
       "        vertical-align: middle;\n",
       "    }\n",
       "\n",
       "    .dataframe tbody tr th {\n",
       "        vertical-align: top;\n",
       "    }\n",
       "\n",
       "    .dataframe thead th {\n",
       "        text-align: right;\n",
       "    }\n",
       "</style>\n",
       "<table border=\"1\" class=\"dataframe\">\n",
       "  <thead>\n",
       "    <tr style=\"text-align: right;\">\n",
       "      <th></th>\n",
       "      <th>Maximum Wind</th>\n",
       "      <th>Minimum Pressure</th>\n",
       "      <th>Avg_Speed</th>\n",
       "    </tr>\n",
       "  </thead>\n",
       "  <tbody>\n",
       "    <tr>\n",
       "      <th>Maximum Wind</th>\n",
       "      <td>1.000000</td>\n",
       "      <td>-0.767965</td>\n",
       "      <td>0.038085</td>\n",
       "    </tr>\n",
       "    <tr>\n",
       "      <th>Minimum Pressure</th>\n",
       "      <td>-0.767965</td>\n",
       "      <td>1.000000</td>\n",
       "      <td>-0.040170</td>\n",
       "    </tr>\n",
       "    <tr>\n",
       "      <th>Avg_Speed</th>\n",
       "      <td>0.038085</td>\n",
       "      <td>-0.040170</td>\n",
       "      <td>1.000000</td>\n",
       "    </tr>\n",
       "  </tbody>\n",
       "</table>\n",
       "</div>"
      ],
      "text/plain": [
       "                  Maximum Wind  Minimum Pressure  Avg_Speed\n",
       "Maximum Wind          1.000000         -0.767965   0.038085\n",
       "Minimum Pressure     -0.767965          1.000000  -0.040170\n",
       "Avg_Speed             0.038085         -0.040170   1.000000"
      ]
     },
     "execution_count": 37,
     "metadata": {},
     "output_type": "execute_result"
    }
   ],
   "source": [
    "data_pred.corr(method='kendall')"
   ]
  },
  {
   "cell_type": "code",
   "execution_count": 38,
   "metadata": {},
   "outputs": [
    {
     "data": {
      "text/html": [
       "<div>\n",
       "<style scoped>\n",
       "    .dataframe tbody tr th:only-of-type {\n",
       "        vertical-align: middle;\n",
       "    }\n",
       "\n",
       "    .dataframe tbody tr th {\n",
       "        vertical-align: top;\n",
       "    }\n",
       "\n",
       "    .dataframe thead th {\n",
       "        text-align: right;\n",
       "    }\n",
       "</style>\n",
       "<table border=\"1\" class=\"dataframe\">\n",
       "  <thead>\n",
       "    <tr style=\"text-align: right;\">\n",
       "      <th></th>\n",
       "      <th>Maximum Wind</th>\n",
       "      <th>Minimum Pressure</th>\n",
       "      <th>Avg_Speed</th>\n",
       "    </tr>\n",
       "  </thead>\n",
       "  <tbody>\n",
       "    <tr>\n",
       "      <th>Maximum Wind</th>\n",
       "      <td>1.000000</td>\n",
       "      <td>-0.903831</td>\n",
       "      <td>0.055782</td>\n",
       "    </tr>\n",
       "    <tr>\n",
       "      <th>Minimum Pressure</th>\n",
       "      <td>-0.903831</td>\n",
       "      <td>1.000000</td>\n",
       "      <td>-0.060497</td>\n",
       "    </tr>\n",
       "    <tr>\n",
       "      <th>Avg_Speed</th>\n",
       "      <td>0.055782</td>\n",
       "      <td>-0.060497</td>\n",
       "      <td>1.000000</td>\n",
       "    </tr>\n",
       "  </tbody>\n",
       "</table>\n",
       "</div>"
      ],
      "text/plain": [
       "                  Maximum Wind  Minimum Pressure  Avg_Speed\n",
       "Maximum Wind          1.000000         -0.903831   0.055782\n",
       "Minimum Pressure     -0.903831          1.000000  -0.060497\n",
       "Avg_Speed             0.055782         -0.060497   1.000000"
      ]
     },
     "execution_count": 38,
     "metadata": {},
     "output_type": "execute_result"
    }
   ],
   "source": [
    "data_pred.corr(method='spearman')"
   ]
  },
  {
   "cell_type": "markdown",
   "metadata": {},
   "source": [
    "In this case, the only significant correlation we find is the one between Maximum Wind and Minimum Pressure. However, for the feature to predict (speed), there is no significant correlated feature. According to this, a linear model cannot be used since it will fail due to the lack of correlated features. Therefore, the prediction problem (avg speed prediction in the next movement) will be tackled with <b> non-linear techniques </b>. "
   ]
  },
  {
   "cell_type": "markdown",
   "metadata": {},
   "source": [
    "Most of the ML algorightms and neural networks do not deal good with NaN values. In this case and as the last part of the feature engineering, this problem must be approached. It is basically present in two features: Minimum Pressure and Speed. <br> For Min Pressure, since it is highly negatively correlated with Maximum Wind and it has a bit more than 30 thousand NaN values, we can easily drop this attribute. Also, because it has no correlation with speed at all. <br>Regarding Speed, each first hurricane movement starts with a NaN speed. Therefore, the easiest and most practical way to deal with it (so the prediction methods do not get affected) is to delete the rows with null speed values (delete each first movement). By doing this, the algorithm will be able to fit a model and be trained accordingly."
   ]
  },
  {
   "cell_type": "code",
   "execution_count": 39,
   "metadata": {},
   "outputs": [],
   "source": [
    "#delete Min Pressure\n",
    "del data_pred['Minimum Pressure']"
   ]
  },
  {
   "cell_type": "code",
   "execution_count": 40,
   "metadata": {},
   "outputs": [
    {
     "data": {
      "text/html": [
       "<div>\n",
       "<style scoped>\n",
       "    .dataframe tbody tr th:only-of-type {\n",
       "        vertical-align: middle;\n",
       "    }\n",
       "\n",
       "    .dataframe tbody tr th {\n",
       "        vertical-align: top;\n",
       "    }\n",
       "\n",
       "    .dataframe thead th {\n",
       "        text-align: right;\n",
       "    }\n",
       "</style>\n",
       "<table border=\"1\" class=\"dataframe\">\n",
       "  <thead>\n",
       "    <tr style=\"text-align: right;\">\n",
       "      <th></th>\n",
       "      <th>ID</th>\n",
       "      <th>Timestamp</th>\n",
       "      <th>Max_Wind</th>\n",
       "      <th>Avg_Speed</th>\n",
       "    </tr>\n",
       "  </thead>\n",
       "  <tbody>\n",
       "    <tr>\n",
       "      <th>1</th>\n",
       "      <td>AL011851</td>\n",
       "      <td>1851-06-25 06:00:00</td>\n",
       "      <td>80.0</td>\n",
       "      <td>9.817933</td>\n",
       "    </tr>\n",
       "    <tr>\n",
       "      <th>2</th>\n",
       "      <td>AL011851</td>\n",
       "      <td>1851-06-25 12:00:00</td>\n",
       "      <td>80.0</td>\n",
       "      <td>9.817933</td>\n",
       "    </tr>\n",
       "    <tr>\n",
       "      <th>3</th>\n",
       "      <td>AL011851</td>\n",
       "      <td>1851-06-25 18:00:00</td>\n",
       "      <td>80.0</td>\n",
       "      <td>8.385174</td>\n",
       "    </tr>\n",
       "    <tr>\n",
       "      <th>4</th>\n",
       "      <td>AL011851</td>\n",
       "      <td>1851-06-25 21:00:00</td>\n",
       "      <td>80.0</td>\n",
       "      <td>5.240736</td>\n",
       "    </tr>\n",
       "    <tr>\n",
       "      <th>5</th>\n",
       "      <td>AL011851</td>\n",
       "      <td>1851-06-26 00:00:00</td>\n",
       "      <td>70.0</td>\n",
       "      <td>3.266553</td>\n",
       "    </tr>\n",
       "  </tbody>\n",
       "</table>\n",
       "</div>"
      ],
      "text/plain": [
       "         ID           Timestamp  Max_Wind  Avg_Speed\n",
       "1  AL011851 1851-06-25 06:00:00      80.0   9.817933\n",
       "2  AL011851 1851-06-25 12:00:00      80.0   9.817933\n",
       "3  AL011851 1851-06-25 18:00:00      80.0   8.385174\n",
       "4  AL011851 1851-06-25 21:00:00      80.0   5.240736\n",
       "5  AL011851 1851-06-26 00:00:00      70.0   3.266553"
      ]
     },
     "execution_count": 40,
     "metadata": {},
     "output_type": "execute_result"
    }
   ],
   "source": [
    "#delete NaN values\n",
    "data_pred = data_pred.dropna()\n",
    "#renaming Maximum Wind, so it doesnt contain a white space\n",
    "data_pred = data_pred.rename(columns={'Maximum Wind' : 'Max_Wind'})\n",
    "data_pred.head()"
   ]
  },
  {
   "cell_type": "markdown",
   "metadata": {},
   "source": [
    "## 3. Prediction: Average Speed of the next hurricane movement. "
   ]
  },
  {
   "cell_type": "markdown",
   "metadata": {},
   "source": [
    "Continuing with the workflow, this is the point in which the already prepared data must be feed into two Machine Learning techniques in order to solve the aforementioned prediction problem and assess and evaluate the performance between these models. According to this, a more traditional algorithm will be first used (SuperVectorRegressor) and a neural network approach will be afterwards implemented. "
   ]
  },
  {
   "cell_type": "markdown",
   "metadata": {},
   "source": [
    "### 3.1. Technique: Super Vector Regressor (SVR)"
   ]
  },
  {
   "cell_type": "markdown",
   "metadata": {},
   "source": [
    "(algo explanation)"
   ]
  },
  {
   "cell_type": "markdown",
   "metadata": {},
   "source": [
    "#### Normalize and Split data"
   ]
  },
  {
   "cell_type": "code",
   "execution_count": 41,
   "metadata": {},
   "outputs": [],
   "source": [
    "#feature scaling\n",
    "scalerx = preprocessing.MinMaxScaler()\n",
    "scalery = preprocessing.MinMaxScaler()\n",
    "X = scalerx.fit_transform(data_pred.Max_Wind.values.reshape(-1,1))\n",
    "y = scalery.fit_transform(data_pred.Avg_Speed.values.reshape(-1,1))\n"
   ]
  },
  {
   "cell_type": "markdown",
   "metadata": {},
   "source": [
    "Split data between training and testing data. In this case, 90% of the data will be for training and 10% for testing. "
   ]
  },
  {
   "cell_type": "code",
   "execution_count": 42,
   "metadata": {},
   "outputs": [],
   "source": [
    "#split between train and test data\n",
    "X_train, X_test, y_train, y_test = train_test_split(X, y, test_size = 0.10, random_state=42)"
   ]
  },
  {
   "cell_type": "markdown",
   "metadata": {},
   "source": [
    "Time to train the model."
   ]
  },
  {
   "cell_type": "code",
   "execution_count": 43,
   "metadata": {},
   "outputs": [
    {
     "data": {
      "text/plain": [
       "SVR()"
      ]
     },
     "execution_count": 43,
     "metadata": {},
     "output_type": "execute_result"
    }
   ],
   "source": [
    "#using a non linear kernel for the model\n",
    "SVR_model = SVR(kernel='rbf') \n",
    "SVR_model.fit(X_train, y_train.ravel())"
   ]
  },
  {
   "cell_type": "markdown",
   "metadata": {},
   "source": [
    "Prediction comes now (using the test data)."
   ]
  },
  {
   "cell_type": "code",
   "execution_count": 44,
   "metadata": {},
   "outputs": [
    {
     "data": {
      "text/plain": [
       "array([0.14111852, 0.14067205, 0.13520767, ..., 0.13979415, 0.14111852,\n",
       "       0.14213819])"
      ]
     },
     "execution_count": 44,
     "metadata": {},
     "output_type": "execute_result"
    }
   ],
   "source": [
    "y_pred = SVR_model.predict(X_test)\n",
    "y_pred"
   ]
  },
  {
   "cell_type": "markdown",
   "metadata": {},
   "source": [
    "Model evaluation"
   ]
  },
  {
   "cell_type": "code",
   "execution_count": 45,
   "metadata": {},
   "outputs": [
    {
     "name": "stdout",
     "output_type": "stream",
     "text": [
      "Root mean squared error: 0.076614495774063\n",
      "Mean absolute error: 0.059468336057056176\n"
     ]
    }
   ],
   "source": [
    "#using different evaluation indicators\n",
    "mae = mean_absolute_error(y_test, y_pred)\n",
    "mse = mean_squared_error(y_test, y_pred)\n",
    "rmse = np.sqrt(mse)\n",
    "print('Root mean squared error:',  rmse)\n",
    "print('Mean absolute error:',  mae)"
   ]
  },
  {
   "cell_type": "code",
   "execution_count": 46,
   "metadata": {
    "scrolled": true
   },
   "outputs": [
    {
     "data": {
      "text/html": [
       "<div>\n",
       "<style scoped>\n",
       "    .dataframe tbody tr th:only-of-type {\n",
       "        vertical-align: middle;\n",
       "    }\n",
       "\n",
       "    .dataframe tbody tr th {\n",
       "        vertical-align: top;\n",
       "    }\n",
       "\n",
       "    .dataframe thead th {\n",
       "        text-align: right;\n",
       "    }\n",
       "</style>\n",
       "<table border=\"1\" class=\"dataframe\">\n",
       "  <thead>\n",
       "    <tr style=\"text-align: right;\">\n",
       "      <th></th>\n",
       "      <th>Speed_real</th>\n",
       "      <th>Speed_Predicted</th>\n",
       "    </tr>\n",
       "  </thead>\n",
       "  <tbody>\n",
       "    <tr>\n",
       "      <th>0</th>\n",
       "      <td>16.398964</td>\n",
       "      <td>26.126364</td>\n",
       "    </tr>\n",
       "    <tr>\n",
       "      <th>1</th>\n",
       "      <td>46.111425</td>\n",
       "      <td>26.043704</td>\n",
       "    </tr>\n",
       "    <tr>\n",
       "      <th>2</th>\n",
       "      <td>24.055913</td>\n",
       "      <td>25.032041</td>\n",
       "    </tr>\n",
       "    <tr>\n",
       "      <th>3</th>\n",
       "      <td>9.400729</td>\n",
       "      <td>22.583544</td>\n",
       "    </tr>\n",
       "    <tr>\n",
       "      <th>4</th>\n",
       "      <td>20.385765</td>\n",
       "      <td>25.032041</td>\n",
       "    </tr>\n",
       "    <tr>\n",
       "      <th>...</th>\n",
       "      <td>...</td>\n",
       "      <td>...</td>\n",
       "    </tr>\n",
       "    <tr>\n",
       "      <th>4724</th>\n",
       "      <td>7.639394</td>\n",
       "      <td>24.019891</td>\n",
       "    </tr>\n",
       "    <tr>\n",
       "      <th>4725</th>\n",
       "      <td>42.720713</td>\n",
       "      <td>25.568475</td>\n",
       "    </tr>\n",
       "    <tr>\n",
       "      <th>4726</th>\n",
       "      <td>10.870715</td>\n",
       "      <td>25.881172</td>\n",
       "    </tr>\n",
       "    <tr>\n",
       "      <th>4727</th>\n",
       "      <td>77.386289</td>\n",
       "      <td>26.126364</td>\n",
       "    </tr>\n",
       "    <tr>\n",
       "      <th>4728</th>\n",
       "      <td>16.431971</td>\n",
       "      <td>26.315142</td>\n",
       "    </tr>\n",
       "  </tbody>\n",
       "</table>\n",
       "<p>4729 rows × 2 columns</p>\n",
       "</div>"
      ],
      "text/plain": [
       "      Speed_real  Speed_Predicted\n",
       "0      16.398964        26.126364\n",
       "1      46.111425        26.043704\n",
       "2      24.055913        25.032041\n",
       "3       9.400729        22.583544\n",
       "4      20.385765        25.032041\n",
       "...          ...              ...\n",
       "4724    7.639394        24.019891\n",
       "4725   42.720713        25.568475\n",
       "4726   10.870715        25.881172\n",
       "4727   77.386289        26.126364\n",
       "4728   16.431971        26.315142\n",
       "\n",
       "[4729 rows x 2 columns]"
      ]
     },
     "execution_count": 46,
     "metadata": {},
     "output_type": "execute_result"
    }
   ],
   "source": [
    "r = scalery.inverse_transform(y_test.reshape(-1,1))\n",
    "t = scalery.inverse_transform(y_pred.reshape(-1,1))\n",
    "data_col = {'Speed_real' : r.flatten(), 'Speed_Predicted' : t.flatten()}\n",
    "\n",
    "\n",
    "df_pred = pd.DataFrame(data_col)\n",
    "df_pred"
   ]
  },
  {
   "cell_type": "markdown",
   "metadata": {},
   "source": [
    "### 3.2. Neural Network Approach: Multi-Layer Perceptron"
   ]
  },
  {
   "cell_type": "markdown",
   "metadata": {},
   "source": [
    "algo explanation - why chosen?"
   ]
  },
  {
   "cell_type": "markdown",
   "metadata": {},
   "source": [
    "train NN regressor"
   ]
  },
  {
   "cell_type": "markdown",
   "metadata": {},
   "source": [
    "https://www.machinecurve.com/index.php/2019/07/30/creating-an-mlp-for-regression-with-keras/\n"
   ]
  }
 ],
 "metadata": {
  "kernelspec": {
   "display_name": "Python 3",
   "language": "python",
   "name": "python3"
  },
  "language_info": {
   "codemirror_mode": {
    "name": "ipython",
    "version": 3
   },
   "file_extension": ".py",
   "mimetype": "text/x-python",
   "name": "python",
   "nbconvert_exporter": "python",
   "pygments_lexer": "ipython3",
   "version": "3.8.5"
  }
 },
 "nbformat": 4,
 "nbformat_minor": 4
}
